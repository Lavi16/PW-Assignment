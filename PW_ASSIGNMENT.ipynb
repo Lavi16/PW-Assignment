{
  "nbformat": 4,
  "nbformat_minor": 0,
  "metadata": {
    "colab": {
      "provenance": []
    },
    "kernelspec": {
      "name": "python3",
      "display_name": "Python 3"
    },
    "language_info": {
      "name": "python"
    }
  },
  "cells": [
    {
      "cell_type": "markdown",
      "source": [
        "Que 1-> What are data structures, and why are they important?\n",
        "\n",
        "Ans ->Data structures are ways of organizing and storing data in a computer so that they can be accessed and modified efficiently. They are important because they allow us to manage large amounts of data in a systematic way, making it easier to perform operations like searching, sorting, and manipulating data. Different data structures are suited for different tasks, and choosing the right one can significantly impact the performance and efficiency of a program."
      ],
      "metadata": {
        "id": "h_T_63Mao0Op"
      }
    },
    {
      "cell_type": "markdown",
      "metadata": {
        "id": "a5f68547"
      },
      "source": [
        "Que 2-> Explain the difference between mutable and immutable data types with examples.\n",
        "\n",
        "Ans -> **Mutable Data Types:**\n",
        "\n",
        "Mutable data types are those whose values can be changed after they are created. When you modify a mutable object, you are changing the object in place.\n",
        "\n",
        "Examples of mutable data types in Python include:\n",
        "\n",
        "*   **Lists:** Ordered collections of items that can be changed.\n",
        "*   **Dictionaries:** Unordered collections of key-value pairs that can be changed.\n",
        "*   **Sets:** Unordered collections of unique items that can be changed."
      ]
    },
    {
      "cell_type": "code",
      "metadata": {
        "colab": {
          "base_uri": "https://localhost:8080/"
        },
        "id": "2dbae717",
        "outputId": "e21b625c-e058-4980-bc2f-85101a1730e6"
      },
      "source": [
        "# Example of a mutable list\n",
        "my_list = [1, 2, 3]\n",
        "print(\"Original list:\", my_list)\n",
        "my_list.append(4)\n",
        "print(\"List after modification:\", my_list)"
      ],
      "execution_count": null,
      "outputs": [
        {
          "output_type": "stream",
          "name": "stdout",
          "text": [
            "Original list: [1, 2, 3]\n",
            "List after modification: [1, 2, 3, 4]\n"
          ]
        }
      ]
    },
    {
      "cell_type": "markdown",
      "metadata": {
        "id": "f1824200"
      },
      "source": [
        "**Immutable Data Types:**\n",
        "\n",
        "Immutable data types are those whose values cannot be changed after they are created. When you perform an operation that appears to modify an immutable object, you are actually creating a new object with the modified value.\n",
        "\n",
        "Examples of immutable data types in Python include:\n",
        "\n",
        "*   **Integers:** Whole numbers.\n",
        "*   **Floats:** Decimal numbers.\n",
        "*   **Strings:** Sequences of characters.\n",
        "*   **Tuples:** Ordered, immutable collections of items."
      ]
    },
    {
      "cell_type": "code",
      "metadata": {
        "colab": {
          "base_uri": "https://localhost:8080/"
        },
        "id": "c4d2140a",
        "outputId": "738b8be6-bfb0-4c87-da53-4d7c52603f1b"
      },
      "source": [
        "# Example of an immutable string\n",
        "my_string = \"hello\"\n",
        "print(\"Original string:\", my_string)\n",
        "# This will create a new string \"hello world\"\n",
        "new_string = my_string + \" world\"\n",
        "print(\"New string after 'modification':\", new_string)\n",
        "print(\"Original string remains unchanged:\", my_string)\n",
        "\n",
        "# Example of an immutable tuple\n",
        "my_tuple = (1, 2, 3)\n",
        "print(\"Original tuple:\", my_tuple)\n",
        "# This will raise a TypeError because tuples are immutable\n",
        "try:\n",
        "  my_tuple[0] = 5\n",
        "except TypeError as e:\n",
        "  print(\"Error trying to modify tuple:\", e)"
      ],
      "execution_count": null,
      "outputs": [
        {
          "output_type": "stream",
          "name": "stdout",
          "text": [
            "Original string: hello\n",
            "New string after 'modification': hello world\n",
            "Original string remains unchanged: hello\n",
            "Original tuple: (1, 2, 3)\n",
            "Error trying to modify tuple: 'tuple' object does not support item assignment\n"
          ]
        }
      ]
    },
    {
      "cell_type": "markdown",
      "metadata": {
        "id": "70073032"
      },
      "source": [
        "Que 3-> What are the main differences between lists and tuples in Python?\n",
        "\n",
        "Ans ->The main differences between lists and tuples in Python are:\n",
        "\n",
        "1.  **Mutability:** Lists are mutable, meaning their elements can be changed after creation. Tuples are immutable, meaning their elements cannot be changed after creation.\n",
        "2.  **Syntax:** Lists are created using square brackets `[]`, while tuples are created using parentheses `()`.\n",
        "3.  **Performance:** Tuples are generally faster than lists because of their immutable nature.\n",
        "4.  **Use Cases:** Lists are used for collections of items that may need to be modified, while tuples are used for collections of items that should not be changed, such as coordinates or database records."
      ]
    },
    {
      "cell_type": "code",
      "metadata": {
        "colab": {
          "base_uri": "https://localhost:8080/"
        },
        "id": "716921f1",
        "outputId": "7a65a2e7-ad48-435c-fc2c-36cdb3fd9fb7"
      },
      "source": [
        "# Example of a list (mutable)\n",
        "my_list = [1, 2, 3]\n",
        "my_list[0] = 5  # Modify an element\n",
        "print(\"Modified list:\", my_list)\n",
        "\n",
        "# Example of a tuple (immutable)\n",
        "my_tuple = (1, 2, 3)\n",
        "try:\n",
        "  my_tuple[0] = 5  # Attempt to modify an element (will raise a TypeError)\n",
        "except TypeError as e:\n",
        "  print(\"Error trying to modify tuple:\", e)"
      ],
      "execution_count": null,
      "outputs": [
        {
          "output_type": "stream",
          "name": "stdout",
          "text": [
            "Modified list: [5, 2, 3]\n",
            "Error trying to modify tuple: 'tuple' object does not support item assignment\n"
          ]
        }
      ]
    },
    {
      "cell_type": "markdown",
      "metadata": {
        "id": "36710f4d"
      },
      "source": [
        "Que 4-> Describe how dictionaries store data.\n",
        "\n",
        "Ans -> Dictionaries in Python are unordered collections of items. They store data in key-value pairs, where each key is unique and associated with a specific value. Think of it like a real-world dictionary where you look up a word (the key) to find its definition (the value).\n",
        "\n",
        "Key characteristics of dictionaries:\n",
        "\n",
        "*   **Unordered:** Unlike lists or tuples, dictionaries do not maintain the order of insertion of items in older versions of Python (prior to 3.7). In newer versions, they do maintain insertion order.\n",
        "*   **Keys must be unique:** Each key in a dictionary must be unique. If you try to add a key that already exists, the new value will overwrite the old one.\n",
        "*   **Keys must be immutable:** Dictionary keys must be of an immutable data type, such as strings, numbers, or tuples. Mutable types like lists or sets cannot be used as keys.\n",
        "*   **Values can be of any data type:** The values in a dictionary can be of any data type, including other dictionaries, lists, or custom objects."
      ]
    },
    {
      "cell_type": "markdown",
      "metadata": {
        "id": "81bec69d"
      },
      "source": [
        "You might choose to use a set instead of a list in Python for several reasons, primarily related to the unique nature of set elements and their efficient operations. Here's a breakdown:\n",
        "\n",
        "**Key Differences and Advantages of Sets over Lists:**\n",
        "\n",
        "1.  **Uniqueness:** Sets automatically store only unique elements. If you add a duplicate element to a set, it will simply be ignored. Lists, on the other hand, can contain duplicate elements. This makes sets ideal for tasks where you need to ensure that each item in a collection appears only once, such as finding unique items in a list or removing duplicates.\n",
        "\n",
        "2.  **Membership Testing (Checking if an item is in the collection):** Checking if an element exists in a set is generally much faster than checking if it exists in a list, especially for large collections. This is because sets are implemented using hash tables, which allow for average O(1) time complexity for membership testing, while lists have O(n) time complexity (linear search).\n",
        "\n",
        "3.  **Mathematical Set Operations:** Sets provide built-in methods for performing common mathematical set operations like union, intersection, difference, and symmetric difference. These operations are often more concise and efficient when using sets compared to trying to achieve the same results with lists.\n",
        "\n",
        "4.  **Order:** Sets are unordered collections. The elements in a set do not have a defined order, and the order may change when you modify the set. Lists, however, are ordered collections, and the order of elements is preserved. If the order of elements is important, you should use a list.\n",
        "\n",
        "**When to use a Set:**\n",
        "\n",
        "*   When you need a collection of unique items.\n",
        "*   When you frequently need to check for the presence of an item in the collection.\n",
        "*   When you need to perform mathematical set operations.\n",
        "*   When the order of elements does not matter.\n",
        "\n",
        "**When to use a List:**\n",
        "\n",
        "*   When you need a collection that can contain duplicate items.\n",
        "*   When the order of elements is important.\n",
        "*   When you need to access elements by their index.\n",
        "*   When you need to modify the collection frequently by adding, removing, or changing elements at specific positions."
      ]
    },
    {
      "cell_type": "code",
      "metadata": {
        "id": "5bd29cb4"
      },
      "source": [
        "# Example demonstrating uniqueness in sets\n",
        "my_list = [1, 2, 2, 3, 4, 4, 5]\n",
        "my_set = set(my_list)\n",
        "print(\"Original list:\", my_list)\n",
        "print(\"Set with unique elements:\", my_set)\n",
        "\n",
        "# Example demonstrating faster membership testing (for larger collections)\n",
        "import time\n",
        "\n",
        "large_list = list(range(1000000))\n",
        "large_set = set(large_list)\n",
        "\n",
        "start_time = time.time()\n",
        "print(999999 in large_list)\n",
        "end_time = time.time()\n",
        "print(f\"Time taken for list membership test: {end_time - start_time} seconds\")\n",
        "\n",
        "start_time = time.time()\n",
        "print(999999 in large_set)\n",
        "end_time = time.time()\n",
        "print(f\"Time taken for set membership test: {end_time - start_time} seconds\")\n",
        "\n",
        "# Example demonstrating set operations\n",
        "set1 = {1, 2, 3, 4}\n",
        "set2 = {3, 4, 5, 6}\n",
        "\n",
        "union_set = set1.union(set2)\n",
        "intersection_set = set1.intersection(set2)\n",
        "difference_set = set1.difference(set2)\n",
        "\n",
        "print(\"Set 1:\", set1)\n",
        "print(\"Set 2:\", set2)\n",
        "print(\"Union:\", union_set)\n",
        "print(\"Intersection:\", intersection_set)\n",
        "print(\"Difference (set1 - set2):\", difference_set)"
      ],
      "execution_count": null,
      "outputs": []
    },
    {
      "cell_type": "markdown",
      "metadata": {
        "id": "58cd19c8"
      },
      "source": [
        "Que 6-> Explain the concept of generators in Python and how they are defined.\n",
        "\n",
        "Ans -> In Python, generators are a simple and powerful tool for creating iterators. They are a special type of function that return an iterator. Unlike normal functions which return a value and then terminate, generators \"yield\" a sequence of values over time.\n",
        "\n",
        "**How Generators Work:**\n",
        "\n",
        "When a generator function is called, it doesn't execute the code inside immediately. Instead, it returns a generator object. This object is an iterator. When `next()` is called on the generator object, the function starts executing until it hits a `yield` statement. The value provided with `yield` is returned, and the state of the function is saved. The next time `next()` is called, the function resumes execution from where it left off, with the same state, until it hits another `yield` statement or finishes. If the function finishes without hitting a `yield` statement, a `StopIteration` exception is raised.\n",
        "\n",
        "**Defining Generators:**\n",
        "\n",
        "Generators are defined like regular functions, but instead of using the `return` keyword to return a value, they use the `yield` keyword. Any function that contains at least one `yield` statement is a generator function.\n",
        "\n",
        "Here's a simple example of a generator function:"
      ]
    },
    {
      "cell_type": "code",
      "metadata": {
        "colab": {
          "base_uri": "https://localhost:8080/"
        },
        "id": "b80b3e0a",
        "outputId": "2556f234-c260-4327-8554-f45c1a70101f"
      },
      "source": [
        "def my_generator():\n",
        "  \"\"\"A simple generator function.\"\"\"\n",
        "  print(\"First item\")\n",
        "  yield 1\n",
        "\n",
        "  print(\"Second item\")\n",
        "  yield 2\n",
        "\n",
        "  print(\"Third item\")\n",
        "  yield 3\n",
        "\n",
        "# Create a generator object\n",
        "gen = my_generator()\n",
        "\n",
        "# Iterate through the items yielded by the generator\n",
        "print(next(gen))\n",
        "print(next(gen))\n",
        "print(next(gen))\n",
        "\n",
        "# Trying to get the next item after exhaustion raises StopIteration\n",
        "try:\n",
        "    next(gen)\n",
        "except StopIteration:\n",
        "    print(\"Generator is exhausted.\")"
      ],
      "execution_count": null,
      "outputs": [
        {
          "output_type": "stream",
          "name": "stdout",
          "text": [
            "First item\n",
            "1\n",
            "Second item\n",
            "2\n",
            "Third item\n",
            "3\n",
            "Generator is exhausted.\n"
          ]
        }
      ]
    },
    {
      "cell_type": "markdown",
      "metadata": {
        "id": "65eb5877"
      },
      "source": [
        "Que 5-> What are iterators in Python and how do they differ from iterables?\n",
        "\n",
        "Ans -> In Python, the terms \"iterable\" and \"iterator\" are closely related but represent distinct concepts:\n",
        "\n",
        "**Iterable:**\n",
        "\n",
        "An iterable is any Python object that can return its members one at a time. In simpler terms, an iterable is something you can \"loop over\" or \"iterate through\". This includes:\n",
        "\n",
        "*   **Lists:** `[1, 2, 3]`\n",
        "*   **Tuples:** `(1, 2, 3)`\n",
        "*   **Strings:** `\"hello\"`\n",
        "*   **Dictionaries:** `{\"a\": 1, \"b\": 2}`\n",
        "*   **Sets:** `{1, 2, 3}`\n",
        "*   **Files:** When you read a file line by line.\n",
        "\n",
        "You can identify an iterable object if it has an `__iter__()` method, which returns an iterator.\n",
        "\n",
        "**Iterator:**\n",
        "\n",
        "An iterator is an object that represents a stream of data. It's an object that can be iterated upon. An iterator must have two methods:\n",
        "\n",
        "*   `__iter__()`: Returns the iterator object itself.\n",
        "*   `__next__()`: Returns the next item from the stream. If there are no more items, it raises a `StopIteration` exception.\n",
        "\n",
        "You get an iterator from an iterable by calling the `iter()` function on the iterable.\n",
        "\n",
        "**Key Differences:**\n",
        "\n",
        "1.  **Purpose:** An iterable is a container that can be iterated over, while an iterator is an object that keeps track of the current position during iteration.\n",
        "2.  **Methods:** Iterables have an `__iter__()` method. Iterators have both `__iter__()` and `__next__()` methods.\n",
        "3.  **State:** Iterables don't maintain state during iteration. Iterators do; they remember where they are in the sequence.\n",
        "4.  **Reusability:** An iterable can be iterated over multiple times (each time a new iterator is created). An iterator can only be iterated over once. Once all items have been consumed from an iterator, it's exhausted.\n",
        "\n",
        "**Analogy:**\n",
        "\n",
        "Think of an iterable like a book. You can read the book (iterate through it) multiple times. To read the book, you need a bookmark (an iterator) to keep track of which page you are on. Each time you read the book, you use a new bookmark. The bookmark itself (the iterator) can only go forward through the pages once.\n",
        "\n",
        "Here's a simple code example:"
      ]
    },
    {
      "cell_type": "code",
      "metadata": {
        "colab": {
          "base_uri": "https://localhost:8080/"
        },
        "id": "df02dd54",
        "outputId": "899e5d56-2d8b-419d-dcce-ed31a028dadf"
      },
      "source": [
        "# Example of an iterable (a list)\n",
        "my_list = [1, 2, 3, 4]\n",
        "\n",
        "# Get an iterator from the iterable\n",
        "my_iterator = iter(my_list)\n",
        "\n",
        "# Use the iterator to get the next elements\n",
        "print(next(my_iterator)) # Output: 1\n",
        "print(next(my_iterator)) # Output: 2\n",
        "print(next(my_iterator)) # Output: 3\n",
        "print(next(my_iterator)) # Output: 4\n",
        "\n",
        "# Trying to get the next element after exhaustion raises StopIteration\n",
        "try:\n",
        "    next(my_iterator)\n",
        "except StopIteration:\n",
        "    print(\"Iterator is exhausted.\")\n",
        "\n",
        "# The original list (iterable) can be iterated again\n",
        "for item in my_list:\n",
        "    print(item)"
      ],
      "execution_count": null,
      "outputs": [
        {
          "output_type": "stream",
          "name": "stdout",
          "text": [
            "1\n",
            "2\n",
            "3\n",
            "4\n",
            "Iterator is exhausted.\n",
            "1\n",
            "2\n",
            "3\n",
            "4\n"
          ]
        }
      ]
    },
    {
      "cell_type": "markdown",
      "metadata": {
        "id": "6a64ab0d"
      },
      "source": [
        "Que 9-> Explain the purpose and usage of the `map()` function in Python.\n",
        "\n",
        "Ans -> The `map()` function in Python is a built-in function that applies a given function to all items of an iterable (like a list, tuple, or string) and returns an iterator that yields the results. It's a concise way to perform the same operation on every element of a sequence without using an explicit `for` loop.\n",
        "\n",
        "**Purpose of `map()`:**\n",
        "\n",
        "The main purpose of `map()` is to transform elements of an iterable. It takes each element from the input iterable, applies the specified function to it, and collects the results. This is particularly useful when you have a list of items and want to create a new list where each item is the result of some operation on the original item.\n",
        "\n",
        "**Usage of `map()`:**\n",
        "\n",
        "The syntax of the `map()` function is:\n",
        "\n",
        "`map(function, iterable, ...)`\n",
        "\n",
        "*   `function`: The function to apply to each item of the iterable(s).\n",
        "*   `iterable`: One or more iterables whose elements will be passed to the function.\n",
        "\n",
        "`map()` returns a map object, which is an iterator. To get the results as a list or other sequence type, you typically convert the map object using functions like `list()`, `tuple()`, or `set()`.\n",
        "\n",
        "Here's a simple example:"
      ]
    },
    {
      "cell_type": "code",
      "metadata": {
        "colab": {
          "base_uri": "https://localhost:8080/"
        },
        "id": "299f6a9d",
        "outputId": "a2250fc7-18f5-43d0-d3b2-68f203c729ea"
      },
      "source": [
        "# Define a function to square a number\n",
        "def square(x):\n",
        "  return x**2\n",
        "\n",
        "# Create a list of numbers\n",
        "numbers = [1, 2, 3, 4, 5]\n",
        "\n",
        "# Use map() to apply the square function to each number\n",
        "squared_numbers_map = map(square, numbers)\n",
        "\n",
        "# Convert the map object to a list to see the results\n",
        "squared_numbers_list = list(squared_numbers_map)\n",
        "\n",
        "print(\"Original numbers:\", numbers)\n",
        "print(\"Squared numbers (using map):\", squared_numbers_list)"
      ],
      "execution_count": null,
      "outputs": [
        {
          "output_type": "stream",
          "name": "stdout",
          "text": [
            "Original numbers: [1, 2, 3, 4, 5]\n",
            "Squared numbers (using map): [1, 4, 9, 16, 25]\n"
          ]
        }
      ]
    },
    {
      "cell_type": "markdown",
      "metadata": {
        "id": "e70058bf"
      },
      "source": [
        "**Using `map()` with Lambda Functions:**\n",
        "\n",
        "`map()` is often used in conjunction with lambda functions, especially for simple transformations. This allows for very concise code."
      ]
    },
    {
      "cell_type": "code",
      "metadata": {
        "colab": {
          "base_uri": "https://localhost:8080/"
        },
        "id": "afd54d0c",
        "outputId": "ad976a4a-462a-4d78-bced-d772b4e7aebb"
      },
      "source": [
        "# Using map() with a lambda function to square numbers\n",
        "numbers = [1, 2, 3, 4, 5]\n",
        "squared_numbers_lambda = list(map(lambda x: x**2, numbers))\n",
        "\n",
        "print(\"Original numbers:\", numbers)\n",
        "print(\"Squared numbers (using map and lambda):\", squared_numbers_lambda)"
      ],
      "execution_count": null,
      "outputs": [
        {
          "output_type": "stream",
          "name": "stdout",
          "text": [
            "Original numbers: [1, 2, 3, 4, 5]\n",
            "Squared numbers (using map and lambda): [1, 4, 9, 16, 25]\n"
          ]
        }
      ]
    },
    {
      "cell_type": "markdown",
      "metadata": {
        "id": "dc53e8c1"
      },
      "source": [
        "**Using `map()` with Multiple Iterables:**\n",
        "\n",
        "`map()` can also take multiple iterables as arguments. In this case, the function you provide should accept the same number of arguments as the number of iterables. `map()` will then take corresponding elements from each iterable and pass them to the function until one of the iterables is exhausted."
      ]
    },
    {
      "cell_type": "code",
      "metadata": {
        "colab": {
          "base_uri": "https://localhost:8080/"
        },
        "id": "2e4d88f4",
        "outputId": "b68a82b7-45a1-410e-8dff-5666460a49bc"
      },
      "source": [
        "# Define a function to add two numbers\n",
        "def add(x, y):\n",
        "  return x + y\n",
        "\n",
        "# Create two lists\n",
        "list1 = [1, 2, 3]\n",
        "list2 = [4, 5, 6]\n",
        "\n",
        "# Use map() to add corresponding elements from both lists\n",
        "sum_list = list(map(add, list1, list2))\n",
        "\n",
        "print(\"List 1:\", list1)\n",
        "print(\"List 2:\", list2)\n",
        "print(\"Sum of corresponding elements (using map):\", sum_list)"
      ],
      "execution_count": null,
      "outputs": [
        {
          "output_type": "stream",
          "name": "stdout",
          "text": [
            "List 1: [1, 2, 3]\n",
            "List 2: [4, 5, 6]\n",
            "Sum of corresponding elements (using map): [5, 7, 9]\n"
          ]
        }
      ]
    },
    {
      "cell_type": "markdown",
      "metadata": {
        "id": "ff4a880e"
      },
      "source": [
        "Que 8-> What is a lambda function in Python and when is it typically used?\n",
        "\n",
        "Ans -> In Python, a lambda function is a small, anonymous function. It's called \"anonymous\" because it doesn't have a standard function name defined using the `def` keyword. Lambda functions are also known as lambda expressions.\n",
        "\n",
        "**Defining Lambda Functions:**\n",
        "\n",
        "Lambda functions are defined using the `lambda` keyword, followed by arguments, a colon, and a single expression. The syntax is:\n",
        "\n",
        "`lambda arguments: expression`\n",
        "\n",
        "Here's a simple example:"
      ]
    },
    {
      "cell_type": "code",
      "metadata": {
        "colab": {
          "base_uri": "https://localhost:8080/"
        },
        "id": "a81a4f5d",
        "outputId": "b491ae35-43da-4cc8-e18e-aa2aeb6aadc9"
      },
      "source": [
        "# A regular function to add two numbers\n",
        "def add(x, y):\n",
        "  return x + y\n",
        "\n",
        "print(add(2, 3)) # Output: 5\n",
        "\n",
        "# The equivalent lambda function\n",
        "lambda_add = lambda x, y: x + y\n",
        "\n",
        "print(lambda_add(2, 3)) # Output: 5"
      ],
      "execution_count": null,
      "outputs": [
        {
          "output_type": "stream",
          "name": "stdout",
          "text": [
            "5\n",
            "5\n"
          ]
        }
      ]
    },
    {
      "cell_type": "markdown",
      "metadata": {
        "id": "46ee6008"
      },
      "source": [
        "**Key Characteristics of Lambda Functions:**\n",
        "\n",
        "*   **Anonymous:** They don't have a name.\n",
        "*   **Single Expression:** They can only contain a single expression, which is implicitly returned.\n",
        "*   **Concise:** They are often used for simple, short functions.\n",
        "*   **Cannot contain multiple statements:** Unlike regular functions, they cannot have loops, conditional statements (if/else), or multiple lines of code.\n",
        "\n",
        "**When are Lambda Functions Typically Used?**\n",
        "\n",
        "Lambda functions are typically used in situations where you need a small, simple function for a short period and you don't want to define a full function using `def`. Common use cases include:\n",
        "\n",
        "1.  **With Higher-Order Functions:** Lambda functions are frequently used with higher-order functions that take other functions as arguments. Examples include:\n",
        "    *   `map()`: Applies a function to all items in an iterable.\n",
        "    *   `filter()`: Filters items from an iterable based on a function that returns True or False.\n",
        "    *   `sorted()`: Sorts an iterable based on a key function.\n",
        "\n",
        "2.  **As Callbacks:** In some programming contexts, you might need to pass a small function as a callback to another function or method.\n",
        "\n",
        "3.  **In GUI Programming:** Lambda functions are sometimes used for handling events in graphical user interfaces.\n",
        "\n",
        "Here are examples of using lambda functions with `map()`, `filter()`, and `sorted()`:"
      ]
    },
    {
      "cell_type": "code",
      "metadata": {
        "colab": {
          "base_uri": "https://localhost:8080/"
        },
        "id": "71827565",
        "outputId": "8033a45f-6071-45ca-bb00-28487c5e69ce"
      },
      "source": [
        "# Using lambda with map()\n",
        "my_list = [1, 2, 3, 4, 5]\n",
        "squared_list = list(map(lambda x: x**2, my_list))\n",
        "print(\"Original list:\", my_list)\n",
        "print(\"Squared list (using map and lambda):\", squared_list)\n",
        "\n",
        "# Using lambda with filter()\n",
        "my_list = [1, 2, 3, 4, 5, 6]\n",
        "even_numbers = list(filter(lambda x: x % 2 == 0, my_list))\n",
        "print(\"Original list:\", my_list)\n",
        "print(\"Even numbers (using filter and lambda):\", even_numbers)\n",
        "\n",
        "# Using lambda with sorted()\n",
        "my_list = [(1, 'b'), (3, 'a'), (2, 'c')]\n",
        "sorted_list = sorted(my_list, key=lambda item: item[1])\n",
        "print(\"Original list:\", my_list)\n",
        "print(\"Sorted list by second element (using sorted and lambda):\", sorted_list)"
      ],
      "execution_count": null,
      "outputs": [
        {
          "output_type": "stream",
          "name": "stdout",
          "text": [
            "Original list: [1, 2, 3, 4, 5]\n",
            "Squared list (using map and lambda): [1, 4, 9, 16, 25]\n",
            "Original list: [1, 2, 3, 4, 5, 6]\n",
            "Even numbers (using filter and lambda): [2, 4, 6]\n",
            "Original list: [(1, 'b'), (3, 'a'), (2, 'c')]\n",
            "Sorted list by second element (using sorted and lambda): [(3, 'a'), (1, 'b'), (2, 'c')]\n"
          ]
        }
      ]
    },
    {
      "cell_type": "markdown",
      "metadata": {
        "id": "ff2c834f"
      },
      "source": [
        "Que 7-> What are the advantages of using generators over regular functions?\n",
        "\n",
        "Ans -> Using generators in Python offers several advantages, particularly when dealing with large sequences of data or when you need to generate data on the fly. Here are the main benefits:\n",
        "\n",
        "1.  **Memory Efficiency:** Generators produce items one by one as needed, rather than creating the entire sequence in memory at once. This is especially beneficial for large datasets, as it can significantly reduce memory usage and prevent memory errors. Regular functions that return a list, for instance, would build the entire list in memory before returning it.\n",
        "\n",
        "2.  **Lazy Evaluation:** Generators use lazy evaluation, meaning they only compute the next value when it's requested (via `next()` or iteration). This can save computation time and resources if you only need to process a portion of a large sequence.\n",
        "\n",
        "3.  **Infinite Sequences:** Generators can be used to represent infinite sequences of data. Since they generate values on demand, they don't need to store an infinite amount of data in memory. A regular function returning a list of an infinite sequence would be impossible.\n",
        "\n",
        "4.  **Readability and Simplicity:** For certain types of iterative tasks, generators can make the code more readable and concise compared to writing a custom iterator class with `__iter__()` and `__next__()` methods. The `yield` keyword makes the function's intent clear – it's generating a sequence of values.\n",
        "\n",
        "5.  **Pipelining:** Generators can be easily chained together to create data processing pipelines. The output of one generator can be the input of another, allowing for efficient and modular data manipulation.\n",
        "\n",
        "**When to use Generators:**\n",
        "\n",
        "*   When you need to process a large amount of data that doesn't fit into memory.\n",
        "*   When you need to generate a sequence of data on the fly, without storing the entire sequence.\n",
        "*   When you are working with potentially infinite sequences.\n",
        "*   When you want a more memory-efficient and performant way to create iterators.\n",
        "\n",
        "In essence, generators are ideal for situations where you need to iterate over a sequence but don't need to have the entire sequence available in memory at once."
      ]
    },
    {
      "cell_type": "markdown",
      "metadata": {
        "id": "9669af20"
      },
      "source": [
        "Que 10-> What is the difference between `map()`, `reduce()`, and `filter()` functions in Python?\n",
        "\n",
        "Ans -> `map()`, `filter()`, and `reduce()` are functional programming tools in Python that operate on iterables. While they all process elements of an iterable, they do so with different objectives:\n",
        "\n",
        "1.  **`map()`:**\n",
        "    *   **Purpose:** Applies a given function to each item of an iterable and returns an iterator that yields the results. Its purpose is transformation.\n",
        "    *   **Output:** An iterator yielding the transformed items. The output iterable has the same number of items as the input iterable(s).\n",
        "    *   **Example:** Squaring each number in a list.\n",
        "\n",
        "2.  **`filter()`:**\n",
        "    *   **Purpose:** Constructs an iterator from elements of an iterable for which a function returns true. Its purpose is selection or filtering.\n",
        "    *   **Output:** An iterator yielding only the items for which the function returned `True`. The output iterable may have fewer items than the input iterable.\n",
        "    *   **Example:** Getting only the even numbers from a list.\n",
        "\n",
        "3.  **`reduce()`:**\n",
        "    *   **Purpose:** Applies a function of two arguments cumulatively to the items of an iterable, from left to right, so as to reduce the iterable to a single value. Its purpose is aggregation.\n",
        "    *   **Output:** A single value, the result of the cumulative application of the function.\n",
        "    *   **Note:** `reduce()` is not a built-in function in Python 3 and is part of the `functools` module.\n",
        "    *   **Example:** Summing all the numbers in a list.\n",
        "\n",
        "Here's a table summarizing the key differences:\n",
        "\n",
        "| Feature     | `map()`                               | `filter()`                                  | `reduce()`                                     |\n",
        "| :---------- | :------------------------------------ | :------------------------------------------ | :--------------------------------------------- |\n",
        "| **Purpose** | Transform elements                    | Select elements based on a condition        | Aggregate elements into a single value         |\n",
        "| **Function**| Takes one or more iterables           | Takes one iterable                          | Takes one iterable                             |\n",
        "| **Output**  | Iterator with transformed elements    | Iterator with filtered elements             | Single value                                   |\n",
        "| **Return Type** | Iterator (needs conversion to list/tuple etc.) | Iterator (needs conversion to list/tuple etc.) | Single value                                   |\n",
        "| **Number of Outputs** | Same as input iterable(s)             | Less than or equal to input iterable        | Always one                                     |\n",
        "| **Location**| Built-in                              | Built-in                                    | `functools` module (in Python 3)             |\n",
        "\n",
        "Here are code examples for each:"
      ]
    },
    {
      "cell_type": "code",
      "metadata": {
        "colab": {
          "base_uri": "https://localhost:8080/"
        },
        "id": "a7eeb31b",
        "outputId": "cc433f0d-f676-4c1d-8568-447c34aa8928"
      },
      "source": [
        "# Example with map()\n",
        "numbers = [1, 2, 3, 4, 5]\n",
        "squared_numbers = list(map(lambda x: x**2, numbers))\n",
        "print(\"Original numbers:\", numbers)\n",
        "print(\"Squared numbers (using map):\", squared_numbers)\n",
        "\n",
        "# Example with filter()\n",
        "numbers = [1, 2, 3, 4, 5, 6]\n",
        "even_numbers = list(filter(lambda x: x % 2 == 0, numbers))\n",
        "print(\"Original numbers:\", numbers)\n",
        "print(\"Even numbers (using filter):\", even_numbers)\n",
        "\n",
        "# Example with reduce()\n",
        "from functools import reduce\n",
        "\n",
        "numbers = [1, 2, 3, 4, 5]\n",
        "sum_of_numbers = reduce(lambda x, y: x + y, numbers)\n",
        "print(\"Original numbers:\", numbers)\n",
        "print(\"Sum of numbers (using reduce):\", sum_of_numbers)\n",
        "\n",
        "# Example with reduce() and an initial value\n",
        "numbers = [1, 2, 3, 4, 5]\n",
        "sum_with_initial = reduce(lambda x, y: x + y, numbers, 10)\n",
        "print(\"Original numbers:\", numbers)\n",
        "print(\"Sum of numbers with initial value 10 (using reduce):\", sum_with_initial)"
      ],
      "execution_count": null,
      "outputs": [
        {
          "output_type": "stream",
          "name": "stdout",
          "text": [
            "Original numbers: [1, 2, 3, 4, 5]\n",
            "Squared numbers (using map): [1, 4, 9, 16, 25]\n",
            "Original numbers: [1, 2, 3, 4, 5, 6]\n",
            "Even numbers (using filter): [2, 4, 6]\n",
            "Original numbers: [1, 2, 3, 4, 5]\n",
            "Sum of numbers (using reduce): 15\n",
            "Original numbers: [1, 2, 3, 4, 5]\n",
            "Sum of numbers with initial value 10 (using reduce): 25\n"
          ]
        }
      ]
    },
    {
      "cell_type": "markdown",
      "metadata": {
        "id": "977607ef"
      },
      "source": [
        "Que 11-> Using pen & Paper write the internal mechanism for sum operation using  reduce function on this given list:[47,11,42,13];\n",
        "\n",
        "Ans -> Let's trace the internal mechanism of the `reduce()` function for a sum operation on the list `[47, 11, 42, 13]`.\n",
        "\n",
        "The `reduce()` function from the `functools` module takes a function of two arguments and applies it cumulatively to the items of an iterable, from left to right. In this case, the function is summation (`lambda x, y: x + y`).\n",
        "\n",
        "Here's how it works step-by-step:\n",
        "\n",
        "1.  **Initialization:** `reduce()` takes the first two elements of the list, `47` and `11`, and applies the summation function to them.\n",
        "    *   Current result: `47 + 11 = 58`\n",
        "\n",
        "2.  **First Iteration:** `reduce()` takes the result from the previous step (`58`) and the next element in the list (`42`) and applies the summation function.\n",
        "    *   Current result: `58 + 42 = 100`\n",
        "\n",
        "3.  **Second Iteration:** `reduce()` takes the result from the previous step (`100`) and the next element in the list (`13`) and applies the summation function.\n",
        "    *   Current result: `100 + 13 = 113`\n",
        "\n",
        "4.  **Completion:** There are no more elements left in the list. The final result of the cumulative operation is returned.\n",
        "\n",
        "Therefore, the final result of `reduce(lambda x, y: x + y, [47, 11, 42, 13])` is `113`.\n"
      ]
    },
    {
      "cell_type": "markdown",
      "source": [
        "# ***Practical Questions***"
      ],
      "metadata": {
        "id": "MIFnM7sIgP94"
      }
    },
    {
      "cell_type": "markdown",
      "source": [
        " #1 Write a Python function that takes a list of numbers as input and returns the sum of all even numbers in\n",
        "the list."
      ],
      "metadata": {
        "id": "R7rAo3w4guGP"
      }
    },
    {
      "cell_type": "code",
      "metadata": {
        "colab": {
          "base_uri": "https://localhost:8080/"
        },
        "id": "bc33656e",
        "outputId": "f81bbea3-8d72-49ce-d1ee-211a8eed0ba2"
      },
      "source": [
        "def sum_of_even_numbers(numbers):\n",
        "  \"\"\"\n",
        "  Calculates the sum of all even numbers in a list.\n",
        "\n",
        "  Args:\n",
        "    numbers: A list of numbers.\n",
        "\n",
        "  Returns:\n",
        "    The sum of all even numbers in the list.\n",
        "  \"\"\"\n",
        "  even_sum = 0\n",
        "  for number in numbers:\n",
        "    if number % 2 == 0:\n",
        "      even_sum += number\n",
        "  return even_sum\n",
        "\n",
        "# Example usage:\n",
        "my_list = [1, 2, 3, 4, 5, 6, 7, 8, 9, 10]\n",
        "result = sum_of_even_numbers(my_list)\n",
        "print(f\"The sum of even numbers in the list {my_list} is: {result}\")"
      ],
      "execution_count": null,
      "outputs": [
        {
          "output_type": "stream",
          "name": "stdout",
          "text": [
            "The sum of even numbers in the list [1, 2, 3, 4, 5, 6, 7, 8, 9, 10] is: 30\n"
          ]
        }
      ]
    },
    {
      "cell_type": "markdown",
      "source": [
        "#2 Create a Python function that accepts a string and returns the reverse of that string."
      ],
      "metadata": {
        "id": "vvSi-Y88gwUo"
      }
    },
    {
      "cell_type": "code",
      "metadata": {
        "colab": {
          "base_uri": "https://localhost:8080/"
        },
        "id": "b5b6f3a9",
        "outputId": "b6d7cb0b-aee6-4672-e1d0-cfe9d4822136"
      },
      "source": [
        "def reverse_string(input_string):\n",
        "  \"\"\"\n",
        "  Reverses a given string.\n",
        "\n",
        "  Args:\n",
        "    input_string: The string to reverse.\n",
        "\n",
        "  Returns:\n",
        "    The reversed string.\n",
        "  \"\"\"\n",
        "  return input_string[::-1]\n",
        "\n",
        "# Example usage:\n",
        "my_string = \"Hello, World!\"\n",
        "reversed_string = reverse_string(my_string)\n",
        "print(f\"Original string: {my_string}\")\n",
        "print(f\"Reversed string: {reversed_string}\")"
      ],
      "execution_count": null,
      "outputs": [
        {
          "output_type": "stream",
          "name": "stdout",
          "text": [
            "Original string: Hello, World!\n",
            "Reversed string: !dlroW ,olleH\n"
          ]
        }
      ]
    },
    {
      "cell_type": "markdown",
      "source": [
        "# 3  Implement a Python function that takes a list of integers and returns a new list containing the squares of each number."
      ],
      "metadata": {
        "id": "M19NQnvlg8Mi"
      }
    },
    {
      "cell_type": "code",
      "metadata": {
        "colab": {
          "base_uri": "https://localhost:8080/"
        },
        "id": "c52dd8c8",
        "outputId": "b68e633b-4711-44a3-d5e8-3df8caf8f5a4"
      },
      "source": [
        "def square_numbers(numbers):\n",
        "  \"\"\"\n",
        "  Squares each number in a list and returns a new list.\n",
        "\n",
        "  Args:\n",
        "    numbers: A list of integers.\n",
        "\n",
        "  Returns:\n",
        "    A new list containing the squares of each number.\n",
        "  \"\"\"\n",
        "  squared_list = []\n",
        "  for number in numbers:\n",
        "    squared_list.append(number**2)\n",
        "  return squared_list\n",
        "\n",
        "# Example usage:\n",
        "my_list = [1, 2, 3, 4, 5]\n",
        "squared_numbers = square_numbers(my_list)\n",
        "print(f\"Original list: {my_list}\")\n",
        "print(f\"List with squared numbers: {squared_numbers}\")"
      ],
      "execution_count": null,
      "outputs": [
        {
          "output_type": "stream",
          "name": "stdout",
          "text": [
            "Original list: [1, 2, 3, 4, 5]\n",
            "List with squared numbers: [1, 4, 9, 16, 25]\n"
          ]
        }
      ]
    },
    {
      "cell_type": "markdown",
      "source": [
        "#4 Write a Python function that checks if a given number is prime or not from 1 to 200."
      ],
      "metadata": {
        "id": "6b1SQ7XyhJaC"
      }
    },
    {
      "cell_type": "code",
      "metadata": {
        "colab": {
          "base_uri": "https://localhost:8080/"
        },
        "id": "03102311",
        "outputId": "671f4cf3-211e-4afc-8977-531b109efb4e"
      },
      "source": [
        "def is_prime(number):\n",
        "  \"\"\"\n",
        "  Checks if a given number is prime.\n",
        "\n",
        "  Args:\n",
        "    number: An integer.\n",
        "\n",
        "  Returns:\n",
        "    True if the number is prime, False otherwise.\n",
        "  \"\"\"\n",
        "  if number <= 1:\n",
        "    return False  # Numbers less than or equal to 1 are not prime\n",
        "  for i in range(2, int(number**0.5) + 1):\n",
        "    if number % i == 0:\n",
        "      return False  # If the number is divisible by any number in this range, it's not prime\n",
        "  return True  # If no divisors are found, the number is prime\n",
        "\n",
        "# Example usage for numbers from 1 to 200:\n",
        "print(\"Checking prime numbers from 1 to 200:\")\n",
        "for num in range(1, 21): # Check a smaller range for demonstration\n",
        "  if is_prime(num):\n",
        "    print(f\"{num} is a prime number\")\n",
        "  else:\n",
        "    print(f\"{num} is not a prime number\")\n",
        "\n",
        "# You can test with any number up to 200:\n",
        "test_number1 = 199\n",
        "test_number2 = 100\n",
        "print(f\"\\nIs {test_number1} prime? {is_prime(test_number1)}\")\n",
        "print(f\"Is {test_number2} prime? {is_prime(test_number2)}\")"
      ],
      "execution_count": null,
      "outputs": [
        {
          "output_type": "stream",
          "name": "stdout",
          "text": [
            "Checking prime numbers from 1 to 200:\n",
            "1 is not a prime number\n",
            "2 is a prime number\n",
            "3 is a prime number\n",
            "4 is not a prime number\n",
            "5 is a prime number\n",
            "6 is not a prime number\n",
            "7 is a prime number\n",
            "8 is not a prime number\n",
            "9 is not a prime number\n",
            "10 is not a prime number\n",
            "11 is a prime number\n",
            "12 is not a prime number\n",
            "13 is a prime number\n",
            "14 is not a prime number\n",
            "15 is not a prime number\n",
            "16 is not a prime number\n",
            "17 is a prime number\n",
            "18 is not a prime number\n",
            "19 is a prime number\n",
            "20 is not a prime number\n",
            "\n",
            "Is 199 prime? True\n",
            "Is 100 prime? False\n"
          ]
        }
      ]
    },
    {
      "cell_type": "markdown",
      "source": [
        "#5  Create an iterator class in Python that generates the Fibonacci sequence up to a specified number of terms."
      ],
      "metadata": {
        "id": "jubDcJnIhRG3"
      }
    },
    {
      "cell_type": "code",
      "metadata": {
        "colab": {
          "base_uri": "https://localhost:8080/"
        },
        "id": "6d5f3a1a",
        "outputId": "aabda7b6-9f77-41e1-c421-60e726717c2a"
      },
      "source": [
        "class FibonacciIterator:\n",
        "  \"\"\"\n",
        "  An iterator class that generates the Fibonacci sequence up to a specified number of terms.\n",
        "  \"\"\"\n",
        "  def __init__(self, num_terms):\n",
        "    self.num_terms = num_terms\n",
        "    self.count = 0\n",
        "    self.a = 0\n",
        "    self.b = 1\n",
        "\n",
        "  def __iter__(self):\n",
        "    return self\n",
        "\n",
        "  def __next__(self):\n",
        "    if self.count < self.num_terms:\n",
        "      if self.count == 0:\n",
        "        self.count += 1\n",
        "        return self.a\n",
        "      elif self.count == 1:\n",
        "        self.count += 1\n",
        "        return self.b\n",
        "      else:\n",
        "        next_fib = self.a + self.b\n",
        "        self.a = self.b\n",
        "        self.b = next_fib\n",
        "        self.count += 1\n",
        "        return next_fib\n",
        "    else:\n",
        "      raise StopIteration\n",
        "\n",
        "# Example usage:\n",
        "fib_iterator = FibonacciIterator(10)\n",
        "\n",
        "print(\"Fibonacci sequence up to 10 terms:\")\n",
        "for number in fib_iterator:\n",
        "  print(number)"
      ],
      "execution_count": null,
      "outputs": [
        {
          "output_type": "stream",
          "name": "stdout",
          "text": [
            "Fibonacci sequence up to 10 terms:\n",
            "0\n",
            "1\n",
            "1\n",
            "2\n",
            "3\n",
            "5\n",
            "8\n",
            "13\n",
            "21\n",
            "34\n"
          ]
        }
      ]
    },
    {
      "cell_type": "markdown",
      "source": [
        "#6 Write a generator function in Python that yields the powers of 2 up to a given exponent."
      ],
      "metadata": {
        "id": "TyaUimYNhgb2"
      }
    },
    {
      "cell_type": "code",
      "metadata": {
        "colab": {
          "base_uri": "https://localhost:8080/"
        },
        "id": "ebe98d38",
        "outputId": "dcafbc67-e717-4d98-9a25-684611cb852e"
      },
      "source": [
        "def powers_of_two(exponent):\n",
        "  \"\"\"\n",
        "  Generates powers of 2 up to a given exponent.\n",
        "\n",
        "  Args:\n",
        "    exponent: The maximum exponent (inclusive).\n",
        "\n",
        "  Yields:\n",
        "    The powers of 2 from 2^0 up to 2^exponent.\n",
        "  \"\"\"\n",
        "  for i in range(exponent + 1):\n",
        "    yield 2**i\n",
        "\n",
        "# Example usage:\n",
        "powers = powers_of_two(5)\n",
        "\n",
        "print(\"Powers of 2 up to exponent 5:\")\n",
        "for power in powers:\n",
        "  print(power)\n",
        "\n",
        "# You can also convert the generator to a list\n",
        "powers_list = list(powers_of_two(3))\n",
        "print(\"\\nPowers of 2 up to exponent 3 as a list:\", powers_list)"
      ],
      "execution_count": null,
      "outputs": [
        {
          "output_type": "stream",
          "name": "stdout",
          "text": [
            "Powers of 2 up to exponent 5:\n",
            "1\n",
            "2\n",
            "4\n",
            "8\n",
            "16\n",
            "32\n",
            "\n",
            "Powers of 2 up to exponent 3 as a list: [1, 2, 4, 8]\n"
          ]
        }
      ]
    },
    {
      "cell_type": "markdown",
      "source": [
        "#7 Implement a generator function that reads a file line by line and yields each line as a string."
      ],
      "metadata": {
        "id": "y86bMU5bhtV3"
      }
    },
    {
      "cell_type": "code",
      "metadata": {
        "id": "7fa28351"
      },
      "source": [
        "import os\n",
        "\n",
        "def read_file_line_by_line(filepath):\n",
        "  \"\"\"\n",
        "  Reads a file line by line and yields each line as a string.\n",
        "\n",
        "  Args:\n",
        "    filepath: The path to the file.\n",
        "\n",
        "  Yields:\n",
        "    Each line of the file as a string.\n",
        "  \"\"\"\n",
        "  if not os.path.exists(filepath):\n",
        "    print(f\"Error: File not found at {filepath}\")\n",
        "    return # Stop the generator if the file doesn't exist\n",
        "\n",
        "  with open(filepath, 'r') as f:\n",
        "    for line in f:\n",
        "      yield line.strip() # Yield each line, removing leading/trailing whitespace\n",
        "\n",
        "# Example usage:\n",
        "# You would call this function with the path to your file\n",
        "# For example:\n",
        "# for line in read_file_line_by_line(\"my_text_file.txt\"):\n",
        "#   print(line)"
      ],
      "execution_count": null,
      "outputs": []
    },
    {
      "cell_type": "markdown",
      "metadata": {
        "id": "c44c5456"
      },
      "source": [
        "**To test this generator function, you can create a dummy text file in your Colab environment.**\n",
        "\n",
        "You can do this by clicking on the folder icon in the left sidebar, navigating to the desired location (e.g., the main content folder), and then clicking the \"New file\" icon. Name the file (e.g., `my_text_file.txt`) and add some lines of text.\n",
        "\n",
        "Then, replace `\"my_text_file.txt\"` in the example usage with the actual path to the file you created."
      ]
    },
    {
      "cell_type": "markdown",
      "source": [
        "#8 Use a lambda function in Python to sort a list of tuples based on the second element of each tuple.\n"
      ],
      "metadata": {
        "id": "tv7XYmVzh2RM"
      }
    },
    {
      "cell_type": "code",
      "metadata": {
        "colab": {
          "base_uri": "https://localhost:8080/"
        },
        "id": "e3bb8dc6",
        "outputId": "5d7027c4-b816-4d0f-99e7-32ef1ff2575d"
      },
      "source": [
        "# List of tuples\n",
        "my_list = [(1, 'c'), (3, 'a'), (2, 'b')]\n",
        "\n",
        "# Sort the list of tuples based on the second element using a lambda function\n",
        "sorted_list = sorted(my_list, key=lambda item: item[1])\n",
        "\n",
        "print(\"Original list:\", my_list)\n",
        "print(\"Sorted list by second element:\", sorted_list)"
      ],
      "execution_count": null,
      "outputs": [
        {
          "output_type": "stream",
          "name": "stdout",
          "text": [
            "Original list: [(1, 'c'), (3, 'a'), (2, 'b')]\n",
            "Sorted list by second element: [(3, 'a'), (2, 'b'), (1, 'c')]\n"
          ]
        }
      ]
    },
    {
      "cell_type": "markdown",
      "source": [
        "#9  Write a Python program that uses `map()` to convert a list of temperatures from Celsius to Fahrenheit."
      ],
      "metadata": {
        "id": "d1-XSRjniOey"
      }
    },
    {
      "cell_type": "code",
      "metadata": {
        "colab": {
          "base_uri": "https://localhost:8080/"
        },
        "id": "ec13d8e8",
        "outputId": "9026e188-69c3-4cbf-8f70-771e6e1637fe"
      },
      "source": [
        "# Function to convert Celsius to Fahrenheit\n",
        "def celsius_to_fahrenheit(celsius):\n",
        "  return (celsius * 9/5) + 32\n",
        "\n",
        "# List of temperatures in Celsius\n",
        "celsius_temperatures = [0, 10, 20, 30, 40, 50]\n",
        "\n",
        "# Use map() to convert the list to Fahrenheit\n",
        "fahrenheit_temperatures = list(map(celsius_to_fahrenheit, celsius_temperatures))\n",
        "\n",
        "print(\"Celsius temperatures:\", celsius_temperatures)\n",
        "print(\"Fahrenheit temperatures (using map):\", fahrenheit_temperatures)"
      ],
      "execution_count": null,
      "outputs": [
        {
          "output_type": "stream",
          "name": "stdout",
          "text": [
            "Celsius temperatures: [0, 10, 20, 30, 40, 50]\n",
            "Fahrenheit temperatures (using map): [32.0, 50.0, 68.0, 86.0, 104.0, 122.0]\n"
          ]
        }
      ]
    },
    {
      "cell_type": "markdown",
      "source": [
        "# 10  Create a Python program that uses `filter()` to remove all the vowels from a given string."
      ],
      "metadata": {
        "id": "f8__19fFienu"
      }
    },
    {
      "cell_type": "code",
      "metadata": {
        "colab": {
          "base_uri": "https://localhost:8080/"
        },
        "id": "4f897b38",
        "outputId": "25b37944-982f-48e6-d5fc-11a3b284db1a"
      },
      "source": [
        "# Function to check if a character is a vowel\n",
        "def is_not_vowel(char):\n",
        "  vowels = \"aeiouAEIOU\"\n",
        "  return char not in vowels\n",
        "\n",
        "# Given string\n",
        "input_string = \"Hello, World!\"\n",
        "\n",
        "# Use filter() to remove vowels\n",
        "filtered_chars = filter(is_not_vowel, input_string)\n",
        "\n",
        "# Join the filtered characters back into a string\n",
        "result_string = \"\".join(filtered_chars)\n",
        "\n",
        "print(\"Original string:\", input_string)\n",
        "print(\"String after removing vowels:\", result_string)"
      ],
      "execution_count": null,
      "outputs": [
        {
          "output_type": "stream",
          "name": "stdout",
          "text": [
            "Original string: Hello, World!\n",
            "String after removing vowels: Hll, Wrld!\n"
          ]
        }
      ]
    }
  ]
}