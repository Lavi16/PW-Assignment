{
  "nbformat": 4,
  "nbformat_minor": 0,
  "metadata": {
    "colab": {
      "provenance": []
    },
    "kernelspec": {
      "name": "python3",
      "display_name": "Python 3"
    },
    "language_info": {
      "name": "python"
    }
  },
  "cells": [
    {
      "cell_type": "markdown",
      "source": [
        "Que1 -> What are data structures, and why are they important?\n",
        "\n",
        "Ans-> Data structures are ways of organizing and storing data in a computer so that it can be accessed and modified efficiently. They are essential for writing efficient algorithms and programs, as they allow us to manage and manipulate data in a structured manner."
      ],
      "metadata": {
        "id": "YRbpTpZQhdvl"
      }
    },
    {
      "cell_type": "markdown",
      "source": [
        "Que2 -> Explain the difference between mutable and immutable data types with examples?\n",
        "\n",
        "Ans-> Mutable Data Types:\n",
        "\n",
        "Mutable data types are those whose values can be changed after they are created. This means you can modify the object in place without creating a new object.\n",
        "\n",
        "Examples in Python:\n",
        "\n",
        "Lists: You can add, remove, or change elements in a list.\n",
        "my_list = [1, 2, 3]\n",
        "my_list.append(4)\n",
        "print(my_list) # Output: [1, 2, 3, 4]\n",
        "Dictionaries: You can add, remove, or change key-value pairs in a dictionary.\n",
        "my_dict = {'a': 1, 'b': 2}\n",
        "my_dict['c'] = 3\n",
        "print(my_dict) # Output: {'a': 1, 'b': 2, 'c': 3}\n",
        "Sets: You can add or remove elements from a set.\n",
        "my_set = {1, 2, 3}\n",
        "my_set.add(4)\n",
        "print(my_set) # Output: {1, 2, 3, 4}\n",
        "Immutable Data Types:\n",
        "\n",
        "Immutable data types are those whose values cannot be changed after they are created. If you want to modify an immutable object, you have to create a new object with the desired changes.\n",
        "\n",
        "Examples in Python:\n",
        "\n",
        "Strings: You cannot change individual characters in a string. Any operation that seems to modify a string actually creates a new string.\n",
        "my_string = \"hello\"\n",
        "This will raise an error: my_string[0] = 'H'\n",
        "new_string = my_string.replace('h', 'H')\n",
        "print(new_string) # Output: Hello\n",
        "print(my_string) # Output: hello (original string is unchanged)\n",
        "Tuples: You cannot add, remove, or change elements in a tuple.\n",
        "my_tuple = (1, 2, 3)\n",
        "\n",
        " This will raise an error: my_tuple[0] = 4\n",
        "Numbers (integers, floats, etc.): When you perform an operation on a number, a new number object is created.\n",
        "my_number = 5\n",
        "my_number = my_number + 1 # Creates a new integer object with value 6\n",
        "print(my_number) # Output: 6"
      ],
      "metadata": {
        "id": "floWUD3ch86F"
      }
    },
    {
      "cell_type": "markdown",
      "source": [
        "Que3 -> What are the main differences between lists and tuples in Python?\n",
        "\n",
        "Ans -> List:\n",
        "\n",
        "1. Mutable\n",
        "2. Defined by square brackets\n",
        "3. Slower.\n",
        "4. Dynamic Collections\n",
        "5. Can be modified by many methods.\n",
        "\n",
        "Tuples:\n",
        "\n",
        "1. Immutable\n",
        "2. Define by parantheses\n",
        "3. Faster\n",
        "4. Fixed Collection\n",
        "5. Tuples can modified by few options.\n",
        "\n"
      ],
      "metadata": {
        "id": "Hdj5CohklG3F"
      }
    },
    {
      "cell_type": "markdown",
      "source": [
        "Que4 ->  Describe how dictionaries store data?\n",
        "\n",
        "Ans -> Dictionaries in Python are a fundamental data structure that stores data as key-value pairs. This allows for efficient retrieval of values based on their associated keys.\n",
        "\n"
      ],
      "metadata": {
        "id": "Don8Eyroqi6e"
      }
    },
    {
      "cell_type": "markdown",
      "source": [
        "Que5 -> Why might you use a set instead of a list in Python?\n",
        "\n",
        "Ans -> We should use set because:-\n",
        "       \n",
        "       1. We can store items of unique items.\n",
        "       2. We can easily check for the exixtance of the items.\n",
        "       3. We can perform set operations.\n",
        "       4. The order of items doesnot matters.\n",
        "       5. We can modify it easily."
      ],
      "metadata": {
        "id": "8n0F3Q2-q16i"
      }
    },
    {
      "cell_type": "markdown",
      "source": [
        "Que6 -> What is a string in Python, and how is it different from a list?\n",
        "\n",
        "Ans-> A string in Python is a sequence of characters. It's used to represent text.\n",
        "It is different because:-\n",
        "1. String is immutable.\n",
        "2. Strings are sequences of characters. While each character is technically a string of length 1, the string as a whole is treated as a sequence of these character units.\n",
        "3. Strings are specifically designed to represent and manipulate textual data.\n",
        "4. Methods: While there's some overlap in methods that apply to sequences (like indexing and slicing), strings have methods specific to text processing (like find(), isdigit(), split()), and lists have methods specific to list manipulation (like append(), pop(), sort()).\n",
        "5. Memory Efficiency: For sequences of the same data type, strings can sometimes be more memory-efficient than lists because of their immutable nature and the fact that they store a uniform type (characters).\n"
      ],
      "metadata": {
        "id": "X8NeJEO2sasg"
      }
    },
    {
      "cell_type": "markdown",
      "source": [
        "Que7->  How do tuples ensure data integrity in Python?\n",
        "\n",
        "Ans-> Tuples ensure data integrity by being immutable, which prevents accidental modification, contributes to thread safety, and makes the data more predictable. This makes them a suitable choice for storing data that should remain constant."
      ],
      "metadata": {
        "id": "YGl3xd0btdkO"
      }
    },
    {
      "cell_type": "markdown",
      "source": [
        "Que8 ->What is a hash table, and how does it relate to dictionaries in Python?\n",
        "\n",
        "Ans -> A hash table (also known as a hash map or dictionary) is a data structure that implements an associative array or dictionary abstract data type. It's a way to store data in key-value pairs, allowing for very fast retrieval of values based on their associated keys.\n",
        "\n",
        "Python dictionaries are implemented using hash tables. When you create a dictionary and add key-value pairs, Python uses a hash table internally to store this data."
      ],
      "metadata": {
        "id": "s5PjLuJ_uH27"
      }
    },
    {
      "cell_type": "markdown",
      "source": [
        "Que 9-> Can lists contain different data types in Python ?\n",
        "\n",
        "Ans-> Yes, lists in Python can contain elements of different data types. This is one of the key characteristics of Python lists, making them very flexible. For example, a single list can hold integers, strings, floats, and even other lists or objects.\n",
        "\n"
      ],
      "metadata": {
        "id": "AowJNxFNuXf7"
      }
    },
    {
      "cell_type": "markdown",
      "metadata": {
        "id": "84ea9cb9"
      },
      "source": [
        "Que 10-> Explain why strings are immutable in Python?\n",
        "\n",
        "Ans -> Strings are immutable in Python, meaning that once a string object is created, its contents cannot be changed. When you perform operations that appear to modify a string, Python actually creates a *new* string object with the desired changes.\n",
        "\n",
        "There are several reasons for this design choice:\n",
        "\n",
        "1. **Performance:** For certain string operations, immutability can lead to performance optimizations. Python can safely share references to the same string object if they have the same value, as there's no risk of one reference modifying the string and affecting others. This is known as \"string interning.\"\n",
        "2. **Thread Safety:** In multi-threaded environments, immutable objects are inherently thread-safe. Multiple threads can access and read a string simultaneously without the risk of one thread modifying it while another is reading it, which could lead to unexpected behavior or errors.\n",
        "3. **Hashing:** Strings are commonly used as keys in dictionaries. For an object to be used as a dictionary key, it must be hashable, and hashable objects must be immutable. If strings were mutable, their hash value could change, which would break the dictionary's internal structure and make it impossible to retrieve the associated value.\n",
        "4. **Predictability:** Immutability makes code more predictable. You can be confident that a string variable will always hold the same sequence of characters unless you explicitly reassign it to a new string."
      ]
    },
    {
      "cell_type": "markdown",
      "metadata": {
        "id": "159bdf1c"
      },
      "source": [
        "Que 11-> What advantages do dictionaries offer over lists for certain tasks?\n",
        "\n",
        "Ans -> Dictionaries offer several advantages over lists, especially when you need to access data using a specific key rather than an index. Here are some key advantages:\n",
        "\n",
        "1. **Fast Lookups:** Dictionaries provide very fast lookups of values based on their keys. This is because they are implemented using hash tables, which allow for average case O(1) time complexity for retrieval. Lists, on the other hand, require searching through elements by index or value, which can be slower (O(n) in the worst case for value-based search).\n",
        "\n",
        "2. **Meaningful Keys:** Dictionary keys can be descriptive, making your code more readable and understandable. Instead of accessing data by a numerical index like in a list, you can use a meaningful string or number as a key (e.g., `person['name']` instead of `person[0]`).\n",
        "\n",
        "3. **No Specific Order (Generally):** While insertion order is preserved in modern Python versions, dictionaries are not inherently ordered by their keys in the same way that lists are ordered by their indices. This makes them suitable for situations where the order of elements doesn't matter, and you prioritize fast access by key.\n",
        "\n",
        "4. **Representing Relationships:** Dictionaries are excellent for representing key-value relationships, such as a person's attributes (name, age, city) or configuration settings.\n",
        "\n",
        "5. **Mutable and Dynamic:** Like lists, dictionaries are mutable, meaning you can add, remove, or modify key-value pairs after the dictionary is created. They are also dynamic in size.\n",
        "\n"
      ]
    },
    {
      "cell_type": "markdown",
      "metadata": {
        "id": "aaf5d96f"
      },
      "source": [
        "Que 12-> Describe a scenario where using a tuple would be preferable over a list?\n",
        "\n",
        "Ans -> A scenario where using a tuple would be preferable over a list is when you need to store a collection of items that should not change. Tuples are immutable, meaning their elements cannot be modified after creation. This makes them suitable for representing fixed collections of related data, such as:\n",
        "\n",
        "*   **Coordinates:** A point in a 2D or 3D space (e.g., `(x, y)` or `(x, y, z)`). The coordinates of a specific point are fixed.\n",
        "*   **RGB Color Values:** Representing a color using its red, green, and blue components (e.g., `(255, 0, 0)` for red). The color's components are constant.\n",
        "*   **Database Records:** Storing a single record from a database where the order and values of the fields are fixed for that record.\n",
        "*   **Function Arguments/Return Values:** Functions that need to return multiple fixed values can return them as a tuple.\n",
        "\n"
      ]
    },
    {
      "cell_type": "markdown",
      "metadata": {
        "id": "903c913d"
      },
      "source": [
        "Que 13-> How do sets handle duplicate values in Python?\n",
        "\n",
        "Ans -> Sets in Python inherently handle duplicate values by automatically discarding them. When you create a set or add elements to it, any duplicate elements are ignored, and only unique elements are stored. This is a fundamental characteristic of sets and is why they are often used when you need a collection of unique items.\n",
        "\n",
        "For example:"
      ]
    },
    {
      "cell_type": "code",
      "metadata": {
        "colab": {
          "base_uri": "https://localhost:8080/"
        },
        "id": "e972a659",
        "outputId": "04ab2950-6d2b-4795-95a0-4ea8cbeca780"
      },
      "source": [
        "my_set = {1, 2, 3}\n",
        "my_set.add(2)\n",
        "print(my_set)"
      ],
      "execution_count": null,
      "outputs": [
        {
          "output_type": "stream",
          "name": "stdout",
          "text": [
            "{1, 2, 3}\n"
          ]
        }
      ]
    },
    {
      "cell_type": "markdown",
      "metadata": {
        "id": "029c381a"
      },
      "source": [
        "Que 15-> What is a nested dictionary, and give an example of its use case?\n",
        "\n",
        "Ans -> A nested dictionary is a dictionary where the values are themselves dictionaries. This allows you to create hierarchical data structures, where you can organize data in layers.\n",
        "\n",
        "**Use Case Example:**\n",
        "\n",
        "A common use case for nested dictionaries is representing complex data structures like JSON objects or configurations. For example, you could use a nested dictionary to store information about multiple people, where each person's data is stored in their own dictionary, and these individual dictionaries are nested within a main dictionary.\n",
        "\n",
        "Here's an example representing information about students:"
      ]
    },
    {
      "cell_type": "markdown",
      "metadata": {
        "id": "9c4ed33f"
      },
      "source": [
        "Que 16-> Describe the time complexity of accessing elements in a dictionary?\n",
        "\n",
        "Ans -> The time complexity of accessing elements in a dictionary in Python is, on average, **O(1)** (constant time). This means that the time it takes to retrieve a value associated with a key does not significantly increase as the size of the dictionary grows.\n",
        "\n",
        "This efficiency is due to the underlying implementation of dictionaries using **hash tables**. When you access an element using its key, Python calculates the hash value of the key and uses this hash value to quickly locate the corresponding value in memory.\n",
        "\n",
        "However, in the worst-case scenario (which is rare in practice), the time complexity can degrade to **O(n)** (linear time). This can happen in cases of hash collisions, where multiple keys have the same hash value. In such situations, Python may need to linearly search through a small list of elements that share the same hash.\n",
        "\n",
        "Despite the potential for a worst-case scenario, the average case of O(1) makes dictionaries highly efficient for tasks that involve frequent lookups, insertions, and deletions of elements based on their keys. This is a significant advantage over data structures like lists, where accessing an element by value typically requires a linear search with a time complexity of O(n)."
      ]
    },
    {
      "cell_type": "markdown",
      "metadata": {
        "id": "444b20f7"
      },
      "source": [
        "Que 17-> In what situations are lists preferred over dictionaries?\n",
        "\n",
        "Ans -> While dictionaries are excellent for key-value lookups, lists are preferred in situations where:\n",
        "\n",
        "1.  **Order Matters:** Lists maintain the order of elements as they are inserted. If the sequence or position of items is important (e.g., a list of steps in a process, a history of events, or a sequence of data points), a list is the appropriate choice. Dictionaries, while preserving insertion order in modern Python, are not primarily designed for ordered access by index.\n",
        "\n",
        "2.  **You Need to Access Elements by Index:** Lists allow for fast access to elements based on their numerical index (position) using slicing and indexing. If you frequently need to retrieve or modify elements based on their position in the collection, lists are more suitable. Dictionaries are accessed by key, not index.\n",
        "\n",
        "3.  **You Have a Collection of Items Without Unique Identifiers:** If the items in your collection don't have natural, unique keys that you would use for dictionary lookups, a list is a simpler and more appropriate structure. Lists are designed for simple collections of items.\n",
        "\n",
        "4.  **You Need to Store Duplicate Items:** Lists can easily store duplicate values. Sets, which are similar to lists in some ways but enforce uniqueness, are used when you need only unique items. Dictionaries have unique keys, but values can be duplicated. If you need to maintain a collection that might contain duplicates, a list is the way to go.\n",
        "\n",
        "5.  **Implementing Stack or Queue Behavior:** Lists can be easily used to implement basic stack (LIFO - Last In, First Out) and queue (FIFO - First In, First Out) data structures using methods like `append()`, `pop()`, and `insert()`.\n",
        "\n"
      ]
    },
    {
      "cell_type": "code",
      "metadata": {
        "id": "cdbfd405"
      },
      "source": [
        "students = {\n",
        "    \"student1\": {\n",
        "        \"name\": \"Alice\",\n",
        "        \"age\": 20,\n",
        "        \"major\": \"Computer Science\",\n",
        "        \"courses\": [\"Calculus\", \"Physics\", \"Programming\"]\n",
        "    },\n",
        "    \"student2\": {\n",
        "        \"name\": \"Bob\",\n",
        "        \"age\": 21,\n",
        "        \"major\": \"Electrical Engineering\",\n",
        "        \"courses\": [\"Circuits\", \"Linear Algebra\", \"Thermodynamics\"]\n",
        "    },\n",
        "    \"student3\": {\n",
        "        \"name\": \"Charlie\",\n",
        "        \"age\": 19,\n",
        "        \"major\": \"Mathematics\",\n",
        "        \"courses\": [\"Discrete Math\", \"Abstract Algebra\", \"Real Analysis\"]\n",
        "    }\n",
        "}\n",
        "\n",
        "# Accessing data in the nested dictionary\n",
        "print(students[\"student1\"][\"name\"])\n",
        "print(students[\"student2\"][\"major\"])\n",
        "print(students[\"student3\"][\"courses\"][1])"
      ],
      "execution_count": null,
      "outputs": []
    },
    {
      "cell_type": "markdown",
      "metadata": {
        "id": "6435b895"
      },
      "source": [
        "Que 18-> Why are dictionaries considered unordered, and how does that affect data retrieval?\n",
        "\n",
        "Ans -> Historically, dictionaries in Python were considered **unordered** collections of key-value pairs. This meant that the order in which items were inserted into the dictionary was not guaranteed to be the order in which they were stored or retrieved. The order was determined by the internal hash table implementation, which could vary between Python versions or even between runs of the same program.\n",
        "\n",
        "However, as of Python 3.7, dictionaries are officially **ordered** by insertion order. This means that the order in which you add key-value pairs to a dictionary is the order in which they will be iterated over.\n",
        "\n",
        "**How this affects data retrieval (Historically vs. Modern Python):**\n",
        "\n",
        "*   **Historically (unordered):** In older Python versions, because the order was not guaranteed, you could not rely on accessing elements by their position or expecting a specific order when iterating through the dictionary. You could only access elements by their key. Any operation that relied on the order of items would be unpredictable.\n",
        "\n",
        "*   **Modern Python (ordered):** In Python 3.7 and later, the insertion order is preserved. This means you can iterate through the dictionary in the order the items were added. While you still primarily access elements by key for efficiency, you can now rely on the order for operations like iterating through items in the sequence they were inserted.\n",
        "\n",
        "**Why were they historically unordered?**\n",
        "\n",
        "The unordered nature in older versions was a consequence of the dictionary's underlying implementation using hash tables. Hash tables are designed for fast key lookups (average O(1) time complexity) by using a hash function to directly calculate the memory location of a value based on its key. Maintaining a strict order during insertion and deletion operations would add overhead and reduce this lookup efficiency.\n",
        "\n",
        "**In summary:**\n",
        "\n",
        "While modern Python guarantees insertion order in dictionaries, it's important to understand the historical context of them being unordered. This historical perspective highlights that the primary purpose and strength of dictionaries lie in their efficient key-based access, rather than ordered retrieval by position like lists. Even with ordered dictionaries, accessing elements by key remains the most efficient way to retrieve data."
      ]
    },
    {
      "cell_type": "markdown",
      "metadata": {
        "id": "5288860b"
      },
      "source": [
        "Que 19-> Explain the difference between a list and a dictionary in terms of data retrieval.\n",
        "\n",
        "Ans -> The main difference between lists and dictionaries in terms of data retrieval lies in how you access the elements:\n",
        "\n",
        "*   **Lists:** In a list, you retrieve data based on its **position** or **index**. Indices are integer values starting from 0 for the first element. You use square brackets with the index to access a specific element. For example: `my_list[0]` retrieves the first element. To find a specific *value* in a list, you would typically need to iterate through the list or use the `index()` method, which can be slow for large lists (O(n) time complexity in the worst case).\n",
        "\n",
        "*   **Dictionaries:** In a dictionary, you retrieve data based on its **key**. Keys are unique identifiers associated with each value. You use square brackets with the key to access the corresponding value. For example: `my_dict['name']` retrieves the value associated with the key 'name'. Dictionaries are optimized for fast retrieval by key using hash tables, providing average O(1) time complexity.\n",
        "\n"
      ]
    },
    {
      "cell_type": "markdown",
      "source": [
        "Que 20-> How does the “in” keyword work differently for lists and dictionaries?\n",
        "\n",
        "Ans -> When you use the in keyword with a list, it checks if a specific value is present as one of the elements within that list. Python will sequentially go through each item in the list to see if it matches the value you're looking for.\n",
        "\n",
        "For example:\n",
        "\n",
        "my_list = [1, 2, 3, 'apple']\n",
        "print('apple' in my_list)  # This checks if the value 'apple' is in the list\n",
        "print(5 in my_list)      # This checks if the value 5 is in the list\n",
        "When you use the in keyword with a dictionary, it checks if a specific key exists within that dictionary. It does not check for values directly. Dictionaries are optimized for quick key lookups using hash tables.\n",
        "\n",
        "For example:\n",
        "\n",
        "my_dict = {'a': 1, 'b': 2, 'fruit': 'apple'}\n",
        "print('a' in my_dict)      # This checks if the key 'a' is in the dictionary\n",
        "print('apple' in my_dict)  # This checks if the key 'apple' is in the dictionary (which is False in this case)\n",
        "print('fruit' in my_dict)  # This checks if the key 'fruit' is in the dictionary\n",
        "To check if a value exists in a dictionary, you would typically use the .values() method to get a view of the values and then use in on that view:\n",
        "\n",
        "my_dict = {'a': 1, 'b': 2, 'fruit': 'apple'}\n",
        "print('apple' in my_dict.values()) # This checks if the value 'apple' is in the dictionary's values\n",
        "So, the key difference is that in checks for values in lists and keys in dictionaries."
      ],
      "metadata": {
        "id": "FsGvsyTu-ncG"
      }
    },
    {
      "cell_type": "markdown",
      "source": [
        "***PRACTICAL QUESTIONS***\n"
      ],
      "metadata": {
        "id": "5Gc3pBhN_U0_"
      }
    },
    {
      "cell_type": "code",
      "metadata": {
        "colab": {
          "base_uri": "https://localhost:8080/"
        },
        "id": "900c5553",
        "outputId": "ff1b02d5-6921-407d-f2eb-3d0969ec6c56"
      },
      "source": [
        "# Que1 -> Write a code to create a string with your name and print it.\n",
        "\n",
        "my_name = \"AI Agent\"\n",
        "print(my_name)"
      ],
      "execution_count": null,
      "outputs": [
        {
          "output_type": "stream",
          "name": "stdout",
          "text": [
            "AI Agent\n"
          ]
        }
      ]
    },
    {
      "cell_type": "code",
      "source": [
        "# Que2 -> Write a code to find the length of the string \"Hello World\".\n",
        "\n",
        "my_string = \"Hello World\"\n",
        "string_length = len(my_string)\n",
        "print(string_length)"
      ],
      "metadata": {
        "colab": {
          "base_uri": "https://localhost:8080/"
        },
        "id": "HovhNUKgA41L",
        "outputId": "5ceb80db-fc9e-4416-dd8e-c2b5698efe0e"
      },
      "execution_count": 5,
      "outputs": [
        {
          "output_type": "stream",
          "name": "stdout",
          "text": [
            "11\n"
          ]
        }
      ]
    },
    {
      "cell_type": "code",
      "metadata": {
        "colab": {
          "base_uri": "https://localhost:8080/"
        },
        "id": "8e835830",
        "outputId": "5d9ef808-80ee-4bdc-90d9-f19e9ad08c51"
      },
      "source": [
        "# Que3 -> Write a code to slice the first 3 characters from the string \"Python Programming\".\n",
        "\n",
        "my_string = \"Python Programming\"\n",
        "sliced_string = my_string[:3]\n",
        "print(sliced_string)"
      ],
      "execution_count": 6,
      "outputs": [
        {
          "output_type": "stream",
          "name": "stdout",
          "text": [
            "Pyt\n"
          ]
        }
      ]
    },
    {
      "cell_type": "code",
      "metadata": {
        "colab": {
          "base_uri": "https://localhost:8080/"
        },
        "id": "2acb7437",
        "outputId": "6c950b70-68b5-41d2-a576-580284e23fda"
      },
      "source": [
        "# Que 4 -> Write a code to convert the string \"hello\" to uppercase.\n",
        "\n",
        "my_string = \"hello\"\n",
        "uppercase_string = my_string.upper()\n",
        "print(uppercase_string)"
      ],
      "execution_count": 7,
      "outputs": [
        {
          "output_type": "stream",
          "name": "stdout",
          "text": [
            "HELLO\n"
          ]
        }
      ]
    },
    {
      "cell_type": "code",
      "metadata": {
        "colab": {
          "base_uri": "https://localhost:8080/"
        },
        "id": "44f4f9ab",
        "outputId": "5dc05513-f218-40fb-d7e6-62f632de5967"
      },
      "source": [
        "# 5 . Write a code to replace the word \"apple\" with \"orange\" in the string \"I like apple\".\n",
        "\n",
        "my_string = \"I like apple\"\n",
        "new_string = my_string.replace(\"apple\", \"orange\")\n",
        "print(new_string)"
      ],
      "execution_count": 8,
      "outputs": [
        {
          "output_type": "stream",
          "name": "stdout",
          "text": [
            "I like orange\n"
          ]
        }
      ]
    },
    {
      "cell_type": "code",
      "metadata": {
        "colab": {
          "base_uri": "https://localhost:8080/"
        },
        "id": "f5505fad",
        "outputId": "7220c129-f0e4-48e7-c83c-a4184ba42479"
      },
      "source": [
        "# 6. Write a code to create a list with numbers 1 to 5 and print it.\n",
        "\n",
        "my_list = [1, 2, 3, 4, 5]\n",
        "print(my_list)"
      ],
      "execution_count": 9,
      "outputs": [
        {
          "output_type": "stream",
          "name": "stdout",
          "text": [
            "[1, 2, 3, 4, 5]\n"
          ]
        }
      ]
    },
    {
      "cell_type": "code",
      "metadata": {
        "colab": {
          "base_uri": "https://localhost:8080/"
        },
        "id": "8b45e7df",
        "outputId": "715ad5b0-04b4-4db2-fada-0fc2151e1270"
      },
      "source": [
        "# 7. Write a code to append the number 10 to the list [1, 2, 3, 4]\n",
        "\n",
        "my_list = [1, 2, 3, 4]\n",
        "my_list.append(10)\n",
        "print(my_list)"
      ],
      "execution_count": 10,
      "outputs": [
        {
          "output_type": "stream",
          "name": "stdout",
          "text": [
            "[1, 2, 3, 4, 10]\n"
          ]
        }
      ]
    },
    {
      "cell_type": "code",
      "metadata": {
        "colab": {
          "base_uri": "https://localhost:8080/"
        },
        "id": "cb441b04",
        "outputId": "586ea687-7019-4b99-f3c2-338938f22ce3"
      },
      "source": [
        "# 8. Write a code to remove the number 3 from the list [1, 2, 3, 4, 5].\n",
        "\n",
        "my_list = [1, 2, 3, 4, 5]\n",
        "my_list.remove(3)\n",
        "print(my_list)"
      ],
      "execution_count": 11,
      "outputs": [
        {
          "output_type": "stream",
          "name": "stdout",
          "text": [
            "[1, 2, 4, 5]\n"
          ]
        }
      ]
    },
    {
      "cell_type": "code",
      "metadata": {
        "colab": {
          "base_uri": "https://localhost:8080/"
        },
        "id": "b0df33b7",
        "outputId": "483ced5e-83cc-49aa-c684-468f9ecdc620"
      },
      "source": [
        "# 9. Write a code to access the second element in the list ['a', 'b', 'c', 'd'].\n",
        "\n",
        "my_list = ['a', 'b', 'c', 'd']\n",
        "second_element = my_list[1]\n",
        "print(second_element)"
      ],
      "execution_count": 12,
      "outputs": [
        {
          "output_type": "stream",
          "name": "stdout",
          "text": [
            "b\n"
          ]
        }
      ]
    },
    {
      "cell_type": "code",
      "metadata": {
        "colab": {
          "base_uri": "https://localhost:8080/"
        },
        "id": "f3006eb3",
        "outputId": "b566f006-e805-4b14-f96b-cf541820de5d"
      },
      "source": [
        "# 10. Write a code to reverse the list [10, 20, 30, 40, 50].\n",
        "\n",
        "my_list = [10, 20, 30, 40, 50]\n",
        "my_list.reverse()\n",
        "print(my_list)"
      ],
      "execution_count": 13,
      "outputs": [
        {
          "output_type": "stream",
          "name": "stdout",
          "text": [
            "[50, 40, 30, 20, 10]\n"
          ]
        }
      ]
    },
    {
      "cell_type": "code",
      "metadata": {
        "colab": {
          "base_uri": "https://localhost:8080/"
        },
        "id": "55557b02",
        "outputId": "281d677c-3155-4e7d-ae58-4fa7162378dc"
      },
      "source": [
        "# 11.Write a code to create a tuple with the elements 100, 200, 300 and print it.\n",
        "\n",
        "my_tuple = (100, 200, 300)\n",
        "print(my_tuple)"
      ],
      "execution_count": 14,
      "outputs": [
        {
          "output_type": "stream",
          "name": "stdout",
          "text": [
            "(100, 200, 300)\n"
          ]
        }
      ]
    },
    {
      "cell_type": "code",
      "metadata": {
        "colab": {
          "base_uri": "https://localhost:8080/"
        },
        "id": "c717718f",
        "outputId": "977a876a-f7c2-457b-f783-83c210002f4e"
      },
      "source": [
        "# 12. Write a code to access the second-to-last element of the tuple ('red', 'green', 'blue', 'yellow').\n",
        "\n",
        "my_tuple = ('red', 'green', 'blue', 'yellow')\n",
        "second_to_last_element = my_tuple[-2]\n",
        "print(second_to_last_element)"
      ],
      "execution_count": 15,
      "outputs": [
        {
          "output_type": "stream",
          "name": "stdout",
          "text": [
            "blue\n"
          ]
        }
      ]
    },
    {
      "cell_type": "code",
      "metadata": {
        "colab": {
          "base_uri": "https://localhost:8080/"
        },
        "id": "827a3cc2",
        "outputId": "1244b89d-02ea-410e-9b03-8e4364aa7f58"
      },
      "source": [
        "# 13. Write a code to find the minimum number in the tuple (10, 20, 5, 15).\n",
        "\n",
        "my_tuple = (10, 20, 5, 15)\n",
        "minimum_number = min(my_tuple)\n",
        "print(minimum_number)"
      ],
      "execution_count": 16,
      "outputs": [
        {
          "output_type": "stream",
          "name": "stdout",
          "text": [
            "5\n"
          ]
        }
      ]
    },
    {
      "cell_type": "code",
      "metadata": {
        "colab": {
          "base_uri": "https://localhost:8080/"
        },
        "id": "12041592",
        "outputId": "bc6eb9a0-6f89-4966-d55f-66111709b97a"
      },
      "source": [
        "# 14. Write a code to find the index of the element \"cat\" in the tuple ('dog', 'cat', 'rabbit').\n",
        "\n",
        "my_tuple = ('dog', 'cat', 'rabbit')\n",
        "index_of_cat = my_tuple.index('cat')\n",
        "print(index_of_cat)"
      ],
      "execution_count": 17,
      "outputs": [
        {
          "output_type": "stream",
          "name": "stdout",
          "text": [
            "1\n"
          ]
        }
      ]
    },
    {
      "cell_type": "code",
      "metadata": {
        "colab": {
          "base_uri": "https://localhost:8080/"
        },
        "id": "d04abf30",
        "outputId": "450ff46e-8a58-4acc-b80d-925661b2a487"
      },
      "source": [
        "# 15. Write a code to create a tuple containing three different fruits and check if \"kiwi\" is in it.\n",
        "\n",
        "fruit_tuple = ('apple', 'banana', 'orange')\n",
        "is_kiwi_in_tuple = \"kiwi\" in fruit_tuple\n",
        "print(is_kiwi_in_tuple)"
      ],
      "execution_count": 18,
      "outputs": [
        {
          "output_type": "stream",
          "name": "stdout",
          "text": [
            "False\n"
          ]
        }
      ]
    },
    {
      "cell_type": "code",
      "metadata": {
        "colab": {
          "base_uri": "https://localhost:8080/"
        },
        "id": "be08ed9a",
        "outputId": "3270f2d5-e50d-459e-85d4-daf9298c4d62"
      },
      "source": [
        "# 16. Write a code to create a set with the elements 'a', 'b', 'c' and print it.\n",
        "\n",
        "my_set = {'a', 'b', 'c'}\n",
        "print(my_set)"
      ],
      "execution_count": 19,
      "outputs": [
        {
          "output_type": "stream",
          "name": "stdout",
          "text": [
            "{'b', 'a', 'c'}\n"
          ]
        }
      ]
    },
    {
      "cell_type": "code",
      "metadata": {
        "colab": {
          "base_uri": "https://localhost:8080/"
        },
        "id": "e63147fe",
        "outputId": "07b56ea7-cd3b-4925-87f5-9ac592b45e64"
      },
      "source": [
        "# 17. Write a code to clear all elements from the set {1, 2, 3, 4, 5}.\n",
        "\n",
        "my_set = {1, 2, 3, 4, 5}\n",
        "my_set.clear()\n",
        "print(my_set)"
      ],
      "execution_count": 20,
      "outputs": [
        {
          "output_type": "stream",
          "name": "stdout",
          "text": [
            "set()\n"
          ]
        }
      ]
    },
    {
      "cell_type": "code",
      "metadata": {
        "colab": {
          "base_uri": "https://localhost:8080/"
        },
        "id": "2bce2b41",
        "outputId": "32c9660e-7f2c-4127-c13e-339e96e67b16"
      },
      "source": [
        "# 18. Write a code to remove the element 4 from the set {1, 2, 3, 4}.\n",
        "\n",
        "my_set = {1, 2, 3, 4}\n",
        "my_set.remove(4)\n",
        "print(my_set)"
      ],
      "execution_count": 21,
      "outputs": [
        {
          "output_type": "stream",
          "name": "stdout",
          "text": [
            "{1, 2, 3}\n"
          ]
        }
      ]
    },
    {
      "cell_type": "code",
      "metadata": {
        "colab": {
          "base_uri": "https://localhost:8080/"
        },
        "id": "18e469f7",
        "outputId": "9e6ea4ba-54c2-4a50-f410-3b16f1721147"
      },
      "source": [
        "# 19. Write a code to find the union of two sets {1, 2, 3} and {3, 4, 5}.\n",
        "\n",
        "set1 = {1, 2, 3}\n",
        "set2 = {3, 4, 5}\n",
        "union_set = set1.union(set2)\n",
        "print(union_set)\n",
        "\n",
        "# Alternatively, using the union operator:\n",
        "# union_set = set1 | set2\n",
        "# print(union_set)"
      ],
      "execution_count": 22,
      "outputs": [
        {
          "output_type": "stream",
          "name": "stdout",
          "text": [
            "{1, 2, 3, 4, 5}\n"
          ]
        }
      ]
    },
    {
      "cell_type": "code",
      "metadata": {
        "colab": {
          "base_uri": "https://localhost:8080/"
        },
        "id": "b3ca9c58",
        "outputId": "c4fa8cb6-7d85-4044-d72c-ebfd1c487318"
      },
      "source": [
        "# 20. Write a code to find the intersection of two sets {1, 2, 3} and {2, 3, 4}.\n",
        "\n",
        "set1 = {1, 2, 3}\n",
        "set2 = {2, 3, 4}\n",
        "intersection_set = set1.intersection(set2)\n",
        "print(intersection_set)\n",
        "\n",
        "# Alternatively, using the intersection operator:\n",
        "# intersection_set = set1 & set2\n",
        "# print(intersection_set)"
      ],
      "execution_count": 23,
      "outputs": [
        {
          "output_type": "stream",
          "name": "stdout",
          "text": [
            "{2, 3}\n"
          ]
        }
      ]
    },
    {
      "cell_type": "code",
      "metadata": {
        "colab": {
          "base_uri": "https://localhost:8080/"
        },
        "id": "34f3dbae",
        "outputId": "b30e4d56-c1b2-4876-97b2-9fda91b99152"
      },
      "source": [
        "# 21. Write a code to create a dictionary with the keys \"name\", \"age\", and \"city\", and print it.\n",
        "\n",
        "my_dict = {\"name\": \"Alice\", \"age\": 30, \"city\": \"New York\"}\n",
        "print(my_dict)"
      ],
      "execution_count": 24,
      "outputs": [
        {
          "output_type": "stream",
          "name": "stdout",
          "text": [
            "{'name': 'Alice', 'age': 30, 'city': 'New York'}\n"
          ]
        }
      ]
    },
    {
      "cell_type": "code",
      "metadata": {
        "colab": {
          "base_uri": "https://localhost:8080/"
        },
        "id": "12e195ff",
        "outputId": "2e37a6da-2294-440b-a78d-637e4967e393"
      },
      "source": [
        "# 22. Write a code to add a new key-value pair \"country\": \"USA\" to the dictionary {'name': 'John', 'age': 25}.\n",
        "\n",
        "my_dict = {'name': 'John', 'age': 25}\n",
        "my_dict[\"country\"] = \"USA\"\n",
        "print(my_dict)"
      ],
      "execution_count": 25,
      "outputs": [
        {
          "output_type": "stream",
          "name": "stdout",
          "text": [
            "{'name': 'John', 'age': 25, 'country': 'USA'}\n"
          ]
        }
      ]
    },
    {
      "cell_type": "code",
      "metadata": {
        "colab": {
          "base_uri": "https://localhost:8080/"
        },
        "id": "18602e22",
        "outputId": "1f750479-b1d9-40f0-aea1-0e7f9c57cef7"
      },
      "source": [
        "# 23. Write a code to access the value associated with the key \"name\" in the dictionary {'name': 'Alice', 'age': 30}.\n",
        "\n",
        "my_dict = {'name': 'Alice', 'age': 30}\n",
        "name_value = my_dict[\"name\"]\n",
        "print(name_value)"
      ],
      "execution_count": 26,
      "outputs": [
        {
          "output_type": "stream",
          "name": "stdout",
          "text": [
            "Alice\n"
          ]
        }
      ]
    },
    {
      "cell_type": "code",
      "metadata": {
        "colab": {
          "base_uri": "https://localhost:8080/"
        },
        "id": "66d7365e",
        "outputId": "669fbd29-cd29-4aa7-8709-5a0d4c9a2f6b"
      },
      "source": [
        "# 24. Write a code to remove the key \"age\" from the dictionary {'name': 'Bob', 'age': 22, 'city': 'New York'}.\n",
        "\n",
        "my_dict = {'name': 'Bob', 'age': 22, 'city': 'New York'}\n",
        "del my_dict[\"age\"]\n",
        "print(my_dict)"
      ],
      "execution_count": 27,
      "outputs": [
        {
          "output_type": "stream",
          "name": "stdout",
          "text": [
            "{'name': 'Bob', 'city': 'New York'}\n"
          ]
        }
      ]
    },
    {
      "cell_type": "code",
      "metadata": {
        "colab": {
          "base_uri": "https://localhost:8080/"
        },
        "id": "119c8d35",
        "outputId": "e1146555-0d97-4d99-9da4-e7f24558e473"
      },
      "source": [
        "# 25. Write a code to check if the key \"city\" exists in the dictionary {'name': 'Alice', 'city': 'Paris'}.\n",
        "\n",
        "my_dict = {'name': 'Alice', 'city': 'Paris'}\n",
        "key_exists = \"city\" in my_dict\n",
        "print(key_exists)"
      ],
      "execution_count": 28,
      "outputs": [
        {
          "output_type": "stream",
          "name": "stdout",
          "text": [
            "True\n"
          ]
        }
      ]
    },
    {
      "cell_type": "code",
      "metadata": {
        "colab": {
          "base_uri": "https://localhost:8080/"
        },
        "id": "4883c448",
        "outputId": "baa5f02b-7011-46c1-c8ee-9867b2aa8545"
      },
      "source": [
        "# 26. Write a code to create a list, a tuple, and a dictionary, and print them all.\n",
        "\n",
        "my_list = [1, 2, 3, 4, 5]\n",
        "my_tuple = (10, 20, 30)\n",
        "my_dict = {\"name\": \"Alice\", \"age\": 30}\n",
        "\n",
        "print(\"My List:\", my_list)\n",
        "print(\"My Tuple:\", my_tuple)\n",
        "print(\"My Dictionary:\", my_dict)"
      ],
      "execution_count": 29,
      "outputs": [
        {
          "output_type": "stream",
          "name": "stdout",
          "text": [
            "My List: [1, 2, 3, 4, 5]\n",
            "My Tuple: (10, 20, 30)\n",
            "My Dictionary: {'name': 'Alice', 'age': 30}\n"
          ]
        }
      ]
    },
    {
      "cell_type": "code",
      "metadata": {
        "colab": {
          "base_uri": "https://localhost:8080/"
        },
        "id": "dd6d51f3",
        "outputId": "ddace539-8eb1-4d10-d483-200c16cf5e81"
      },
      "source": [
        "# 27. Write a code to create a list of 5 random numbers between 1 and 100, sort it in ascending order, and print the result.(replaced).\n",
        "\n",
        "import random\n",
        "\n",
        "# Create a list of 5 random numbers between 1 and 100\n",
        "random_numbers = [random.randint(1, 100) for _ in range(5)]\n",
        "\n",
        "# Sort the list in ascending order\n",
        "random_numbers.sort()\n",
        "\n",
        "# Print the result\n",
        "print(random_numbers)"
      ],
      "execution_count": 30,
      "outputs": [
        {
          "output_type": "stream",
          "name": "stdout",
          "text": [
            "[28, 37, 51, 70, 97]\n"
          ]
        }
      ]
    },
    {
      "cell_type": "code",
      "metadata": {
        "colab": {
          "base_uri": "https://localhost:8080/"
        },
        "id": "8a143967",
        "outputId": "922a164f-fb26-4287-be32-cafcae0d2ec4"
      },
      "source": [
        "# 28. Write a code to create a list with strings and print the element at the third index.\n",
        "\n",
        "my_list = [\"apple\", \"banana\", \"cherry\", \"date\", \"elderberry\"]\n",
        "element_at_third_index = my_list[3]\n",
        "print(element_at_third_index)"
      ],
      "execution_count": 31,
      "outputs": [
        {
          "output_type": "stream",
          "name": "stdout",
          "text": [
            "date\n"
          ]
        }
      ]
    },
    {
      "cell_type": "code",
      "metadata": {
        "colab": {
          "base_uri": "https://localhost:8080/"
        },
        "id": "62a9b74d",
        "outputId": "4846ecee-3c98-4d4a-8364-036cc91d8449"
      },
      "source": [
        "# 29.Write a code to combine two dictionaries into one and print the result.\n",
        "\n",
        "dict1 = {\"a\": 1, \"b\": 2}\n",
        "dict2 = {\"c\": 3, \"d\": 4}\n",
        "\n",
        "# Method 1: Using the update() method\n",
        "combined_dict_1 = dict1.copy() # Create a copy to avoid modifying the original dict1\n",
        "combined_dict_1.update(dict2)\n",
        "print(\"Combined dictionary (using update()):\", combined_dict_1)\n",
        "\n",
        "# Method 2: Using the union operator (Python 3.9+)\n",
        "combined_dict_2 = dict1 | dict2\n",
        "print(\"Combined dictionary (using union operator):\", combined_dict_2)"
      ],
      "execution_count": 32,
      "outputs": [
        {
          "output_type": "stream",
          "name": "stdout",
          "text": [
            "Combined dictionary (using update()): {'a': 1, 'b': 2, 'c': 3, 'd': 4}\n",
            "Combined dictionary (using union operator): {'a': 1, 'b': 2, 'c': 3, 'd': 4}\n"
          ]
        }
      ]
    },
    {
      "cell_type": "code",
      "metadata": {
        "colab": {
          "base_uri": "https://localhost:8080/"
        },
        "id": "fe0514cc",
        "outputId": "414df821-6627-423f-ab5f-9b08d4e4ebe1"
      },
      "source": [
        "# 30. Write a code to convert a list of strings into a set.\n",
        "\n",
        "my_list = [\"apple\", \"banana\", \"cherry\", \"apple\", \"date\"]\n",
        "my_set = set(my_list)\n",
        "print(my_set)"
      ],
      "execution_count": 33,
      "outputs": [
        {
          "output_type": "stream",
          "name": "stdout",
          "text": [
            "{'date', 'apple', 'banana', 'cherry'}\n"
          ]
        }
      ]
    }
  ]
}