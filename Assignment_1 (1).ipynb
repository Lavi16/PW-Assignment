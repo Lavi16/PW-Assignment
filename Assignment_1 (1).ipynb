{
  "nbformat": 4,
  "nbformat_minor": 0,
  "metadata": {
    "colab": {
      "provenance": []
    },
    "kernelspec": {
      "name": "python3",
      "display_name": "Python 3"
    },
    "language_info": {
      "name": "python"
    }
  },
  "cells": [
    {
      "cell_type": "markdown",
      "source": [
        "Que1 -> What is Python, and why is it popular?\n",
        "\n",
        "Ans -> Python is a high-level, interpreted programming language known   for its readability and simplicity. It's popular for many reasons:\n",
        "\n",
        "1.   Versatility: It can be used for web development, data analysis, artificial intelligence, scientific computing, and more.\n",
        "2.   Readability: Its clear syntax makes it easy to learn and write code.\n",
        "3. Large community and extensive libraries: There's a vast collection of pre-written code (libraries) that can be used for various tasks, saving developers time and effort.\n",
        "4. Strong community support: A large and active community contributes to its development, provides support, and creates resources for learners.\n",
        "5. Platform independence: Python code can run on different operating systems without modification.\n",
        "\n",
        "\n",
        "\n",
        "\n",
        "\n",
        "\n"
      ],
      "metadata": {
        "id": "ajiMALFpKycr"
      }
    },
    {
      "cell_type": "markdown",
      "source": [
        "Que2 -> What is an interpreter in Python?\n",
        "\n",
        "Ans -> In python, an interpreter is a program tat directky executes code line by lin, rather than compiling  the entire code into machine language before execution i.e, phthin is called as interepreted language.\n",
        "\n",
        "Below are some key features of Python interpreters:\n",
        "\n",
        "1.   Line-by-line execution: They execute code one statement at a time.\n",
        "2. Read-Eval-Print Loop (REPL): Interactive Python sessions (like in the Colab notebook or a Python shell) use a REPL, which reads wer input, evaluates it, and prints the result.\n",
        "\n",
        "3. Dynamic Typing: The interpreter determines the type of a variable at runtime.\n",
        "4. Platform Independence: The interpreter makes Python code portable across different operating systems.\n",
        "\n"
      ],
      "metadata": {
        "id": "uLhWfy1LJa-4"
      }
    },
    {
      "cell_type": "markdown",
      "metadata": {
        "id": "dcb26182"
      },
      "source": [
        " Que3 -> What are pre-defined keywords in Python?\n",
        "\n",
        "Ans -> In Python, pre-defined keywords are special words that have specific meanings and purposes in the language. They are reserved by Python and cannot be used as variable names, function names, or any other identifier. These keywords are fundamental to the structure and syntax of Python code.\n",
        "\n",
        "Here is a list of Python keywords:\n",
        "\n",
        "*   False\n",
        "*   None\n",
        "*   True\n",
        "*   and\n",
        "*   as\n",
        "*   assert\n",
        "*   async\n",
        "*   await\n",
        "*   break\n",
        "*   class\n",
        "*   continue\n",
        "*   def\n",
        "*   del\n",
        "*   elif\n",
        "*   else\n",
        "*   except\n",
        "*   finally\n",
        "*   for\n",
        "*   from\n",
        "*   global\n",
        "*   if\n",
        "*   import\n",
        "*   in\n",
        "*   is\n",
        "*   lambda\n",
        "*   nonlocal\n",
        "*   not\n",
        "*   or\n",
        "*   pass\n",
        "*   raise\n",
        "*   return\n",
        "*   try\n",
        "*   while\n",
        "*   with\n",
        "*   yield\n",
        "\n",
        "we can also use the keyword module in Python to get a list of keywords programmatically."
      ]
    },
    {
      "cell_type": "markdown",
      "source": [
        "Ques4 ->Can keywords be used as variable names?\n",
        "\n",
        "Ans -> No, keywords in Python cannot be used as variable names. They are reserved words with specific meanings to the Python interpreter. If we try to use a keyword as a variable name, we will get a syntax error.\n",
        "\n",
        "For example, we cannot name a variable if or for because they are keywords."
      ],
      "metadata": {
        "id": "NkxwjbOFMnBm"
      }
    },
    {
      "cell_type": "markdown",
      "metadata": {
        "id": "ef2220a3"
      },
      "source": [
        " Que5 -> What is mutability in Python?\n",
        "\n",
        "Ans -> In Python, mutability refers to whether the state of an object can be changed after it is created.\n",
        "\n",
        "*   Mutable objects: Can be changed after creation. Examples include lists, dictionaries, sets, and byte arrays.\n",
        "*   Immutable objects: Cannot be changed after creation. Examples include numbers, strings, tuples, and frozensets.\n",
        "\n",
        "When we modify a mutable object, we are changing the object in place. When we \"modify\" an immutable object, we are actually creating a new object with the changes.\n"
      ]
    },
    {
      "cell_type": "markdown",
      "source": [
        "Que6 -> Why are lists mutable, but tuples are immutable?\n",
        "\n",
        "Ans ->Lists are mutable because they are designed for dynamic collections where we need to add, remove, or change elements after creation. This allows for efficient in-place modifications.\n",
        "Tuples are immutable because they are designed for fixed collections of items. Their immutability provides data integrity, makes them hashable (allowing them to be used as dictionary keys or set elements), can offer minor performance benefits, and makes them thread-safe.\n",
        "The choice between using a list and a tuple depends on whether we need a collection that can be modified (list) or a fixed sequence (tuple).\n"
      ],
      "metadata": {
        "id": "Mg6sVBIANsRh"
      }
    },
    {
      "cell_type": "markdown",
      "source": [
        "Que7 -> What is the difference between “==” and “is” operators in Python ?\n",
        "\n",
        "Ans -> The == and is operators in Python are used for comparison, but they compare different aspects of objects.\n",
        "\n",
        "* == (Equality Operator): This operator\n",
        "checks if the values of two objects are equal. It's asking if the contents of the objects are the same.\n",
        "     \n",
        "     (a) == compares what the objects contain.\n",
        "\n",
        "* is (Identity Operator): This operator checks if two variables refer to the exact same object in memory. It's asking if the two variables point to the same location in wer computer's memory.\n",
        "\n",
        "     (a) is compares where the objects are located in memory.\n",
        "\n"
      ],
      "metadata": {
        "id": "JnPQr5VdPbw7"
      }
    },
    {
      "cell_type": "markdown",
      "source": [],
      "metadata": {
        "id": "oIPui4S3RkaZ"
      }
    },
    {
      "cell_type": "markdown",
      "metadata": {
        "id": "7e3f90d2"
      },
      "source": [
        " Que8 -> What are logical operators in Python?\n",
        "\n",
        "Ans -> In Python, logical operators are used to combine conditional statements and evaluate boolean values (True or False). They are commonly used in if statements, while loops, and other control flow structures to make decisions based on multiple conditions.\n",
        "\n",
        "There are three logical operators in Python:\n",
        "\n",
        "1.  **and Operator:**\n",
        "    *   Returns True if both operands are True.\n",
        "    *   Returns False if either or both operands are False.\n",
        "    *   It performs a short-circuit evaluation: if the first operand is False, it doesn't evaluate the second operand because the result will be False regardless.\n",
        "\n",
        "2.  **or Operator:**\n",
        "    *   Returns True if at least one of the operands is True.\n",
        "    *   Returns False only if both operands are False.\n",
        "    *   It also performs a short-circuit evaluation: if the first operand is True, it doesn't evaluate the second operand because the result will be True regardless.\n",
        "\n",
        "3.  **not Operator:**\n",
        "    *   This is a unary operator (operates on a single operand).\n",
        "    *   It negates the boolean value of the operand.\n",
        "    *   If the operand is True, not returns False.\n",
        "    *   If the operand is False, not returns True."
      ]
    },
    {
      "cell_type": "markdown",
      "source": [],
      "metadata": {
        "id": "dQqEOr7CStgJ"
      }
    },
    {
      "cell_type": "markdown",
      "metadata": {
        "id": "3af8851a"
      },
      "source": [
        " Que9 -> What is type casting in Python?\n",
        "\n",
        "Ans -> In Python, type casting (also known as type conversion) is the process of converting a value from one data type to another. This is often necessary when we need to perform operations that require specific data types, or when we receive data in one format and need to work with it in a different format.\n",
        "\n",
        "Python provides built-in functions to perform type casting:\n",
        "\n",
        "*   **int():** Converts a value to an integer.\n",
        "*   **float():** Converts a value to a floating-point number.\n",
        "*   **str():** Converts a value to a string.\n",
        "*   **list():** Converts a sequence (like a tuple or string) to a list.\n",
        "*   **tuple():** Converts a sequence (like a list or string) to a tuple.\n",
        "*   **dict():** Converts a sequence of key-value pairs (like a list of tuples) to a dictionary.\n",
        "*   **set():** Converts a sequence (like a list, tuple, or string) to a set.\n",
        "\n",
        "Here are some examples:"
      ]
    },
    {
      "cell_type": "code",
      "metadata": {
        "colab": {
          "base_uri": "https://localhost:8080/"
        },
        "collapsed": true,
        "id": "667acb3c",
        "outputId": "b7977c35-ce64-4371-ce29-fadf004b33ea"
      },
      "source": [
        "# Converting an integer to a float\n",
        "num_int = 10\n",
        "num_float = float(num_int)\n",
        "print(f\"Integer {num_int} converted to float: {num_float}\")\n",
        "\n",
        "# Converting a float to an integer (truncates the decimal part)\n",
        "num_float2 = 15.7\n",
        "num_int2 = int(num_float2)\n",
        "print(f\"Float {num_float2} converted to integer: {num_int2}\")\n",
        "\n",
        "# Converting a number to a string\n",
        "num_str = str(num_int)\n",
        "print(f\"Integer {num_int} converted to string: '{num_str}'\")\n",
        "\n",
        "# Converting a string to an integer\n",
        "str_num = \"123\"\n",
        "int_num = int(str_num)\n",
        "print(f\"String '{str_num}' converted to integer: {int_num}\")\n",
        "\n",
        "# Converting a string to a list of characters\n",
        "string_to_list = \"hello\"\n",
        "list_from_string = list(string_to_list)\n",
        "print(f\"String '{string_to_list}' converted to list: {list_from_string}\")\n",
        "\n",
        "# Converting a list to a tuple\n",
        "list_to_tuple = [1, 2, 3]\n",
        "tuple_from_list = tuple(list_to_tuple)\n",
        "print(f\"List {list_to_tuple} converted to tuple: {tuple_from_list}\")"
      ],
      "execution_count": null,
      "outputs": [
        {
          "output_type": "stream",
          "name": "stdout",
          "text": [
            "Integer 10 converted to float: 10.0\n",
            "Float 15.7 converted to integer: 15\n",
            "Integer 10 converted to string: '10'\n",
            "String '123' converted to integer: 123\n",
            "String 'hello' converted to list: ['h', 'e', 'l', 'l', 'o']\n",
            "List [1, 2, 3] converted to tuple: (1, 2, 3)\n"
          ]
        }
      ]
    },
    {
      "cell_type": "markdown",
      "metadata": {
        "id": "dc0464a2"
      },
      "source": [
        " Que10 -> What is the difference between implicit and explicit type casting?\n",
        "\n",
        "Ans -> In Python, type casting can occur in two ways: implicitly and explicitly.\n",
        "\n",
        "*   **Implicit Type Casting (Coercion):**\n",
        "    *   This happens automatically when Python performs operations involving different data types. Python promotes the \"lower\" data type to the \"higher\" data type to avoid data loss.\n",
        "    *   This is done by the Python interpreter without any explicit instruction from the programmer.\n",
        "    *   Examples often involve arithmetic operations between integers and floats.\n",
        "\n",
        "*   **Explicit **bold text** Type Casting:**\n",
        "    *   This is done deliberately by the programmer using built-in type conversion functions (like `int()`, `float()`, `str()`, etc.) that we discussed earlier.\n",
        "    *   we explicitly tell Python to convert a value from one type to another.\n",
        "    *   This is necessary when implicit conversion doesn't happen automatically or when we need to convert to a specific type that Python wouldn't coerce to implicitly.\n",
        "\n",
        "Below are some examples:"
      ]
    },
    {
      "cell_type": "code",
      "metadata": {
        "colab": {
          "base_uri": "https://localhost:8080/"
        },
        "collapsed": true,
        "id": "b82249bc",
        "outputId": "8ca3b39e-e044-4438-fadc-b47adad2e09e"
      },
      "source": [
        "# Implicit Type Casting Example\n",
        "int_num = 10\n",
        "float_num = 5.5\n",
        "result = int_num + float_num # int is implicitly converted to float\n",
        "print(f\"Implicit casting (int + float): {result} (Type: {type(result)})\")\n",
        "\n",
        "# Explicit Type Casting Example\n",
        "str_num = \"123\"\n",
        "int_value = int(str_num) # Explicitly convert string to int\n",
        "print(f\"Explicit casting (string to int): {int_value} (Type: {type(int_value)})\")\n",
        "\n",
        "float_value = float(int_num) # Explicitly convert int to float\n",
        "print(f\"Explicit casting (int to float): {float_value} (Type: {type(float_value)})\")\n",
        "\n",
        "# Example where implicit casting is not possible and explicit is needed\n",
        "# int_from_string = int(\"hello\") # This would cause a ValueError without explicit handling"
      ],
      "execution_count": null,
      "outputs": [
        {
          "output_type": "stream",
          "name": "stdout",
          "text": [
            "Implicit casting (int + float): 15.5 (Type: <class 'float'>)\n",
            "Explicit casting (string to int): 123 (Type: <class 'int'>)\n",
            "Explicit casting (int to float): 10.0 (Type: <class 'float'>)\n"
          ]
        }
      ]
    },
    {
      "cell_type": "markdown",
      "metadata": {
        "id": "5acd1abd"
      },
      "source": [
        "Que11 -> What is the purpose of conditional statements in Python?\n",
        "\n",
        "Ans -> In Python, conditional statements are used to execute different blocks of code based on whether a specific condition is true or false. They allow our program to make decisions and follow different paths of execution, making our code more flexible and responsive.\n",
        "\n",
        "The main purpose of conditional statements is to control the flow of our program. By evaluating conditions, like:\n",
        "\n",
        "*   **Execute code only when certain criteria are met:** For example, we might want to print a message only if a variable is greater than a certain value.\n",
        "*   **Choose between different actions:** We can provide alternative blocks of code to be executed depending on the outcome of a condition.\n",
        "*   **Handle different scenarios:** Conditional statements are essential for handling various inputs, states, or events in our program.\n",
        "\n",
        "The most common conditional statements in Python are:\n",
        "\n",
        "*   **`if` statement:** Executes a block of code if a condition is true.\n",
        "*   **`elif` statement:** (short for \"else if\") Checks another condition if the previous `if` or `elif` conditions were false.\n",
        "*   **else statement:** Executes a block of code if none of the preceding `if` or `elif` conditions are true.\n",
        "\n",
        "These statements are often used in conjunction with comparison operators (like ==, !=, <, >, <=, >=) and logical operators (and, or, not) to create complex conditions."
      ]
    },
    {
      "cell_type": "markdown",
      "metadata": {
        "id": "0fc2db12"
      },
      "source": [
        "Que12 -> How does the elif statement work?\n",
        "\n",
        "Ans -> The elif statement in Python stands for \"else if\". It is used in conjunction with an if statement (and optionally an else statement) to check multiple conditions sequentially.\n",
        "\n",
        "Here's how it works within an if-elif-else structure:\n",
        "\n",
        "1.  The if statement's condition is evaluated first.\n",
        "2.  If the if condition is True, the code block under the if is executed, and the rest of the elif and else blocks are skipped.\n",
        "3.  If the if condition is False, Python moves on to the first elif statement.\n",
        "4.  The condition of the elif statement is then evaluated.\n",
        "5.  If the elif condition is True, the code block under that elif is executed, and the rest of the elif and else blocks are skipped.\n",
        "6.  This process continues for any subsequent elif statements.\n",
        "7.  If all the if and elif conditions are False, and an else statement is present, the code block under the else is executed.\n",
        "\n",
        "Essentially, elif allows we to check additional conditions only if the preceding conditions in the if-elif chain were false. we can have multiple elif statements in a single if-elif-else structure.\n"
      ]
    },
    {
      "cell_type": "markdown",
      "metadata": {
        "id": "7634d2ef"
      },
      "source": [
        "Que13 -> What is the difference between for and while loops?\n",
        "\n",
        "Ans -> In Python, both `for` and `while` loops are used for iteration (repeating a block of code), but they differ in how they determine when to stop the iteration.\n",
        "\n",
        "*   **`for` loop:**\n",
        "    *   Used for iterating over a sequence (like a list, tuple, string, or range) or other iterable objects.\n",
        "    *   The number of iterations is usually known beforehand, as it's determined by the number of items in the sequence being iterated over.\n",
        "    *   It automatically handles the iteration process, including accessing the next item in the sequence and knowing when to stop.\n",
        "    *   Syntax often involves the `in` keyword: `for item in sequence:`.\n",
        "\n",
        "*   **`while` loop:**\n",
        "    *   Used to execute a block of code repeatedly as long as a given condition is `True`.\n",
        "    *   The number of iterations is not necessarily known beforehand. The loop continues until the condition becomes `False`.\n",
        "    *   we need to explicitly manage the loop's progress (e.g., incrementing a counter) to ensure the condition eventually becomes `False` and the loop terminates, otherwise we'll create an infinite loop.\n",
        "    *   Syntax involves the `while` keyword: `while condition:`.\n",
        "\n"
      ]
    },
    {
      "cell_type": "markdown",
      "source": [
        "Que 14-> Describe a scenario where a while loop is more suitable than a for loop.\n",
        "\n",
        "Ans-> A while loop is typically more suitable than a for loop when the number of iterations is not known in advance and the loop needs to continue as long as a certain condition remains true.\n",
        "\n",
        "Here's a scenario where a while loop is more suitable:\n",
        "Reading data from a file until a specific marker is found.\n",
        "\n",
        "Imagine we are reading lines from a file, and we need to process lines until we encounter a line that contains a specific keyword or marker (e.g., \"END OF DATA\"). we don't know beforehand how many lines the file has before that marker appears.\n",
        "\n",
        "In this case, a while loop is ideal because we can set the condition to continue reading as long as the current line does not contain the marker.\n",
        "\n",
        "For example:"
      ],
      "metadata": {
        "id": "dyMJ9syKaw3I"
      }
    },
    {
      "source": [
        "# Imagine 'read_line()' reads the next line from a file\n",
        "# and returns a special value like None when the end is reached\n",
        "\n",
        "marker = \"END OF DATA\"\n",
        "current_line = read_line() # Get the first line\n",
        "\n",
        "while current_line is not None and marker not in current_line:\n",
        "    # Process the current_line\n",
        "    print(f\"Processing: {current_line}\")\n",
        "    current_line = read_line() # Read the next line\n",
        "\n",
        "print(\"Finished reading data.\")\n"
      ],
      "cell_type": "code",
      "metadata": {
        "id": "exb3CO5Ua_W4"
      },
      "execution_count": null,
      "outputs": []
    },
    {
      "cell_type": "markdown",
      "source": [
        "# ***PRACTICAL QUESTIONS***"
      ],
      "metadata": {
        "id": "_VNrn2QcBjty"
      }
    },
    {
      "cell_type": "code",
      "metadata": {
        "colab": {
          "base_uri": "https://localhost:8080/"
        },
        "id": "6f84ffdb",
        "outputId": "0c97f7b6-c124-4ed9-a45b-2e9908f47d83"
      },
      "source": [
        "# Que1 -> Write a Python program to print \"Hello, World!\n",
        "\n",
        "\n",
        "\n",
        "print(\"Hello, World!\")"
      ],
      "execution_count": null,
      "outputs": [
        {
          "output_type": "stream",
          "name": "stdout",
          "text": [
            "Hello, World!\n"
          ]
        }
      ]
    },
    {
      "cell_type": "code",
      "metadata": {
        "colab": {
          "base_uri": "https://localhost:8080/"
        },
        "id": "cdfd4f82",
        "outputId": "c6b9aa62-6189-49b6-bb4a-61181a3fc8ae"
      },
      "source": [
        "# Que2 -> Write a Python program that displays your name and age.\n",
        "\n",
        "\n",
        "\n",
        "name = \"Lavi Jain\"\n",
        "age = 23\n",
        "2\n",
        "print(f\"My name is {name} and I am {age} years old.\")"
      ],
      "execution_count": null,
      "outputs": [
        {
          "output_type": "stream",
          "name": "stdout",
          "text": [
            "My name is Lavi Jain and I am 23 years old.\n"
          ]
        }
      ]
    },
    {
      "cell_type": "code",
      "metadata": {
        "colab": {
          "base_uri": "https://localhost:8080/"
        },
        "id": "ae02ab98",
        "outputId": "f1685385-67a2-413b-f863-83eb1c95df33"
      },
      "source": [
        "#Que3 -> Write code to print all the pre-defined keywords in Python using the keyword library.\n",
        "\n",
        "\n",
        "import keyword\n",
        "\n",
        "print(keyword.kwlist)"
      ],
      "execution_count": null,
      "outputs": [
        {
          "output_type": "stream",
          "name": "stdout",
          "text": [
            "['False', 'None', 'True', 'and', 'as', 'assert', 'async', 'await', 'break', 'class', 'continue', 'def', 'del', 'elif', 'else', 'except', 'finally', 'for', 'from', 'global', 'if', 'import', 'in', 'is', 'lambda', 'nonlocal', 'not', 'or', 'pass', 'raise', 'return', 'try', 'while', 'with', 'yield']\n"
          ]
        }
      ]
    },
    {
      "cell_type": "code",
      "metadata": {
        "colab": {
          "base_uri": "https://localhost:8080/"
        },
        "id": "35f4086c",
        "outputId": "20b9cc9d-6955-4553-f29c-f29281ca485b"
      },
      "source": [
        "# Que4 -> Write a program that checks if a given word is a Python keyword.\n",
        "\n",
        "\n",
        "\n",
        "import keyword\n",
        "\n",
        "word = input(\"Enter a word to check: \")\n",
        "\n",
        "if keyword.iskeyword(word):\n",
        "  print(f\"'{word}' is a Python keyword.\")\n",
        "else:\n",
        "  print(f\"'{word}' is not a Python keyword.\")"
      ],
      "execution_count": null,
      "outputs": [
        {
          "output_type": "stream",
          "name": "stdout",
          "text": [
            "Enter a word to check: True\n",
            "'True' is a Python keyword.\n"
          ]
        }
      ]
    },
    {
      "cell_type": "code",
      "metadata": {
        "colab": {
          "base_uri": "https://localhost:8080/"
        },
        "id": "94cb49dc",
        "outputId": "b74b338e-9873-4627-ee94-4eb2d361c7f9"
      },
      "source": [
        "# Que 5 -> Create a list and tuple in Python, and demonstrate how attempting to change an element works differently for each.\n",
        "\n",
        "\n",
        "\n",
        "# Create a list\n",
        "my_list = [1, 2, 3, 4, 5]\n",
        "print(f\"Original list: {my_list}\")\n",
        "\n",
        "# Attempt to change an element in the list\n",
        "try:\n",
        "    my_list[2] = 10\n",
        "    print(f\"List after attempting to change an element: {my_list}\")\n",
        "except TypeError as e:\n",
        "    print(f\"Error changing element in list: {e}\")\n",
        "\n",
        "print(\"-\" * 20) # Separator\n",
        "\n",
        "# Create a tuple\n",
        "my_tuple = (1, 2, 3, 4, 5)\n",
        "print(f\"Original tuple: {my_tuple}\")\n",
        "\n",
        "# Attempt to change an element in the tuple\n",
        "try:\n",
        "    my_tuple[2] = 10\n",
        "    print(f\"Tuple after attempting to change an element: {my_tuple}\")\n",
        "except TypeError as e:\n",
        "    print(f\"Error changing element in tuple: {e}\")"
      ],
      "execution_count": null,
      "outputs": [
        {
          "output_type": "stream",
          "name": "stdout",
          "text": [
            "Original list: [1, 2, 3, 4, 5]\n",
            "List after attempting to change an element: [1, 2, 10, 4, 5]\n",
            "--------------------\n",
            "Original tuple: (1, 2, 3, 4, 5)\n",
            "Error changing element in tuple: 'tuple' object does not support item assignment\n"
          ]
        }
      ]
    },
    {
      "cell_type": "code",
      "source": [
        "# Que 6-> Write a function to demonstrate the behavior of mutable and immutable\n",
        "# arguments.\n",
        "\n",
        "\n",
        "\n",
        "\n",
        "def modify_mutable(my_list):\n",
        "  \"\"\"Demonstrates modifying a mutable list passed as an argument.\"\"\"\n",
        "  print(f\"Inside function (before modification): {my_list}\")\n",
        "  my_list.append(4) # Modify the list in-place\n",
        "  print(f\"Inside function (after modification): {my_list}\")\n",
        "\n",
        "def modify_immutable(my_int):\n",
        "  \"\"\"Demonstrates attempting to modify an immutable integer passed as an argument.\"\"\"\n",
        "  print(f\"Inside function (before modification): {my_int}\")\n",
        "  my_int = my_int + 1 # This creates a new integer object\n",
        "  print(f\"Inside function (after modification): {my_int}\")\n",
        "\n",
        "# Demonstrate with a mutable object (list)\n",
        "print(\"Demonstrating with a mutable list:\")\n",
        "my_list = [1, 2, 3]\n",
        "print(f\"Outside function (before call): {my_list}\")\n",
        "modify_mutable(my_list)\n",
        "print(f\"Outside function (after call): {my_list}\")\n",
        "\n",
        "print(\"-\" * 30) # Separator\n",
        "\n",
        "# Demonstrate with an immutable object (integer)\n",
        "print(\"Demonstrating with an immutable integer:\")\n",
        "my_int = 10\n",
        "print(f\"Outside function (before call): {my_int}\")\n",
        "modify_immutable(my_int)\n",
        "print(f\"Outside function (after call): {my_int}\")"
      ],
      "metadata": {
        "colab": {
          "base_uri": "https://localhost:8080/"
        },
        "id": "A6T6YepOM4eS",
        "outputId": "aa532a98-2cef-493d-f1e1-d2037715cd8e"
      },
      "execution_count": null,
      "outputs": [
        {
          "output_type": "stream",
          "name": "stdout",
          "text": [
            "Demonstrating with a mutable list:\n",
            "Outside function (before call): [1, 2, 3]\n",
            "Inside function (before modification): [1, 2, 3]\n",
            "Inside function (after modification): [1, 2, 3, 4]\n",
            "Outside function (after call): [1, 2, 3, 4]\n",
            "------------------------------\n",
            "Demonstrating with an immutable integer:\n",
            "Outside function (before call): 10\n",
            "Inside function (before modification): 10\n",
            "Inside function (after modification): 11\n",
            "Outside function (after call): 10\n"
          ]
        }
      ]
    },
    {
      "cell_type": "code",
      "metadata": {
        "colab": {
          "base_uri": "https://localhost:8080/"
        },
        "id": "7e1c619d",
        "outputId": "1ad7e3e3-c59f-4875-a675-f0e9e546ed0c"
      },
      "source": [
        "# Que 7->  Write a program that performs basic arithmetic operations on two user-input numbers.\n",
        "\n",
        "\n",
        "\n",
        "\n",
        "\n",
        "# Get input from the user\n",
        "num1_str = input(\"Enter the first number: \")\n",
        "num2_str = input(\"Enter the second number: \")\n",
        "\n",
        "# Convert the input strings to numbers (float in case of decimals)\n",
        "# Use a try-except block to handle potential errors if the input is not a valid number\n",
        "try:\n",
        "    num1 = float(num1_str)\n",
        "    num2 = float(num2_str)\n",
        "\n",
        "    # Perform arithmetic operations\n",
        "    sum_result = num1 + num2\n",
        "    difference_result = num1 - num2\n",
        "    product_result = num1 * num2\n",
        "\n",
        "    # Handle division by zero\n",
        "    if num2 != 0:\n",
        "        division_result = num1 / num2\n",
        "        print(f\"\\nResults:\")\n",
        "        print(f\"{num1} + {num2} = {sum_result}\")\n",
        "        print(f\"{num1} - {num2} = {difference_result}\")\n",
        "        print(f\"{num1} * {num2} = {product_result}\")\n",
        "        print(f\"{num1} / {num2} = {division_result}\")\n",
        "    else:\n",
        "        print(\"\\nCannot perform division by zero.\")\n",
        "        print(f\"\\nResults:\")\n",
        "        print(f\"{num1} + {num2} = {sum_result}\")\n",
        "        print(f\"{num1} - {num2} = {difference_result}\")\n",
        "        print(f\"{num1} * {num2} = {product_result}\")\n",
        "\n",
        "\n",
        "except ValueError:\n",
        "    print(\"Invalid input. Please enter valid numbers.\")"
      ],
      "execution_count": null,
      "outputs": [
        {
          "output_type": "stream",
          "name": "stdout",
          "text": [
            "Enter the first number: 2\n",
            "Enter the second number: 3\n",
            "\n",
            "Results:\n",
            "2.0 + 3.0 = 5.0\n",
            "2.0 - 3.0 = -1.0\n",
            "2.0 * 3.0 = 6.0\n",
            "2.0 / 3.0 = 0.6666666666666666\n"
          ]
        }
      ]
    },
    {
      "cell_type": "code",
      "metadata": {
        "colab": {
          "base_uri": "https://localhost:8080/"
        },
        "id": "b21f0649",
        "outputId": "0781da3c-c0cc-40f4-97c6-c4c7648bffe5"
      },
      "source": [
        "# Que 8-> Write a program to demonstrate the use of logical operators.\n",
        "\n",
        "\n",
        "\n",
        "\n",
        "\n",
        "# Demonstrate the 'and' operator\n",
        "print(\"--- Demonstrating 'and' operator ---\")\n",
        "x = 10\n",
        "y = 20\n",
        "print(f\"Is x > 5 and y < 25? {x > 5 and y < 25}\") # Both conditions are True\n",
        "print(f\"Is x > 15 and y < 25? {x > 15 and y < 25}\") # First condition is False\n",
        "print(f\"Is x > 5 and y > 25? {x > 5 and y > 25}\")   # Second condition is False\n",
        "print(f\"Is x > 15 and y > 25? {x > 15 and y > 25}\") # Both conditions are False\n",
        "\n",
        "# Demonstrate the 'or' operator\n",
        "print(\"\\n--- Demonstrating 'or' operator ---\")\n",
        "z = 5\n",
        "print(f\"Is x > 15 or y < 25? {x > 15 or y < 25}\") # Second condition is True\n",
        "print(f\"Is x > 5 or y > 25? {x > 5 or y > 25}\")   # First condition is True\n",
        "print(f\"Is z < 10 or y < 15? {z < 10 or y < 15}\") # Both conditions are True\n",
        "print(f\"Is z > 10 or y > 25? {z > 10 or y > 25}\") # Both conditions are False\n",
        "\n",
        "# Demonstrate the 'not' operator\n",
        "print(\"\\n--- Demonstrating 'not' operator ---\")\n",
        "is_sunny = True\n",
        "is_raining = False\n",
        "print(f\"Is it not sunny? {not is_sunny}\")     # Negates True\n",
        "print(f\"Is it not raining? {not is_raining}\") # Negates False\n",
        "\n",
        "# Using logical operators in an if statement\n",
        "print(\"\\n--- Using logical operators in an if statement ---\")\n",
        "temperature = 22\n",
        "is_weekend = True\n",
        "\n",
        "if temperature > 20 and is_weekend:\n",
        "  print(\"It's a warm weekend!\")\n",
        "\n",
        "if temperature < 15 or not is_weekend:\n",
        "  print(\"Might be a cooler day or a weekday.\")"
      ],
      "execution_count": null,
      "outputs": [
        {
          "output_type": "stream",
          "name": "stdout",
          "text": [
            "--- Demonstrating 'and' operator ---\n",
            "Is x > 5 and y < 25? True\n",
            "Is x > 15 and y < 25? False\n",
            "Is x > 5 and y > 25? False\n",
            "Is x > 15 and y > 25? False\n",
            "\n",
            "--- Demonstrating 'or' operator ---\n",
            "Is x > 15 or y < 25? True\n",
            "Is x > 5 or y > 25? True\n",
            "Is z < 10 or y < 15? True\n",
            "Is z > 10 or y > 25? False\n",
            "\n",
            "--- Demonstrating 'not' operator ---\n",
            "Is it not sunny? False\n",
            "Is it not raining? True\n",
            "\n",
            "--- Using logical operators in an if statement ---\n",
            "It's a warm weekend!\n"
          ]
        }
      ]
    },
    {
      "cell_type": "code",
      "metadata": {
        "colab": {
          "base_uri": "https://localhost:8080/"
        },
        "id": "5edc1a57",
        "outputId": "d44cc5cc-c2c4-4f2c-a7bc-dc904cd081ee"
      },
      "source": [
        "# Que 9->  Write a Python program to convert user input from string to integer, float, and boolean types.\n",
        "\n",
        "\n",
        "\n",
        "\n",
        "# Get input from the user as a string\n",
        "user_input_str = input(\"Enter a value: \")\n",
        "\n",
        "# --- Convert to Integer ---\n",
        "try:\n",
        "    # Attempt to convert the input string to an integer\n",
        "    user_int = int(user_input_str)\n",
        "    print(f\"\\nInput as Integer: {user_int} (Type: {type(user_int)})\")\n",
        "except ValueError:\n",
        "    # Handle the case where the input cannot be converted to an integer\n",
        "    print(f\"\\nCould not convert '{user_input_str}' to an integer.\")\n",
        "\n",
        "# --- Convert to Float ---\n",
        "try:\n",
        "    # Attempt to convert the input string to a float\n",
        "    user_float = float(user_input_str)\n",
        "    print(f\"Input as Float: {user_float} (Type: {type(user_float)})\")\n",
        "except ValueError:\n",
        "    # Handle the case where the input cannot be converted to a float\n",
        "    print(f\"Could not convert '{user_input_str}' to a float.\")\n",
        "\n",
        "# --- Convert to Boolean ---\n",
        "# In Python, non-empty strings are considered True in a boolean context.\n",
        "# We can also check for specific string values like \"True\", \"False\", \"1\", \"0\" for more explicit conversion.\n",
        "user_bool = bool(user_input_str)\n",
        "print(f\"Input as Boolean (using bool()): {user_bool} (Type: {type(user_bool)})\")\n",
        "\n",
        "# More explicit boolean check (optional, but often useful)\n",
        "user_bool_explicit = False\n",
        "if user_input_str.lower() in ('true', '1'):\n",
        "    user_bool_explicit = True\n",
        "elif user_input_str.lower() in ('false', '0'):\n",
        "    user_bool_explicit = False\n",
        "else:\n",
        "    # Handle other cases as needed, maybe based on non-empty string\n",
        "    user_bool_explicit = bool(user_input_str) # Default to standard bool() behavior\n",
        "\n",
        "print(f\"Input as Boolean (explicit check): {user_bool_explicit} (Type: {type(user_bool_explicit)})\")"
      ],
      "execution_count": null,
      "outputs": [
        {
          "output_type": "stream",
          "name": "stdout",
          "text": [
            "Enter a value: 23.2\n",
            "\n",
            "Could not convert '23.2' to an integer.\n",
            "Input as Float: 23.2 (Type: <class 'float'>)\n",
            "Input as Boolean (using bool()): True (Type: <class 'bool'>)\n",
            "Input as Boolean (explicit check): True (Type: <class 'bool'>)\n"
          ]
        }
      ]
    },
    {
      "cell_type": "code",
      "metadata": {
        "colab": {
          "base_uri": "https://localhost:8080/"
        },
        "id": "7d4eb43d",
        "outputId": "68be2a5a-cefd-40e4-f113-91a498f6ed95"
      },
      "source": [
        "# Que 10 -> Write code to demonstrate type casting with list elements.\n",
        "\n",
        "\n",
        "\n",
        "\n",
        "\n",
        "# Create a list with elements of different types (some as strings)\n",
        "my_list = [\"1\", \"2.5\", \"3\", \"4.0\", \"5\"]\n",
        "print(f\"Original list: {my_list}\")\n",
        "print(f\"Original list element types: {[type(item) for item in my_list]}\")\n",
        "\n",
        "# Convert all elements to integers\n",
        "# We'll use a list comprehension and int()\n",
        "try:\n",
        "    int_list = [int(item) for item in my_list]\n",
        "    print(f\"\\nList after converting to integers: {int_list}\")\n",
        "    print(f\"Integer list element types: {[type(item) for item in int_list]}\")\n",
        "except ValueError as e:\n",
        "    print(f\"\\nCould not convert all elements to integers: {e}\")\n",
        "\n",
        "\n",
        "# Convert all elements to floats\n",
        "# We'll use a list comprehension and float()\n",
        "try:\n",
        "    float_list = [float(item) for item in my_list]\n",
        "    print(f\"\\nList after converting to floats: {float_list}\")\n",
        "    print(f\"Float list element types: {[type(item) for item in float_list]}\")\n",
        "except ValueError as e:\n",
        "    print(f\"\\nCould not convert all elements to floats: {e}\")\n",
        "\n",
        "# Example converting numbers within a list to strings\n",
        "number_list = [10, 20.5, 30]\n",
        "print(f\"\\nOriginal number list: {number_list}\")\n",
        "print(f\"Original number list element types: {[type(item) for item in number_list]}\")\n",
        "\n",
        "str_list = [str(item) for item in number_list]\n",
        "print(f\"Number list after converting to strings: {str_list}\")\n",
        "print(f\"String list element types: {[type(item) for item in str_list]}\")"
      ],
      "execution_count": null,
      "outputs": [
        {
          "output_type": "stream",
          "name": "stdout",
          "text": [
            "Original list: ['1', '2.5', '3', '4.0', '5']\n",
            "Original list element types: [<class 'str'>, <class 'str'>, <class 'str'>, <class 'str'>, <class 'str'>]\n",
            "\n",
            "Could not convert all elements to integers: invalid literal for int() with base 10: '2.5'\n",
            "\n",
            "List after converting to floats: [1.0, 2.5, 3.0, 4.0, 5.0]\n",
            "Float list element types: [<class 'float'>, <class 'float'>, <class 'float'>, <class 'float'>, <class 'float'>]\n",
            "\n",
            "Original number list: [10, 20.5, 30]\n",
            "Original number list element types: [<class 'int'>, <class 'float'>, <class 'int'>]\n",
            "Number list after converting to strings: ['10', '20.5', '30']\n",
            "String list element types: [<class 'str'>, <class 'str'>, <class 'str'>]\n"
          ]
        }
      ]
    },
    {
      "cell_type": "code",
      "metadata": {
        "colab": {
          "base_uri": "https://localhost:8080/"
        },
        "id": "e261da23",
        "outputId": "4472a413-5d22-4004-ae42-eba8f6ace99a"
      },
      "source": [
        "# Que 11-> Write a program that checks if a number is positive, negative, or zero\n",
        "\n",
        "\n",
        "\n",
        "\n",
        "\n",
        "# Get input from the user\n",
        "num_str = input(\"Enter a number: \")\n",
        "\n",
        "# Convert the input string to a number (float in case of decimals)\n",
        "try:\n",
        "    num = float(num_str)\n",
        "\n",
        "    # Check if the number is positive, negative, or zero\n",
        "    if num > 0:\n",
        "        print(f\"The number {num} is positive.\")\n",
        "    elif num < 0:\n",
        "        print(f\"The number {num} is negative.\")\n",
        "    else:\n",
        "        print(f\"The number {num} is zero.\")\n",
        "\n",
        "except ValueError:\n",
        "    print(\"Invalid input. Please enter a valid number.\")"
      ],
      "execution_count": null,
      "outputs": [
        {
          "output_type": "stream",
          "name": "stdout",
          "text": [
            "Enter a number: 2\n",
            "The number 2.0 is positive.\n"
          ]
        }
      ]
    },
    {
      "cell_type": "code",
      "metadata": {
        "colab": {
          "base_uri": "https://localhost:8080/"
        },
        "id": "8879ccda",
        "outputId": "35418649-19e7-497f-901a-f9bc168ba155"
      },
      "source": [
        "# Que 12-> Write a for loop to print numbers from 1 to 10.\n",
        "\n",
        "\n",
        "\n",
        "\n",
        "\n",
        "for i in range(1, 11):\n",
        "  print(i)"
      ],
      "execution_count": null,
      "outputs": [
        {
          "output_type": "stream",
          "name": "stdout",
          "text": [
            "1\n",
            "2\n",
            "3\n",
            "4\n",
            "5\n",
            "6\n",
            "7\n",
            "8\n",
            "9\n",
            "10\n"
          ]
        }
      ]
    },
    {
      "cell_type": "code",
      "metadata": {
        "colab": {
          "base_uri": "https://localhost:8080/"
        },
        "id": "c4c6d36a",
        "outputId": "2d99a707-04ea-4f6c-a2f9-f9473b1e3b91"
      },
      "source": [
        "# Que 13 -> Write a Python program to find the sum of all even numbers between 1 and 50.\n",
        "\n",
        "sum_of_evens = 0\n",
        "\n",
        "# Iterate through numbers from 1 to 50\n",
        "for number in range(1, 51):\n",
        "  # Check if the number is even\n",
        "  if number % 2 == 0:\n",
        "    sum_of_evens += number\n",
        "\n",
        "print(f\"The sum of all even numbers between 1 and 50 is: {sum_of_evens}\")"
      ],
      "execution_count": null,
      "outputs": [
        {
          "output_type": "stream",
          "name": "stdout",
          "text": [
            "The sum of all even numbers between 1 and 50 is: 650\n"
          ]
        }
      ]
    },
    {
      "cell_type": "code",
      "metadata": {
        "colab": {
          "base_uri": "https://localhost:8080/"
        },
        "id": "f85f96e1",
        "outputId": "91d3d118-910e-4cc3-ef5e-20b26e08132c"
      },
      "source": [
        "# Que 14-> Write a program to reverse a string using a while loop.\n",
        "\n",
        "\n",
        "\n",
        "\n",
        "input_string = \"hello\"\n",
        "reversed_string = \"\"\n",
        "index = len(input_string) - 1 # Start from the last character\n",
        "\n",
        "while index >= 0:\n",
        "  reversed_string += input_string[index]\n",
        "  index -= 1 # Move to the previous character\n",
        "\n",
        "print(f\"Original string: {input_string}\")\n",
        "print(f\"Reversed string: {reversed_string}\")"
      ],
      "execution_count": null,
      "outputs": [
        {
          "output_type": "stream",
          "name": "stdout",
          "text": [
            "Original string: hello\n",
            "Reversed string: olleh\n"
          ]
        }
      ]
    },
    {
      "cell_type": "code",
      "metadata": {
        "colab": {
          "base_uri": "https://localhost:8080/"
        },
        "id": "b86d9cae",
        "outputId": "4b55f1a8-24d8-4aef-ceac-0e5265fb871c"
      },
      "source": [
        "# Que 15-> Write a Python program to calculate the factorial of a number provided by the user using a while loop.\n",
        "\n",
        "\n",
        "\n",
        "\n",
        "\n",
        "# Get input from the user\n",
        "num_str = input(\"Enter a non-negative integer: \")\n",
        "\n",
        "try:\n",
        "    num = int(num_str)\n",
        "    factorial = 1\n",
        "\n",
        "    if num < 0:\n",
        "        print(\"Factorial is not defined for negative numbers.\")\n",
        "    elif num == 0:\n",
        "        print(\"The factorial of 0 is 1.\")\n",
        "    else:\n",
        "        # Calculate factorial using a while loop\n",
        "        i = 1\n",
        "        while i <= num:\n",
        "            factorial *= i\n",
        "            i += 1\n",
        "        print(f\"The factorial of {num} is {factorial}.\")\n",
        "\n",
        "except ValueError:\n",
        "    print(\"Invalid input. Please enter a non-negative integer.\")"
      ],
      "execution_count": null,
      "outputs": [
        {
          "output_type": "stream",
          "name": "stdout",
          "text": [
            "Enter a non-negative integer: 12\n",
            "The factorial of 12 is 479001600.\n"
          ]
        }
      ]
    }
  ]
}