{
  "nbformat": 4,
  "nbformat_minor": 0,
  "metadata": {
    "colab": {
      "provenance": []
    },
    "kernelspec": {
      "name": "python3",
      "display_name": "Python 3"
    },
    "language_info": {
      "name": "python"
    }
  },
  "cells": [
    {
      "cell_type": "markdown",
      "source": [
        "Que 1-> What is Object-Oriented Programming (OOP)?\n",
        "\n",
        "Ans Object-Oriented Programming (OOP) is a programming paradigm based on the concept of \"objects\", which can contain data and code: data in the form of fields (often known as attributes or properties), and code, in the form of procedures (often known as methods)."
      ],
      "metadata": {
        "id": "HL1gOK52l-wd"
      }
    },
    {
      "cell_type": "markdown",
      "source": [
        "Que 2-> What is a class in OOP?\n",
        "\n",
        "Ans In Object-Oriented Programming (OOP), a class is like a blueprint or a template for creating objects. It defines the attributes (data) and methods (functions or behaviors) that all objects created from that class will have."
      ],
      "metadata": {
        "id": "RBbB1Tb-mZp6"
      }
    },
    {
      "cell_type": "markdown",
      "source": [
        "Que 3-> What is an object in OOP?\n",
        "\n",
        "Ans In Object-Oriented Programming (OOP), an object is a fundamental concept. If a class is the blueprint, then an object is the actual instance built from that blueprint."
      ],
      "metadata": {
        "id": "PIA1YvSnmt1d"
      }
    },
    {
      "cell_type": "markdown",
      "source": [
        "Que 4->  What is the difference between abstraction and encapsulation?\n",
        "\n",
        "Ans Both abstraction and encapsulation are fundamental concepts in Object-Oriented Programming (OOP), but they serve different purposes:\n",
        "\n",
        "Encapsulation:\n",
        "\n",
        "Focus: Bundling data (attributes) and the methods (functions) that operate on that data within a single unit, typically a class or object.\n",
        "Purpose: To hide the internal implementation details of an object from the outside world and only expose a public interface (methods) to interact with the object. This protects the data from unauthorized access or modification and allows you to change the internal implementation without affecting the code that uses the object.\n",
        "Analogy: Think of a television. Encapsulation is like putting all the internal components (circuits, wires, etc.) inside a protective case. You don't need to know how the internal parts work to use the TV; you just interact with it through the remote control (the public interface).\n",
        "Abstraction:\n",
        "\n",
        "Focus: Hiding complex implementation details and showing only the essential features or behaviors of an object. It focuses on what an object does rather than how it does it.\n",
        "Purpose: To simplify complex systems by modeling classes based on their essential properties and behaviors, ignoring irrelevant details. This helps in managing complexity and allows you to work with objects at a higher level of abstraction.\n",
        "Analogy: Think of driving a car. Abstraction is like not needing to understand the intricate workings of the engine, transmission, or braking system to drive the car. You interact with the car through a simplified interface (steering wheel, pedals, gear shift) that allows you to control its essential behaviors.\n",
        "Key Differences Summarized:\n",
        "\n",
        "Encapsulation is about how you package data and methods together. It's about bundling and protecting the internal state.\n",
        "Abstraction is about what you expose to the outside world. It's about hiding complexity and showing only the essential features."
      ],
      "metadata": {
        "id": "MH2nL4mAm1U2"
      }
    },
    {
      "cell_type": "markdown",
      "source": [
        "Que 5-> What are dunder methods in Python?\n",
        "\n",
        "Ans In Python, \"dunder methods\" are special methods that have double underscores __ at the beginning and end of their names. The \"dunder\" comes from \"double underscore\"."
      ],
      "metadata": {
        "id": "sKMulwYVm_23"
      }
    },
    {
      "cell_type": "markdown",
      "source": [
        "Que 6-> Explain the concept of inheritance in OOP.\n",
        "\n",
        "Ans In Object-Oriented Programming (OOP), inheritance is a mechanism that allows a new class (called the subclass, derived class, or child class) to inherit properties (attributes) and behaviors (methods) from an existing class (called the superclass, base class, or parent class).\n",
        "\n",
        "* Superclass (Parent Class): This is the\n",
        "original class that provides the common attributes and methods.\n",
        "*Subclass (Child Class): This is the new class that inherits from the superclass. It automatically gets all the public and protected attributes and methods of the superclass.\n",
        "*\"Is-a\" Relationship: Inheritance represents an \"is-a\" relationship. For example, a \"Dog is a Mammal,\" or a \"Car is a Vehicle.\" The subclass is a more specific type of the superclass.\n",
        "Benefits of Inheritance:"
      ],
      "metadata": {
        "id": "WgGIl-oanLqT"
      }
    },
    {
      "cell_type": "markdown",
      "source": [
        "Que 7-> What is polymorphism in OOP?\n",
        "\n",
        "Ans Polymorphism is a powerful concept that contributes to the flexibility, extensibility, and maintainability of OOP programs. It allows you to write more generic and reusable code by focusing on the common interface of objects rather than their specific types."
      ],
      "metadata": {
        "id": "vNpIGq4XnuTt"
      }
    },
    {
      "cell_type": "markdown",
      "source": [
        "Que 8->  How is encapsulation achieved in Python?\n",
        "\n",
        "Ans Encapsulation in Python, while not as strictly enforced as in some other languages (like Java with its private keyword), is primarily achieved through conventions and name mangling.\n",
        "\n",
        "In practice, encapsulation in Python is achieved by:\n",
        "\n",
        "Bundling data and methods within classes.\n",
        "Using single underscores (_) as a convention to indicate protected members that should not be accessed directly from outside.\n",
        "Using double underscores (__) for name mangling to make it harder to access members that are intended to be more \"private.\"\n",
        "The main goal is to provide a clear interface for interacting with objects and to hide the internal implementation details, promoting better code organization, maintainability, and flexibility."
      ],
      "metadata": {
        "id": "jYdUQQxgoFtX"
      }
    },
    {
      "cell_type": "markdown",
      "source": [
        "Que ->9 What is a constructor in Python?\n",
        "\n",
        "Ans In Python, a constructor is a special method that is automatically called when you create a new object (an instance) of a class. Its primary purpose is to initialize the object's attributes with initial values.\n",
        "\n",
        "In Python, the constructor method is always named __init__. This is a \"dunder\" method (double underscore at the beginning and end), which we discussed earlier.\n",
        "\n",
        "Here's how the __init__ method works:\n",
        "\n",
        "Automatic Invocation: You don't explicitly call __init__. When you create an object by calling the class name (e.g., my_object = MyClass()), Python automatically calls the __init__ method of that class.\n",
        "self Parameter: The first parameter of the __init__ method is always self. This refers to the instance of the object being created. You use self to access and set the object's attributes.\n",
        "Initialization: Inside the __init__ method, you typically initialize the object's attributes using the values passed as arguments when creating the object.\n",
        "Example:\n",
        "\n",
        "Let's say you have a Person class. You can use the __init__ method to set the name and age attributes when you create a Person object:"
      ],
      "metadata": {
        "id": "JthUn-nKpJ-q"
      }
    },
    {
      "source": [
        "class Person:\n",
        "    def __init__(self, name, age):\n",
        "        self.name = name  # Initialize the name attribute\n",
        "        self.age = age    # Initialize the age attribute\n",
        "\n",
        "    def greet(self):\n",
        "        print(f\"Hello, my name is {self.name} and I am {self.age} years old.\")\n",
        "\n",
        "# Creating a Person object\n",
        "person1 = Person(\"Alice\", 30)\n",
        "\n",
        "# Accessing the object's attributes\n",
        "print(person1.name)\n",
        "print(person1.age)\n",
        "\n",
        "# Calling a method\n",
        "person1.greet()"
      ],
      "cell_type": "code",
      "metadata": {
        "id": "GoVSEpX8pkpw"
      },
      "execution_count": null,
      "outputs": []
    },
    {
      "cell_type": "markdown",
      "source": [
        "In this example:\n",
        "\n",
        "class Person: defines the Person class.\n",
        "def __init__(self, name, age): defines the constructor method. It takes self (the object itself), name, and age as parameters.\n",
        "self.name = name and self.age = age initialize the name and age attributes of the object being created.\n",
        "person1 = Person(\"Alice\", 30) creates a new Person object. When this line is executed, the __init__ method is automatically called with self referring to the new object, name being \"Alice\", and age being 30.\n",
        "The constructor is essential for setting up the initial state of an object when it's created, ensuring that the object is ready to be used."
      ],
      "metadata": {
        "id": "_o0eBQZBpmF4"
      }
    },
    {
      "cell_type": "markdown",
      "source": [
        "Que 10-> What are class and static methods in Python?\n",
        "\n",
        "Ans Class Methods:\n",
        "\n",
        "Definition: Defined using the @classmethod decorator.\n",
        "First Argument: Automatically receive the class itself (usually named cls) as their first argument, instead of the instance.\n",
        "Purpose: Operate on the class itself or create instances of the class. They can access and modify class attributes and call other class methods. They are often used as factory methods to create objects in different ways."
      ],
      "metadata": {
        "id": "EarWT5qfprKF"
      }
    },
    {
      "source": [
        "class MyClass:\n",
        "    class_attribute = \"I am a class attribute\"\n",
        "\n",
        "    def __init__(self, value):\n",
        "        self.value = value\n",
        "\n",
        "    @classmethod\n",
        "    def class_method(cls):\n",
        "        print(f\"Class method called. Class attribute: {cls.class_attribute}\")\n",
        "\n",
        "    @classmethod\n",
        "    def create_instance(cls, value):\n",
        "        return cls(value) # Can use cls() to create an instance of the class\n",
        "\n",
        "MyClass.class_method() # Called on the class itself\n",
        "obj = MyClass.create_instance(20)\n",
        "obj.instance_method()"
      ],
      "cell_type": "code",
      "metadata": {
        "id": "oqcY1kzcqV-e"
      },
      "execution_count": null,
      "outputs": []
    },
    {
      "cell_type": "markdown",
      "source": [
        "When to use class methods:\n",
        "\n",
        "When you need to access or modify class attributes.\n",
        "When you need to create alternative constructors (factory methods) for your class.\n",
        "\n",
        "Static Methods:\n",
        "\n",
        "Definition: Defined using the @staticmethod decorator.\n",
        "First Argument: Do not automatically receive either the instance (self) or the class (cls) as their first argument. They are essentially regular functions that are grouped within a class because they are logically related to the class.\n",
        "Purpose: Perform utility tasks that are related to the class but do not need access to instance or class-specific data. They are like standalone functions that happen to be defined inside a class namespace.\n"
      ],
      "metadata": {
        "id": "LU5k4kRyqdnb"
      }
    },
    {
      "source": [
        "class MyClass:\n",
        "    @staticmethod\n",
        "    def static_method(x, y):\n",
        "        print(f\"Static method called. Sum: {x + y}\")\n",
        "\n",
        "MyClass.static_method(5, 3) # Called on the class itself"
      ],
      "cell_type": "code",
      "metadata": {
        "id": "lzQ_HFzmqqFs"
      },
      "execution_count": null,
      "outputs": []
    },
    {
      "cell_type": "markdown",
      "source": [
        "When to use static methods:\n",
        "\n",
        "When a method does not use any instance-specific or class-specific data.\n",
        "When a method is a utility function that is logically related to the class."
      ],
      "metadata": {
        "id": "fl574Uk5qsyf"
      }
    },
    {
      "cell_type": "markdown",
      "source": [
        "Que 11->  What is method overloading in Python?\n",
        "\n",
        "Ans Python doesn't have true method overloading based on parameter signatures like some other languages, you can achieve similar flexibility and behavior by using default arguments, variable-length arguments, or type checking within your methods. These approaches allow you to create methods that can handle different inputs in a single definition."
      ],
      "metadata": {
        "id": "3Cpyi4Nrq0bA"
      }
    },
    {
      "cell_type": "markdown",
      "source": [
        "Que 12-> What is method overriding in OOP?\n",
        "\n",
        "Ans  Method overriding is a key concept in inheritance and is a form of polymorphism.\n",
        "\n",
        "It occurs when a subclass provides its own specific implementation for a method that is already defined in its superclass. When you call that method on an object of the subclass, the implementation in the subclass is executed instead of the one in the superclass.\n",
        "\n",
        "Here's a breakdown:\n",
        "\n",
        "Inheritance is Required: Method overriding is only possible when there is an inheritance relationship between classes. The subclass must inherit from the superclass.\n",
        "Same Method Signature: The method in the subclass that overrides the superclass method must have the same name, number of parameters, and type of parameters (in languages where types are explicitly defined).\n",
        "Different Implementation: While the method signature is the same, the body of the method in the subclass provides a different implementation tailored to the subclass's specific needs.\n",
        "Runtime Binding: When you call an overridden method on an object, the specific implementation that is executed is determined at runtime based on the actual type of the object, not the type of the reference variable. This is known as dynamic dispatch or runtime polymorphism."
      ],
      "metadata": {
        "id": "h6NFSyTqrTWt"
      }
    },
    {
      "cell_type": "markdown",
      "source": [
        "Que 13->  What is a property decorator in Python?\n",
        "\n",
        "Ans The property decorator is a powerful tool for managing attribute access and behavior in Python classes, promoting better encapsulation and code design."
      ],
      "metadata": {
        "id": "HVWhsM-hsALm"
      }
    },
    {
      "cell_type": "markdown",
      "source": [
        "Que 14 -> Why is polymorphism important in OOP?\n",
        "\n",
        "Ans 1. Flexibility and Extensibility: Polymorphism allows you to write code that can work with objects of different classes through a common interface (like a superclass or an abstract class). This means you can add new classes to your program without having to modify the existing code that uses those objects. This makes your code much more flexible and easier to extend.\n",
        "\n",
        "   * Example: Imagine you have a drawing program with different shapes (circles, squares, triangles). Without polymorphism, you might need separate code to draw each shape. With polymorphism, you can have a draw() method in a base Shape class, and each subclass (Circle, Square, Triangle) can override it to draw itself. Then, you can have a list of Shape objects and call draw() on each one, and the correct drawing method for each shape will be executed automatically. If you add a new shape (e.g., Pentagon), you just create a new subclass and override draw(), and the existing drawing code will work with the new shape without any changes.\n",
        "\n",
        "2.  Code Reusability: Polymorphism promotes code reuse by allowing you to write generic functions or methods that can operate on objects of different types that share a common interface. This reduces code duplication and makes your programs more concise.\n",
        "\n",
        "    * Example: A function that processes a list of Animal objects and calls their speak() method can work with a list containing Dog, Cat, and other Animal subclasses, as long as they all have a speak() method. You don't need to write separate functions for lists of dogs, cats, etc.\n",
        "3 Maintainability: Because code that uses polymorphic objects is more generic, it's often easier to maintain. Changes to the implementation details of a specific class don't necessarily require changes in the code that uses that class, as long as the interface remains the same.\n",
        "\n",
        "4 Decoupling: Polymorphism helps to decouple different parts of your code. The code that uses polymorphic objects doesn't need to be tightly coupled to the specific implementations of those objects. This makes your code more modular and easier to manage.\n",
        "\n",
        "5  Simplified Code: By using polymorphism, you can often write simpler and more readable code. Instead of using lengthy if/elif/else chains to check the type of an object and perform different actions, you can simply call a method on the object, and polymorphism will handle the rest."
      ],
      "metadata": {
        "id": "NYWv2XSitE1i"
      }
    },
    {
      "cell_type": "markdown",
      "source": [
        "Que 15 -> What is an abstract class in Python?\n",
        "\n",
        "Ans An abstract class is a class that cannot be instantiated directly. Its primary purpose is to serve as a blueprint for other classes (subclasses). Abstract classes often define abstract methods, which are methods that are declared in the abstract class but do not have an implementation. Subclasses that inherit from an abstract class are then required to provide implementations for these abstract methods.\n",
        "\n",
        "In Python, you can create abstract classes using the abc module (Abstract Base Classes). You need to import ABC and abstractmethod from this module."
      ],
      "metadata": {
        "id": "RuoeEWiDtt0U"
      }
    },
    {
      "cell_type": "markdown",
      "source": [
        "Que 16 -> What are the advantages of OOP?\n",
        "\n",
        "Ans\n",
        "1. Modularity: OOP encourages breaking down a complex system into smaller, self-contained units called objects. Each object represents a real-world entity or concept and encapsulates its own data and behavior. This modularity makes the code easier to understand, develop, and manage.\n",
        "2. Reusability: Through concepts like inheritance, you can create new classes that inherit properties and behaviors from existing classes. This promotes code reuse, reducing redundancy and saving development time. You don't have to reinvent the wheel for common functionalities.\n",
        "3. Maintainability: OOP code is generally easier to maintain because changes to one object or class are less likely to affect other parts of the system, as long as the interfaces remain consistent. The encapsulated nature of objects helps in isolating modifications.\n",
        "4. Flexibility and Extensibility: Polymorphism allows you to write code that can work with objects of different classes through a common interface. This makes your code more flexible and easier to extend with new classes and functionalities without modifying existing code.\n",
        "5. Abstraction: OOP allows you to focus on the essential features of objects and hide the complex implementation details. This simplifies the system and allows you to work with objects at a higher level of abstraction, making the code easier to reason about.\n",
        "6. Improved Collaboration: In larger projects, OOP's modularity and clear interfaces make it easier for multiple developers to work together on different parts of the system concurrently.\n",
        "7. Easier Debugging: Because objects are self-contained units, it can be easier to isolate and debug issues within a specific object or class.\n",
        "8. Real-World Modeling: OOP concepts like objects, attributes, and methods align well with how we perceive and interact with the real world. This can make it easier to model complex systems and translate real-world problems into code.\n",
        "9. Scalability: OOP principles help in building scalable applications where you can add new features and functionalities without significantly impacting the existing codebase."
      ],
      "metadata": {
        "id": "czCr4FezvwF5"
      }
    },
    {
      "cell_type": "markdown",
      "source": [
        "Que17 ->What is the difference between a class variable and an instance variable?\n",
        "\n",
        "Ans 1. Instance Variables:\n",
        "\n",
        "Definition: Instance variables are specific to each instance (object) of a class. They are defined within the methods of a class, typically in the __init__ constructor, using the self keyword.\n",
        "Scope: Each object has its own copy of the instance variables. Changes made to an instance variable in one object do not affect the instance variable in other objects of the same class.\n",
        "Purpose: To store data that is unique to each instance of the class.\n",
        "\n",
        "2. Class Variables:\n",
        "\n",
        "Definition: Class variables are shared among all instances (objects) of a class. They are defined within the class definition, outside of any methods.\n",
        "Scope: There is only one copy of the class variable, and it is associated with the class itself, not with individual instances. All objects of the class share the same class variable.\n",
        "Purpose: To store data that is common to all instances of the class, or to define constants related to the class."
      ],
      "metadata": {
        "id": "p_0RwmthwvSU"
      }
    },
    {
      "cell_type": "markdown",
      "source": [
        "Que 18-> What is multiple inheritance in Python?\n",
        "\n",
        "Ans Multiple inheritance allows a subclass to inherit attributes and methods from multiple superclasses. This means the subclass combines the characteristics and behaviors of all its parent classes.\n",
        "\n",
        "How it works in Python:\n",
        "\n",
        "In Python, you specify multiple parent classes in the class definition, separated by commas:"
      ],
      "metadata": {
        "id": "v_lwRKO5xs-f"
      }
    },
    {
      "source": [
        "class SuperClass1:\n",
        "    # Attributes and methods of SuperClass1\n",
        "    pass\n",
        "\n",
        "class SuperClass2:\n",
        "    # Attributes and methods of SuperClass2\n",
        "    pass\n",
        "\n",
        "class SubClass(SuperClass1, SuperClass2):\n",
        "    # Attributes and methods of SubClass, inheriting from both parents\n",
        "    pass"
      ],
      "cell_type": "code",
      "metadata": {
        "id": "lIUawPT_yAmT"
      },
      "execution_count": null,
      "outputs": []
    },
    {
      "cell_type": "markdown",
      "source": [
        "The SubClass will inherit all the public and protected members from both SuperClass1 and SuperClass2.\n",
        "\n",
        "The Diamond Problem (and how Python handles it):\n",
        "\n",
        "One challenge with multiple inheritance is the \"diamond problem.\" This occurs when a class inherits from two classes that have a common ancestor. If a method is defined in the common ancestor and overridden in the two intermediate classes, it can be ambiguous which implementation the final subclass should inherit.\n",
        "\n",
        "Python handles the diamond problem using a mechanism called the Method Resolution Order (MRO). The MRO determines the order in which Python searches for methods and attributes in the inheritance hierarchy. Python uses a specific algorithm called C3 Linearization to calculate the MRO, which ensures a consistent and predictable order.\n",
        "\n",
        "You can view the MRO of a class using the .__mro__ attribute or the help() function."
      ],
      "metadata": {
        "id": "8u_OhgC0yRmg"
      }
    },
    {
      "source": [
        "class A:\n",
        "    def greet(self):\n",
        "        print(\"Hello from A\")\n",
        "\n",
        "class B(A):\n",
        "    def greet(self):\n",
        "        print(\"Hello from B\")\n",
        "\n",
        "class C(A):\n",
        "    def greet(self):\n",
        "        print(\"Hello from C\")\n",
        "\n",
        "class D(B, C):\n",
        "    pass\n",
        "\n",
        "obj = D()\n",
        "obj.greet() # Output will depend on the MRO\n",
        "\n",
        "print(D.__mro__)\n",
        "# Output might look something like:\n",
        "# (<class '__main__.D'>, <class '__main__.B'>, <class '__main__.C'>, <class '__main__.A'>, <class 'object'>)"
      ],
      "cell_type": "code",
      "metadata": {
        "id": "MuxQtHJfyTJI"
      },
      "execution_count": null,
      "outputs": []
    },
    {
      "cell_type": "markdown",
      "source": [
        "In this diamond example, when obj.greet() is called, Python follows the MRO of class D. It will first look in D, then B, then C, and finally A. In this case, since greet() is found in B, the implementation from B will be executed.\n",
        "\n",
        "When to use multiple inheritance:\n",
        "\n",
        "Multiple inheritance can be useful in certain situations, such as:\n",
        "\n",
        "Mixins: Creating small classes (mixins) that provide specific functionalities that can be mixed into other classes.\n",
        "Modeling complex relationships: Representing real-world scenarios where an entity has characteristics from multiple categories.\n",
        "Potential Drawbacks:\n",
        "\n",
        "While powerful, multiple inheritance can sometimes lead to complex inheritance hierarchies and make code harder to understand and maintain. It's often recommended to favor composition over inheritance, and to use multiple inheritance judiciously, especially for mixins."
      ],
      "metadata": {
        "id": "diqt-GvIyXPM"
      }
    },
    {
      "cell_type": "markdown",
      "source": [
        "Que 19-> Explain the purpose of ‘’__str__’ and ‘__repr__’ ‘ methods in Python?\n",
        "\n",
        "Ans __str__(self):\n",
        "\n",
        "Purpose: To provide a user-friendly or \"informal\" string representation of an object. This representation is intended to be readable by humans.\n",
        "Called by:\n",
        "The built-in str() function.\n",
        "The print() function.\n",
        "Goal: To return a string that is easy to understand and provides a concise description of the object's state.\n",
        "class Person:\n",
        "    def __init__(self, name, age):\n",
        "        self.name = name\n",
        "        self.age = age\n",
        "\n",
        "    def __str__(self):\n",
        "        return f\"Person(name='{self.name}', age={self.age})\"\n",
        "\n",
        "person = Person(\"Alice\", 30)\n",
        "\n",
        "# Called by str()\n",
        "print(str(person)) # Output: Person(name='Alice', age=30)\n",
        "\n",
        "# Called by print()\n",
        "print(person)      # Output: Person(name='Alice', age=30)\n",
        "__repr__(self):\n",
        "\n",
        "Purpose: To provide an \"official\" or \"formal\" string representation of an object. This representation is intended to be unambiguous and, ideally, should be a valid Python expression that could be used to recreate the object.\n",
        "Called by:\n",
        "The built-in repr() function.\n",
        "Interactive Python sessions (like the one in Colab) when you simply type the object's name.\n",
        "Goal: To return a string that is useful for developers, especially for debugging and introspection. It should be as informative as possible about the object's state.\n"
      ],
      "metadata": {
        "id": "9z_NcPaTyYIO"
      }
    },
    {
      "source": [
        "class Person:\n",
        "    def __init__(self, name, age):\n",
        "        self.name = name\n",
        "        self.age = age\n",
        "\n",
        "    def __repr__(self):\n",
        "        return f\"Person(name='{self.name}', age={self.age})\"\n",
        "\n",
        "person = Person(\"Alice\", 30)\n",
        "\n",
        "# Called by repr()\n",
        "print(repr(person)) # Output: Person(name='Alice', age=30)\n",
        "\n",
        "# Called in an interactive session (if you just type 'person')\n",
        "# Output: Person(name='Alice', age=30)"
      ],
      "cell_type": "code",
      "metadata": {
        "id": "kT_6c-xly752"
      },
      "execution_count": null,
      "outputs": []
    },
    {
      "cell_type": "markdown",
      "source": [
        "Relationship between __str__ and __repr__:\n",
        "\n",
        "If a class defines __str__ but not __repr__, Python will use the __str__ representation when repr() is called.\n",
        "If a class defines __repr__ but not __str__, Python will use the __repr__ representation when str() or print() is called.\n",
        "If a class defines neither, Python will use a default representation that is usually not very informative (e.g., <__main__.Person object at 0x...>).\n",
        "Best Practice:\n",
        "\n",
        "It's generally recommended to define both __str__ and __repr__ for your classes.\n",
        "\n",
        "__repr__ should always be defined and should aim to be unambiguous and ideally represent how to recreate the object.\n",
        "__str__ should be defined if you need a more human-readable representation than what __repr__ provides.\n",
        "Think of __repr__ as being for developers and __str__ as being for end-users of your code (or for displaying output in a user-friendly way).\n",
        "\n",
        "Here's an example where __str__ and __repr__ are different:"
      ],
      "metadata": {
        "id": "EJ67kyP6zAMj"
      }
    },
    {
      "source": [
        "import datetime\n",
        "\n",
        "class MyDate:\n",
        "    def __init__(self, year, month, day):\n",
        "        self.year = year\n",
        "        self.month = month\n",
        "        self.day = day\n",
        "\n",
        "    def __str__(self):\n",
        "        return f\"{self.month}/{self.day}/{self.year}\" # User-friendly format\n",
        "\n",
        "    def __repr__(self):\n",
        "        return f\"MyDate({self.year}, {self.month}, {self.day})\" # Represents how to recreate the object\n",
        "\n",
        "date = MyDate(2023, 10, 26)\n",
        "\n",
        "print(str(date))  # Output: 10/26/2023\n",
        "print(repr(date)) # Output: MyDate(2023, 10, 26)\n",
        "print(date)       # Output: 10/26/2023 (print() calls __str__)"
      ],
      "cell_type": "code",
      "metadata": {
        "id": "5t59MhIFzCji"
      },
      "execution_count": null,
      "outputs": []
    },
    {
      "cell_type": "markdown",
      "source": [
        "Que 20-> What is the significance of the ‘super()’ function in Python?\n",
        "\n",
        "Ans The super() function in Python is used to refer to the parent class (or superclass) of the current class. Its primary purpose is to allow you to call methods and access attributes of the parent class from within a subclass.\n",
        "\n",
        "Here's the significance of super():\n",
        "\n",
        "Calling Parent Class Constructor (__init__): The most common use of super() is to call the constructor (__init__) of the parent class from within the subclass's constructor. This ensures that the parent class's attributes are properly initialized when a subclass object is created."
      ],
      "metadata": {
        "id": "oV3C9RLuzVx7"
      }
    },
    {
      "source": [
        "class Parent:\n",
        "    def __init__(self, value):\n",
        "        self.value = value\n",
        "        print(f\"Parent __init__ called with value: {self.value}\")\n",
        "\n",
        "class Child(Parent):\n",
        "    def __init__(self, value, extra_value):\n",
        "        super().__init__(value) # Call the parent class's __init__\n",
        "        self.extra_value = extra_value\n",
        "        print(f\"Child __init__ called with extra_value: {self.extra_value}\")\n",
        "\n",
        "# Creating a Child object\n",
        "child_obj = Child(10, 20)\n",
        "# Output:\n",
        "# Parent __init__ called with value: 10\n",
        "# Child __init__ called with extra_value: 20\n",
        "\n",
        "print(child_obj.value)       # Accessing attribute from parent\n",
        "print(child_obj.extra_value) # Accessing attribute from child"
      ],
      "cell_type": "code",
      "metadata": {
        "id": "YOOgdZidzpt_"
      },
      "execution_count": null,
      "outputs": []
    },
    {
      "cell_type": "markdown",
      "source": [
        "Without calling super().__init__(), the value attribute from the Parent class would not be initialized in the Child object. 2. Calling Overridden Methods in the Parent Class: When a subclass overrides a method that is also present in the parent class, you can use super() to call the parent class's implementation of that method from within the overridden method in the subclass. This allows you to extend or augment the parent class's behavior rather than completely replacing it."
      ],
      "metadata": {
        "id": "UyYeAVarzsdi"
      }
    },
    {
      "source": [
        "class Animal:\n",
        "    def make_sound(self):\n",
        "        print(\"Generic animal sound\")\n",
        "\n",
        "class Dog(Animal):\n",
        "    def make_sound(self):\n",
        "        super().make_sound() # Call the parent's make_sound()\n",
        "        print(\"Woof!\")       # Add specific behavior\n",
        "\n",
        "# Creating a Dog object\n",
        "dog = Dog()\n",
        "dog.make_sound()\n",
        "# Output:\n",
        "# Generic animal sound\n",
        "# Woof!"
      ],
      "cell_type": "code",
      "metadata": {
        "id": "brQcWuGCzvma"
      },
      "execution_count": null,
      "outputs": []
    },
    {
      "cell_type": "markdown",
      "source": [
        "In this example, the Dog's make_sound() method first calls the Animal's make_sound() using super() and then adds its own specific \"Woof!\" sound. 3. Working with Multiple Inheritance: In scenarios with multiple inheritance, super() becomes particularly important for correctly navigating the Method Resolution Order (MRO) and calling methods from the appropriate parent classes. When you use super(), Python's MRO determines which parent class's method is called."
      ],
      "metadata": {
        "id": "sfrWpos3zz0M"
      }
    },
    {
      "cell_type": "markdown",
      "source": [
        "Que 20-> What is the significance of the __del__ method in Python?\n",
        "\n",
        "Ans Purpose: The __del__ method, also known as the destructor, is called when an object's reference count drops to zero, and it is about to be garbage collected by Python's memory management system. Its primary purpose is to perform cleanup operations that might be necessary before the object is completely removed from memory.\n",
        "When it's Called:\n",
        "When the object is no longer referenced anywhere in the program (its reference count becomes zero).\n",
        "During the shutdown of the Python interpreter.\n",
        "Goal: To release external resources that the object might be holding onto, such as:\n",
        "Closing files\n",
        "Closing network connections\n",
        "Releasing locks or semaphores\n",
        "Cleaning up temporary resources\n",
        "Important Considerations and Caveats:\n",
        "\n",
        "Not Guaranteed Execution: Unlike constructors (__init__), the execution of __del__ is not strictly guaranteed. Python's garbage collector determines when and if __del__ is called. This can be influenced by factors like circular references or the state of the garbage collector. Relying on __del__ for critical cleanup operations is generally discouraged.\n",
        "Unpredictable Order: If you have multiple objects with __del__ methods that depend on each other, the order in which they are destroyed and their __del__ methods are called can be unpredictable. This can lead to issues if one object's __del__ method tries to access resources that have already been cleaned up by another object's __del__.\n",
        "Potential for Errors: Errors that occur within a __del__ method can be tricky to handle and might even prevent the object from being properly garbage collected, leading to resource leaks.\n",
        "Resource Management with with Statements: For managing resources like files and network connections, it is generally recommended to use with statements (which utilize context managers) instead of relying on __del__. with statements provide a more reliable and predictable way to ensure that resources are properly released, even if errors occur.\n",
        "Example:\n",
        "\n",
        "Here's a simple example demonstrating the __del__ method:"
      ],
      "metadata": {
        "id": "LnjDBgnOz-Cg"
      }
    },
    {
      "source": [
        "class MyResource:\n",
        "    def __init__(self, name):\n",
        "        self.name = name\n",
        "        print(f\"Resource '{self.name}' created.\")\n",
        "\n",
        "    def __del__(self):\n",
        "        print(f\"Resource '{self.name}' is being destroyed.\")\n",
        "\n",
        "# Create an object\n",
        "resource1 = MyResource(\"File A\")\n",
        "\n",
        "# The __del__ method will be called when resource1 is no longer referenced\n",
        "# This might happen when the program ends or when the object goes out of scope\n",
        "# You can also explicitly delete a reference, which might trigger __del__\n",
        "del resource1\n",
        "\n",
        "print(\"Program finished.\")"
      ],
      "cell_type": "code",
      "metadata": {
        "id": "I-0m_7q90q1K"
      },
      "execution_count": null,
      "outputs": []
    },
    {
      "cell_type": "markdown",
      "source": [
        "the output indicating that \"Resource 'File A' is being destroyed\" after \"Program finished.\" This is because the __del__ method is called when the object resource1 is garbage collected.\n",
        "\n",
        "When might you use __del__ (with caution):\n",
        "\n",
        "Despite the caveats, __del__ can still be useful in specific situations where:\n",
        "\n",
        "You are dealing with external resources that are not easily managed by context managers.\n",
        "You need to perform some cleanup in rare cases where other cleanup mechanisms might not be triggered.\n",
        "However, it's crucial to be aware of the limitations and potential issues when using __del__. For most resource management tasks, context managers (with statements) are the preferred approach."
      ],
      "metadata": {
        "id": "PAMYeMqy0yK9"
      }
    },
    {
      "cell_type": "markdown",
      "source": [
        "Que 22-> What is the difference between @staticmethod and @classmethod in Python?\n",
        "\n",
        "Ans Both @staticmethod and @classmethod are decorators that you can use to define methods within a class. However, they differ in how they are defined and how they receive their first argument.\n",
        "\n",
        "Here's a breakdown of each and their key differences:\n",
        "\n",
        "1. @classmethod:\n",
        "\n",
        "Definition: Defined using the @classmethod decorator above the method definition.\n",
        "First Argument: Automatically receives the class itself (conventionally named cls) as its first argument. This is the most significant difference from static methods.\n",
        "Purpose:\n",
        "Operate on the class itself or its attributes.\n",
        "Often used as factory methods to create instances of the class in different ways.\n",
        "Can access and modify class attributes.\n",
        "Can call other class methods."
      ],
      "metadata": {
        "id": "QVIAcYLy00j5"
      }
    },
    {
      "source": [
        "class MyClass:\n",
        "    class_attribute = \"I am a class attribute\"\n",
        "\n",
        "    @classmethod\n",
        "    def class_method(cls):\n",
        "        print(f\"Class method called. Class attribute: {cls.class_attribute}\")\n",
        "        # Can modify class attributes\n",
        "        cls.class_attribute = \"I have been modified by a class method\"\n",
        "\n",
        "    @classmethod\n",
        "    def create_instance(cls, value):\n",
        "        # Can use cls() to create an instance of the class\n",
        "        return cls(value)\n",
        "\n",
        "    def __init__(self, value):\n",
        "        self.value = value\n",
        "\n",
        "# Calling the class method using the class name\n",
        "MyClass.class_method()\n",
        "print(MyClass.class_attribute)\n",
        "\n",
        "# Using the class method as a factory to create an instance\n",
        "obj = MyClass.create_instance(10)\n",
        "print(obj.value)"
      ],
      "cell_type": "code",
      "metadata": {
        "id": "X0QTIKN-1I6P"
      },
      "execution_count": null,
      "outputs": []
    },
    {
      "cell_type": "markdown",
      "source": [
        "2. @staticmethod:\n",
        "\n",
        "Definition: Defined using the @staticmethod decorator above the method definition.\n",
        "First Argument: Does not automatically receive either the instance (self) or the class (cls) as its first argument. It behaves like a regular function that happens to be defined within the class's namespace.\n",
        "Purpose:\n",
        "Perform utility tasks that are logically related to the class but do not need access to instance-specific or class-specific data.\n",
        "They are like standalone functions that are grouped within the class for organizational purposes.\n",
        "Cannot access or modify instance or class attributes directly (unless passed as arguments)."
      ],
      "metadata": {
        "id": "4WrrQdGs1Odx"
      }
    },
    {
      "source": [
        "class MyClass:\n",
        "    @staticmethod\n",
        "    def static_method(x, y):\n",
        "        print(f\"Static method called. Sum: {x + y}\")\n",
        "\n",
        "    @staticmethod\n",
        "    def is_positive(number):\n",
        "        return number > 0\n",
        "\n",
        "# Calling the static method using the class name\n",
        "MyClass.static_method(5, 3)\n",
        "\n",
        "# Calling the static method using an instance (less common but possible)\n",
        "obj = MyClass(0) # Instance value doesn't matter for static method\n",
        "print(obj.is_positive(10))\n",
        "print(obj.is_positive(-5))"
      ],
      "cell_type": "code",
      "metadata": {
        "id": "gzmsCzuI1PZw"
      },
      "execution_count": null,
      "outputs": []
    },
    {
      "cell_type": "markdown",
      "source": [
        "Que 23-> How does polymorphism work in Python with inheritance?\n",
        "\n",
        "Ans\n",
        "1. Inheritance establishes the relationship: You have a superclass (parent) and one or more subclasses (children) that inherit from it. The superclass defines a common interface, often including methods that subclasses might need to implement or specialize.\n",
        "2. Method Overriding provides the specialization: Subclasses can provide their own unique implementations for methods that are already defined in their superclass. This is the mechanism that allows for different behaviors under the same method name.\n",
        "3. Polymorphism allows treating objects uniformly: Because of method overriding, you can write code that interacts with objects of different subclasses as if they were objects of the superclass. When you call a method on these objects, Python's runtime determines the actual type of the object and executes the corresponding overridden method from the subclass."
      ],
      "metadata": {
        "id": "MsB2WcAR1YCu"
      }
    },
    {
      "cell_type": "markdown",
      "source": [
        "Que 24-> What is method chaining in Python OOP?\n",
        "\n",
        "Ans Method chaining involves calling a method on an object, and that method then returns the same object (or a related object), allowing you to call another method on the result, and so on, in a chain.\n",
        "For method chaining to work, each method in the chain (except possibly the last one, depending on the desired final result) must return the object itself (self) or an object that supports the next method in the chain.\n",
        "Method chaining can make your code more concise and sometimes more readable, especially when performing a sequence of operations on the same object. It can be particularly useful in:\n",
        "\n",
        "Fluent Interfaces: Designing APIs where a series of operations are performed on an object in a natural, readable flow.\n",
        "Builder Patterns: Constructing complex objects step by step.\n",
        "Data Manipulation Libraries: Libraries like pandas often use method chaining for data transformation pipelines."
      ],
      "metadata": {
        "id": "J3QGQMvP1um4"
      }
    },
    {
      "cell_type": "markdown",
      "source": [
        "Que 25-> What is the purpose of the __call__ method in Python?\n",
        "\n",
        "Ans\n",
        "* Making Objects Callable: The primary purpose is to make instances of a class callable, just like functions. This means you can use an object as if it were a function, passing arguments to it and getting a return value.\n",
        "*Creating Functors: Objects that are callable are sometimes referred to as \"functors\" (a term borrowed from functional programming). They combine the characteristics of data (attributes) and behavior (the code in __call__).\n",
        "*Stateful Functions: __call__ allows you to create functions that can maintain state. Since the __call__ method is part of an object, it can access and modify the object's attributes, allowing the function's behavior to depend on or change based on its internal state.\n",
        "*Implementing Custom Callables: You can use __call__ to implement custom callable objects for various purposes, such as:\n",
        "     * Creating objects that act like functions but have configuration or state.\n",
        "     * Implementing decorators with arguments.\n",
        "     * Creating objects that represent mathematical functions or operations with parameters."
      ],
      "metadata": {
        "id": "YFWAZZj42RP6"
      }
    },
    {
      "cell_type": "markdown",
      "source": [
        "# ***Practical Questions***"
      ],
      "metadata": {
        "id": "BaNLsJot29UT"
      }
    },
    {
      "cell_type": "code",
      "metadata": {
        "colab": {
          "base_uri": "https://localhost:8080/"
        },
        "id": "520e42a0",
        "outputId": "1ccfc326-045e-43e7-ccc8-c6c7f111a0f2"
      },
      "source": [
        "# 1 Create a parent class Animal with a method speak() that prints a generic message. Create a child class Dog\n",
        "# that overrides the speak() method to print \"Bark!\".\n",
        "\n",
        "class Animal:\n",
        "    def speak(self):\n",
        "        print(\"Generic animal sound\")\n",
        "\n",
        "class Dog(Animal):\n",
        "    def speak(self):\n",
        "        print(\"Bark!\")\n",
        "\n",
        "# Create an instance of the Dog class and call the speak method\n",
        "my_dog = Dog()\n",
        "my_dog.speak()"
      ],
      "execution_count": null,
      "outputs": [
        {
          "output_type": "stream",
          "name": "stdout",
          "text": [
            "Bark!\n"
          ]
        }
      ]
    },
    {
      "cell_type": "code",
      "metadata": {
        "colab": {
          "base_uri": "https://localhost:8080/"
        },
        "id": "b35f2ecb",
        "outputId": "0f8a88d9-8eec-4f64-a324-fca58fc574c5"
      },
      "source": [
        "# Write a program to create an abstract class Shape with a method area(). Derive classes Circle and Rectangle\n",
        "# from it and implement the area() method in both.\n",
        "\n",
        "from abc import ABC, abstractmethod\n",
        "\n",
        "class Shape(ABC):\n",
        "    @abstractmethod\n",
        "    def area(self):\n",
        "        pass\n",
        "\n",
        "class Circle(Shape):\n",
        "    def __init__(self, radius):\n",
        "        self.radius = radius\n",
        "\n",
        "    def area(self):\n",
        "        return 3.14 * self.radius * self.radius\n",
        "\n",
        "class Rectangle(Shape):\n",
        "    def __init__(self, width, height):\n",
        "        self.width = width\n",
        "        self.height = height\n",
        "\n",
        "    def area(self):\n",
        "        return self.width * self.height\n",
        "\n",
        "# Create instances of the concrete classes\n",
        "circle = Circle(5)\n",
        "rectangle = Rectangle(4, 6)\n",
        "\n",
        "# Calculate and print the areas\n",
        "print(f\"Area of Circle: {circle.area()}\")\n",
        "print(f\"Area of Rectangle: {rectangle.area()}\")"
      ],
      "execution_count": null,
      "outputs": [
        {
          "output_type": "stream",
          "name": "stdout",
          "text": [
            "Area of Circle: 78.5\n",
            "Area of Rectangle: 24\n"
          ]
        }
      ]
    },
    {
      "cell_type": "code",
      "metadata": {
        "colab": {
          "base_uri": "https://localhost:8080/"
        },
        "id": "6e8bba47",
        "outputId": "899b1ae9-e63f-4fa9-8509-7992d260ac8f"
      },
      "source": [
        "# Implement a multi-level inheritance scenario where a class Vehicle has an attribute type. Derive a class Car and further derive a class ElectricCar that adds a battery attribute.\n",
        "\n",
        "class Vehicle:\n",
        "    def __init__(self, vehicle_type):\n",
        "        self.type = vehicle_type\n",
        "        print(f\"Vehicle of type: {self.type} created.\")\n",
        "\n",
        "class Car(Vehicle):\n",
        "    def __init__(self, car_type, model):\n",
        "        super().__init__(car_type)\n",
        "        self.model = model\n",
        "        print(f\"Car model: {self.model} created.\")\n",
        "\n",
        "class ElectricCar(Car):\n",
        "    def __init__(self, car_type, model, battery_capacity):\n",
        "        super().__init__(car_type, model)\n",
        "        self.battery = battery_capacity\n",
        "        print(f\"Electric Car with battery capacity: {self.battery} kWh created.\")\n",
        "\n",
        "# Create an instance of ElectricCar\n",
        "my_electric_car = ElectricCar(\"Electric\", \"Model S\", 100)\n",
        "\n",
        "# Access attributes from different levels of inheritance\n",
        "print(f\"Vehicle type: {my_electric_car.type}\")\n",
        "print(f\"Car model: {my_electric_car.model}\")\n",
        "print(f\"Battery capacity: {my_electric_car.battery} kWh\")"
      ],
      "execution_count": null,
      "outputs": [
        {
          "output_type": "stream",
          "name": "stdout",
          "text": [
            "Vehicle of type: Electric created.\n",
            "Car model: Model S created.\n",
            "Electric Car with battery capacity: 100 kWh created.\n",
            "Vehicle type: Electric\n",
            "Car model: Model S\n",
            "Battery capacity: 100 kWh\n"
          ]
        }
      ]
    },
    {
      "cell_type": "code",
      "metadata": {
        "colab": {
          "base_uri": "https://localhost:8080/"
        },
        "id": "c30dfcad",
        "outputId": "be787ddf-07f2-4a66-d672-f8f98d3562ef"
      },
      "source": [
        "# Demonstrate polymorphism by creating a base class Bird with a method fly(). Create two derived classes Sparrow and Penguin that override the fly() method.\n",
        "class Bird:\n",
        "    def fly(self):\n",
        "        print(\"Most birds can fly.\")\n",
        "\n",
        "class Sparrow(Bird):\n",
        "    def fly(self):\n",
        "        print(\"Sparrows can fly.\")\n",
        "\n",
        "class Penguin(Bird):\n",
        "    def fly(self):\n",
        "        print(\"Penguins cannot fly. They swim!\")\n",
        "\n",
        "# Create a list of different bird objects\n",
        "birds = [Sparrow(), Penguin(), Bird()]\n",
        "\n",
        "# Call the fly() method on each object in the list\n",
        "for bird in birds:\n",
        "    bird.fly()"
      ],
      "execution_count": null,
      "outputs": [
        {
          "output_type": "stream",
          "name": "stdout",
          "text": [
            "Sparrows can fly.\n",
            "Penguins cannot fly. They swim!\n",
            "Most birds can fly.\n"
          ]
        }
      ]
    },
    {
      "cell_type": "code",
      "metadata": {
        "colab": {
          "base_uri": "https://localhost:8080/"
        },
        "id": "e42bd46a",
        "outputId": "54454d98-c7b8-44bc-cbfe-f133d27ef16e"
      },
      "source": [
        "# 5  Write a program to demonstrate encapsulation by creating a class BankAccount with private attributes balance and methods to deposit, withdraw, and check balance.\n",
        "\n",
        "class BankAccount:\n",
        "    def __init__(self, initial_balance=0):\n",
        "        # Using name mangling to indicate a private attribute\n",
        "        self.__balance = initial_balance\n",
        "        print(f\"Account created with initial balance: {self.__balance}\")\n",
        "\n",
        "    def deposit(self, amount):\n",
        "        if amount > 0:\n",
        "            self.__balance += amount\n",
        "            print(f\"Deposited: {amount}. New balance: {self.__balance}\")\n",
        "        else:\n",
        "            print(\"Deposit amount must be positive.\")\n",
        "\n",
        "    def withdraw(self, amount):\n",
        "        if amount > 0:\n",
        "            if self.__balance >= amount:\n",
        "                self.__balance -= amount\n",
        "                print(f\"Withdrew: {amount}. New balance: {self.__balance}\")\n",
        "            else:\n",
        "                print(\"Insufficient funds.\")\n",
        "        else:\n",
        "            print(\"Withdrawal amount must be positive.\")\n",
        "\n",
        "    def get_balance(self):\n",
        "        # Providing a public method to access the private balance\n",
        "        return self.__balance\n",
        "\n",
        "# Create a bank account\n",
        "my_account = BankAccount(1000)\n",
        "\n",
        "# Deposit and withdraw\n",
        "my_account.deposit(500)\n",
        "my_account.withdraw(200)\n",
        "my_account.withdraw(1500) # Insufficient funds\n",
        "\n",
        "# Check balance using the public method\n",
        "print(f\"Current balance: {my_account.get_balance()}\")\n",
        "\n",
        "# Attempting to access the private attribute directly will raise an error (due to name mangling)\n",
        "# try:\n",
        "#     print(my_account.__balance)\n",
        "# except AttributeError as e:\n",
        "#     print(f\"Error accessing private attribute directly: {e}\")\n",
        "\n",
        "# Accessing the mangled name (discouraged)\n",
        "# print(my_account._BankAccount__balance)"
      ],
      "execution_count": null,
      "outputs": [
        {
          "output_type": "stream",
          "name": "stdout",
          "text": [
            "Account created with initial balance: 1000\n",
            "Deposited: 500. New balance: 1500\n",
            "Withdrew: 200. New balance: 1300\n",
            "Insufficient funds.\n",
            "Current balance: 1300\n"
          ]
        }
      ]
    },
    {
      "cell_type": "code",
      "metadata": {
        "colab": {
          "base_uri": "https://localhost:8080/"
        },
        "id": "ab511ff7",
        "outputId": "36beb368-989a-4d48-e10f-b60349c54a33"
      },
      "source": [
        "#  Demonstrate runtime polymorphism using a method play() in a base class Instrument. Derive classes Guitar and Piano that implement their own version of play().\n",
        "class Instrument:\n",
        "    def play(self):\n",
        "        print(\"Playing a generic instrument sound\")\n",
        "\n",
        "class Guitar(Instrument):\n",
        "    def play(self):\n",
        "        print(\"Playing a guitar riff\")\n",
        "\n",
        "class Piano(Instrument):\n",
        "    def play(self):\n",
        "        print(\"Playing a piano melody\")\n",
        "\n",
        "# Create a list of different instrument objects\n",
        "instruments = [Guitar(), Piano(), Instrument()]\n",
        "\n",
        "# Call the play() method on each object in the list\n",
        "for instrument in instruments:\n",
        "    instrument.play()"
      ],
      "execution_count": null,
      "outputs": [
        {
          "output_type": "stream",
          "name": "stdout",
          "text": [
            "Playing a guitar riff\n",
            "Playing a piano melody\n",
            "Playing a generic instrument sound\n"
          ]
        }
      ]
    },
    {
      "cell_type": "code",
      "metadata": {
        "colab": {
          "base_uri": "https://localhost:8080/"
        },
        "id": "6ac07a36",
        "outputId": "2ab1e9ce-943b-4b23-ce43-5c370939e058"
      },
      "source": [
        "#7  Create a class MathOperations with a class method add_numbers() to add two numbers and a static method subtract_numbers() to subtract two numbers.\n",
        "\n",
        "class MathOperations:\n",
        "    @classmethod\n",
        "    def add_numbers(cls, x, y):\n",
        "        \"\"\"Class method to add two numbers.\"\"\"\n",
        "        print(f\"Adding {x} and {y} using a class method.\")\n",
        "        return x + y\n",
        "\n",
        "    @staticmethod\n",
        "    def subtract_numbers(x, y):\n",
        "        \"\"\"Static method to subtract two numbers.\"\"\"\n",
        "        print(f\"Subtracting {y} from {x} using a static method.\")\n",
        "        return x - y\n",
        "\n",
        "# Using the class method\n",
        "sum_result = MathOperations.add_numbers(10, 5)\n",
        "print(f\"Sum: {sum_result}\")\n",
        "\n",
        "# Using the static method\n",
        "difference_result = MathOperations.subtract_numbers(10, 5)\n",
        "print(f\"Difference: {difference_result}\")\n",
        "\n",
        "# You can also call these methods on an instance, although it's less common for static methods\n",
        "# math_obj = MathOperations()\n",
        "# sum_result_instance = math_obj.add_numbers(20, 10)\n",
        "# print(f\"Sum (via instance): {sum_result_instance}\")\n",
        "# difference_result_instance = math_obj.subtract_numbers(20, 10)\n",
        "# print(f\"Difference (via instance): {difference_result_instance}\")"
      ],
      "execution_count": null,
      "outputs": [
        {
          "output_type": "stream",
          "name": "stdout",
          "text": [
            "Adding 10 and 5 using a class method.\n",
            "Sum: 15\n",
            "Subtracting 5 from 10 using a static method.\n",
            "Difference: 5\n"
          ]
        }
      ]
    },
    {
      "cell_type": "code",
      "metadata": {
        "colab": {
          "base_uri": "https://localhost:8080/"
        },
        "id": "8815c8b6",
        "outputId": "03f4bc09-f70c-4bbe-da25-ab7a0a3a7905"
      },
      "source": [
        "#Implement a class Person with a class method to count the total number of persons created.\n",
        "\n",
        "class Person:\n",
        "    # Class variable to keep track of the number of Person objects\n",
        "    person_count = 0\n",
        "\n",
        "    def __init__(self, name):\n",
        "        self.name = name\n",
        "        # Increment the class variable every time a new Person object is created\n",
        "        Person.person_count += 1\n",
        "        print(f\"Person '{self.name}' created.\")\n",
        "\n",
        "    @classmethod\n",
        "    def get_person_count(cls):\n",
        "        \"\"\"Class method to get the total number of persons created.\"\"\"\n",
        "        return cls.person_count\n",
        "\n",
        "# Create several Person objects\n",
        "person1 = Person(\"Alice\")\n",
        "person2 = Person(\"Bob\")\n",
        "person3 = Person(\"Charlie\")\n",
        "\n",
        "# Get the total number of persons using the class method\n",
        "total_persons = Person.get_person_count()\n",
        "print(f\"Total number of persons created: {total_persons}\")"
      ],
      "execution_count": null,
      "outputs": [
        {
          "output_type": "stream",
          "name": "stdout",
          "text": [
            "Person 'Alice' created.\n",
            "Person 'Bob' created.\n",
            "Person 'Charlie' created.\n",
            "Total number of persons created: 3\n"
          ]
        }
      ]
    },
    {
      "cell_type": "code",
      "metadata": {
        "colab": {
          "base_uri": "https://localhost:8080/"
        },
        "id": "97249382",
        "outputId": "7c997be2-8291-44d7-a615-688eb3137ff3"
      },
      "source": [
        "#9 Write a class Fraction with attributes numerator and denominator. Override the str method to display the fraction as \"numerator/denominator\".\n",
        "class Fraction:\n",
        "    def __init__(self, numerator, denominator):\n",
        "        self.numerator = numerator\n",
        "        self.denominator = denominator\n",
        "\n",
        "    def __str__(self):\n",
        "        \"\"\"Override the str method to display the fraction.\"\"\"\n",
        "        return f\"{self.numerator}/{self.denominator}\"\n",
        "\n",
        "# Create a Fraction object\n",
        "my_fraction = Fraction(3, 4)\n",
        "\n",
        "# Print the object, which will call the __str__ method\n",
        "print(my_fraction)\n",
        "\n",
        "# You can also explicitly call str()\n",
        "print(str(my_fraction))"
      ],
      "execution_count": null,
      "outputs": [
        {
          "output_type": "stream",
          "name": "stdout",
          "text": [
            "3/4\n",
            "3/4\n"
          ]
        }
      ]
    },
    {
      "cell_type": "code",
      "metadata": {
        "colab": {
          "base_uri": "https://localhost:8080/"
        },
        "id": "46286af7",
        "outputId": "162bc10e-2085-4e4d-a7d4-9331c6777fc8"
      },
      "source": [
        "# 10 Demonstrate operator overloading by creating a class Vector and overriding the add method to add twovectors.\n",
        "\n",
        "class Vector:\n",
        "    def __init__(self, x, y):\n",
        "        self.x = x\n",
        "        self.y = y\n",
        "\n",
        "    def __str__(self):\n",
        "        return f\"Vector({self.x}, {self.y})\"\n",
        "\n",
        "    def __add__(self, other):\n",
        "        \"\"\"Overload the + operator to add two vectors.\"\"\"\n",
        "        if isinstance(other, Vector):\n",
        "            return Vector(self.x + other.x, self.y + other.y)\n",
        "        else:\n",
        "            raise TypeError(\"Can only add a Vector object to another Vector object\")\n",
        "\n",
        "# Create two Vector objects\n",
        "vector1 = Vector(2, 3)\n",
        "vector2 = Vector(1, 4)\n",
        "\n",
        "# Add the two vectors using the + operator (which calls the __add__ method)\n",
        "sum_vector = vector1 + vector2\n",
        "\n",
        "# Print the resulting vector\n",
        "print(sum_vector)\n",
        "\n",
        "# Attempting to add a Vector and a non-Vector (will raise a TypeError)\n",
        "# try:\n",
        "#     invalid_sum = vector1 + 5\n",
        "# except TypeError as e:\n",
        "#     print(f\"Error: {e}\")"
      ],
      "execution_count": null,
      "outputs": [
        {
          "output_type": "stream",
          "name": "stdout",
          "text": [
            "Vector(3, 7)\n"
          ]
        }
      ]
    },
    {
      "cell_type": "code",
      "metadata": {
        "colab": {
          "base_uri": "https://localhost:8080/"
        },
        "id": "84fdcd35",
        "outputId": "cbe1cd5f-2f31-44a1-f0aa-ea39270d9fcc"
      },
      "source": [
        "#11  Create a class Person with attributes name and age. Add a method greet() that prints \"Hello, my name is {name} and I am {age} years old.\"\n",
        "class Person:\n",
        "    def __init__(self, name, age):\n",
        "        self.name = name\n",
        "        self.age = age\n",
        "\n",
        "    def greet(self):\n",
        "        print(f\"Hello, my name is {self.name} and I am {self.age} years old.\")\n",
        "\n",
        "# Create an instance of the Person class\n",
        "person1 = Person(\"Alice\", 30)\n",
        "\n",
        "# Call the greet method\n",
        "person1.greet()"
      ],
      "execution_count": null,
      "outputs": [
        {
          "output_type": "stream",
          "name": "stdout",
          "text": [
            "Hello, my name is Alice and I am 30 years old.\n"
          ]
        }
      ]
    },
    {
      "cell_type": "code",
      "metadata": {
        "colab": {
          "base_uri": "https://localhost:8080/"
        },
        "id": "c79e6778",
        "outputId": "f7811153-ff8b-4823-af4c-b4780be92d99"
      },
      "source": [
        "#12 Implement a class Student with attributes name and grades. Create a method average_grade() to compute the average of the grades.\n",
        "\n",
        "class Student:\n",
        "    def __init__(self, name, grades):\n",
        "        self.name = name\n",
        "        self.grades = grades\n",
        "\n",
        "    def average_grade(self):\n",
        "        \"\"\"Computes the average of the grades.\"\"\"\n",
        "        if not self.grades:\n",
        "            return 0  # Return 0 if there are no grades\n",
        "        return sum(self.grades) / len(self.grades)\n",
        "\n",
        "# Create an instance of the Student class\n",
        "student1 = Student(\"Alice\", [85, 90, 78, 92])\n",
        "\n",
        "# Compute and print the average grade\n",
        "average = student1.average_grade()\n",
        "print(f\"{student1.name}'s average grade: {average}\")\n",
        "\n",
        "# Example with no grades\n",
        "student2 = Student(\"Bob\", [])\n",
        "average_bob = student2.average_grade()\n",
        "print(f\"{student2.name}'s average grade: {average_bob}\")"
      ],
      "execution_count": null,
      "outputs": [
        {
          "output_type": "stream",
          "name": "stdout",
          "text": [
            "Alice's average grade: 86.25\n",
            "Bob's average grade: 0\n"
          ]
        }
      ]
    },
    {
      "cell_type": "code",
      "metadata": {
        "colab": {
          "base_uri": "https://localhost:8080/"
        },
        "id": "b0194901",
        "outputId": "5d4ffcc1-ea06-459a-96bd-d6d687b25bd3"
      },
      "source": [
        "# 13  Create a class Rectangle with methods set_dimensions() to set the dimensions and area() to calculate the area\n",
        "class Rectangle:\n",
        "    def __init__(self):\n",
        "        self.width = 0\n",
        "        self.height = 0\n",
        "\n",
        "    def set_dimensions(self, width, height):\n",
        "        \"\"\"Sets the dimensions of the rectangle.\"\"\"\n",
        "        if width >= 0 and height >= 0:\n",
        "            self.width = width\n",
        "            self.height = height\n",
        "            print(f\"Dimensions set to: Width = {self.width}, Height = {self.height}\")\n",
        "        else:\n",
        "            print(\"Dimensions must be non-negative.\")\n",
        "\n",
        "    def area(self):\n",
        "        \"\"\"Calculates the area of the rectangle.\"\"\"\n",
        "        return self.width * self.height\n",
        "\n",
        "# Create an instance of the Rectangle class\n",
        "rectangle1 = Rectangle()\n",
        "\n",
        "# Set dimensions and calculate area\n",
        "rectangle1.set_dimensions(10, 5)\n",
        "print(f\"Area of rectangle: {rectangle1.area()}\")\n",
        "\n",
        "# Try setting invalid dimensions\n",
        "rectangle1.set_dimensions(-2, 5)\n",
        "print(f\"Area of rectangle: {rectangle1.area()}\") # Area remains based on previous valid dimensions"
      ],
      "execution_count": null,
      "outputs": [
        {
          "output_type": "stream",
          "name": "stdout",
          "text": [
            "Dimensions set to: Width = 10, Height = 5\n",
            "Area of rectangle: 50\n",
            "Dimensions must be non-negative.\n",
            "Area of rectangle: 50\n"
          ]
        }
      ]
    },
    {
      "cell_type": "code",
      "metadata": {
        "colab": {
          "base_uri": "https://localhost:8080/"
        },
        "id": "89bfb0de",
        "outputId": "ea2b3925-b7f7-4cb0-cdbd-5e84f5cc2546"
      },
      "source": [
        "# 14 Create a class Employee with a method calculate_salary() that computes the salary based on hours worked and hourly rate. Create a derived class Manager that adds a bonus to the salary.\n",
        "class Employee:\n",
        "    def __init__(self, name, hourly_rate):\n",
        "        self.name = name\n",
        "        self.hourly_rate = hourly_rate\n",
        "\n",
        "    def calculate_salary(self, hours_worked):\n",
        "        \"\"\"Computes the salary based on hours worked and hourly rate.\"\"\"\n",
        "        return hours_worked * self.hourly_rate\n",
        "\n",
        "class Manager(Employee):\n",
        "    def __init__(self, name, hourly_rate, bonus):\n",
        "        super().__init__(name, hourly_rate)\n",
        "        self.bonus = bonus\n",
        "\n",
        "    def calculate_salary(self, hours_worked):\n",
        "        \"\"\"Computes the salary with an added bonus.\"\"\"\n",
        "        base_salary = super().calculate_salary(hours_worked)\n",
        "        return base_salary + self.bonus\n",
        "\n",
        "# Create instances\n",
        "employee1 = Employee(\"Alice\", 20)\n",
        "manager1 = Manager(\"Bob\", 25, 500)\n",
        "\n",
        "# Calculate and print salaries\n",
        "print(f\"{employee1.name}'s salary: ${employee1.calculate_salary(40)}\")\n",
        "print(f\"{manager1.name}'s salary: ${manager1.calculate_salary(40)}\")"
      ],
      "execution_count": null,
      "outputs": [
        {
          "output_type": "stream",
          "name": "stdout",
          "text": [
            "Alice's salary: $800\n",
            "Bob's salary: $1500\n"
          ]
        }
      ]
    },
    {
      "cell_type": "code",
      "metadata": {
        "colab": {
          "base_uri": "https://localhost:8080/"
        },
        "id": "4e172456",
        "outputId": "7cded7a5-8c26-4244-ef90-1476a318e2d8"
      },
      "source": [
        "# 15 Create a class Product with attributes name, price, and quantity. Implement a method total_price() that calculates the total price of the product.\n",
        "class Product:\n",
        "    def __init__(self, name, price, quantity):\n",
        "        self.name = name\n",
        "        self.price = price\n",
        "        self.quantity = quantity\n",
        "\n",
        "    def total_price(self):\n",
        "        \"\"\"Calculates the total price of the product.\"\"\"\n",
        "        return self.price * self.quantity\n",
        "\n",
        "# Create an instance of the Product class\n",
        "product1 = Product(\"Laptop\", 1200, 1)\n",
        "product2 = Product(\"Mouse\", 25, 5)\n",
        "\n",
        "# Calculate and print the total prices\n",
        "print(f\"Total price for {product1.name}: ${product1.total_price()}\")\n",
        "print(f\"Total price for {product2.name}: ${product2.total_price()}\")"
      ],
      "execution_count": null,
      "outputs": [
        {
          "output_type": "stream",
          "name": "stdout",
          "text": [
            "Total price for Laptop: $1200\n",
            "Total price for Mouse: $125\n"
          ]
        }
      ]
    },
    {
      "cell_type": "code",
      "metadata": {
        "colab": {
          "base_uri": "https://localhost:8080/"
        },
        "id": "c2894fbd",
        "outputId": "e14a087d-9b9c-432b-f131-ffd34832f834"
      },
      "source": [
        "#16 Create a class Animal with an abstract method sound(). Create two derived classes Cow and Sheep that implement the sound() method.\n",
        "from abc import ABC, abstractmethod\n",
        "\n",
        "class Animal(ABC):\n",
        "    @abstractmethod\n",
        "    def sound(self):\n",
        "        pass\n",
        "\n",
        "class Cow(Animal):\n",
        "    def sound(self):\n",
        "        print(\"Moo!\")\n",
        "\n",
        "class Sheep(Animal):\n",
        "    def sound(self):\n",
        "        print(\"Baa!\")\n",
        "\n",
        "# Create instances of the concrete classes\n",
        "cow = Cow()\n",
        "sheep = Sheep()\n",
        "\n",
        "# Call the sound() method on each object\n",
        "cow.sound()\n",
        "sheep.sound()"
      ],
      "execution_count": null,
      "outputs": [
        {
          "output_type": "stream",
          "name": "stdout",
          "text": [
            "Moo!\n",
            "Baa!\n"
          ]
        }
      ]
    },
    {
      "cell_type": "code",
      "metadata": {
        "colab": {
          "base_uri": "https://localhost:8080/"
        },
        "id": "036705a8",
        "outputId": "05e92a2b-f331-4988-900f-e103d137f839"
      },
      "source": [
        "#17  Create a class Book with attributes title, author, and year_published. Add a method get_book_info() that returns a formatted string with the book's details.\n",
        "class Book:\n",
        "    def __init__(self, title, author, year_published):\n",
        "        self.title = title\n",
        "        self.author = author\n",
        "        self.year_published = year_published\n",
        "\n",
        "    def get_book_info(self):\n",
        "        \"\"\"Returns a formatted string with the book's details.\"\"\"\n",
        "        return f\"'{self.title}' by {self.author}, published in {self.year_published}\"\n",
        "\n",
        "# Create an instance of the Book class\n",
        "book1 = Book(\"The Hitchhiker's Guide to the Galaxy\", \"Douglas Adams\", 1979)\n",
        "\n",
        "# Get and print the book information\n",
        "book_info = book1.get_book_info()\n",
        "print(book_info)"
      ],
      "execution_count": null,
      "outputs": [
        {
          "output_type": "stream",
          "name": "stdout",
          "text": [
            "'The Hitchhiker's Guide to the Galaxy' by Douglas Adams, published in 1979\n"
          ]
        }
      ]
    },
    {
      "cell_type": "code",
      "metadata": {
        "colab": {
          "base_uri": "https://localhost:8080/"
        },
        "id": "7fbaff2a",
        "outputId": "fe0aee63-ff1c-40bb-9895-ad319ae7c7fa"
      },
      "source": [
        "#18  Create a class House with attributes address and price. Create a derived class Mansion that adds an attribute number_of_rooms.\n",
        "class House:\n",
        "    def __init__(self, address, price):\n",
        "        self.address = address\n",
        "        self.price = price\n",
        "        print(f\"House at {self.address} created with price ${self.price}.\")\n",
        "\n",
        "class Mansion(House):\n",
        "    def __init__(self, address, price, number_of_rooms):\n",
        "        super().__init__(address, price)\n",
        "        self.number_of_rooms = number_of_rooms\n",
        "        print(f\"Mansion created with {self.number_of_rooms} rooms.\")\n",
        "\n",
        "# Create an instance of the Mansion class\n",
        "my_mansion = Mansion(\"123 Luxury Lane\", 5000000, 20)\n",
        "\n",
        "# Access attributes from both classes\n",
        "print(f\"Address: {my_mansion.address}\")\n",
        "print(f\"Price: ${my_mansion.price}\")\n",
        "print(f\"Number of rooms: {my_mansion.number_of_rooms}\")"
      ],
      "execution_count": null,
      "outputs": [
        {
          "output_type": "stream",
          "name": "stdout",
          "text": [
            "House at 123 Luxury Lane created with price $5000000.\n",
            "Mansion created with 20 rooms.\n",
            "Address: 123 Luxury Lane\n",
            "Price: $5000000\n",
            "Number of rooms: 20\n"
          ]
        }
      ]
    }
  ]
}